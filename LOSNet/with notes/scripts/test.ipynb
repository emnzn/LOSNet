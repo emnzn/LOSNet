{
 "cells": [
  {
   "cell_type": "code",
   "execution_count": 1,
   "metadata": {},
   "outputs": [
    {
     "name": "stderr",
     "output_type": "stream",
     "text": [
      "/Users/ericmonzon/mambaforge/envs/pytorch/lib/python3.12/site-packages/tqdm/auto.py:21: TqdmWarning: IProgress not found. Please update jupyter and ipywidgets. See https://ipywidgets.readthedocs.io/en/stable/user_install.html\n",
      "  from .autonotebook import tqdm as notebook_tqdm\n"
     ]
    }
   ],
   "source": [
    "import os\n",
    "import torch\n",
    "import numpy as np\n",
    "import pandas as pd\n",
    "import torch.nn as nn\n",
    "import seaborn as sns\n",
    "from joblib import load\n",
    "from tqdm import tqdm\n",
    "import matplotlib.pyplot as plt\n",
    "from torch.utils.data import DataLoader\n",
    "from multimodal import MultimodalClassifierDataset, LOSNetWeighted, collation\n",
    "from sklearn.metrics import f1_score, balanced_accuracy_score, confusion_matrix, precision_score"
   ]
  },
  {
   "cell_type": "code",
   "execution_count": 2,
   "metadata": {},
   "outputs": [],
   "source": [
    "base_path = '../data/split/with-outliers/combined/one-hot-encoded'\n",
    "\n",
    "static_val = pd.read_csv(f'{base_path}/static_val.csv')\n",
    "static_test = pd.read_csv(f'{base_path}/static_test.csv')"
   ]
  },
  {
   "cell_type": "code",
   "execution_count": 3,
   "metadata": {},
   "outputs": [],
   "source": [
    "to_drop = ['los_icu', 'icu_death']\n",
    "\n",
    "to_scale = [\n",
    "    'admission_age',\n",
    "    'weight_admit',\n",
    "    'charlson_score',\n",
    " ]"
   ]
  },
  {
   "cell_type": "code",
   "execution_count": 4,
   "metadata": {},
   "outputs": [],
   "source": [
    "feature_cols = [col for col in static_val.select_dtypes(include=[np.number]).columns.tolist() if col not in to_drop]\n",
    "\n",
    "static_val = static_val[feature_cols]\n",
    "static_test = static_test[feature_cols]"
   ]
  },
  {
   "cell_type": "code",
   "execution_count": 5,
   "metadata": {},
   "outputs": [],
   "source": [
    "static_scaler = load('../scalers/static_scaler.joblib')\n",
    "\n",
    "static_val[to_scale] = static_scaler.transform(static_val[to_scale])\n",
    "static_test[to_scale] = static_scaler.transform(static_test[to_scale])"
   ]
  },
  {
   "cell_type": "code",
   "execution_count": 6,
   "metadata": {},
   "outputs": [],
   "source": [
    "dynamic = pd.read_csv('../data/dynamic_cleaned.csv')\n",
    "\n",
    "dynamic_val = dynamic[dynamic['id'].isin(static_val['id'])].copy()\n",
    "dynamic_test = dynamic[dynamic['id'].isin(static_test['id'])].copy()"
   ]
  },
  {
   "cell_type": "code",
   "execution_count": 7,
   "metadata": {},
   "outputs": [],
   "source": [
    "def truncate_and_average(df, id_col, max_records=4):\n",
    "    df_sorted = df.sort_values(by=[id_col, 'charttime'])\n",
    "\n",
    "    def process_group(group):\n",
    "        if len(group) > max_records:\n",
    "            average_data = group.iloc[:-max_records].drop(columns=['charttime']).mean().to_dict()\n",
    "            average_data[id_col] = group[id_col].iloc[0]\n",
    "            average_row = pd.DataFrame([average_data])\n",
    "\n",
    "            return pd.concat([average_row, group.tail(max_records)], ignore_index=True)\n",
    "        else:\n",
    "            return group\n",
    "\n",
    "    return df_sorted.groupby(id_col).apply(process_group).reset_index(drop=True)\n"
   ]
  },
  {
   "cell_type": "code",
   "execution_count": 8,
   "metadata": {},
   "outputs": [
    {
     "name": "stderr",
     "output_type": "stream",
     "text": [
      "/var/folders/px/_hyh_81j2wx_d8kw_xzcl9hr0000gn/T/ipykernel_69487/824680910.py:14: DeprecationWarning: DataFrameGroupBy.apply operated on the grouping columns. This behavior is deprecated, and in a future version of pandas the grouping columns will be excluded from the operation. Either pass `include_groups=False` to exclude the groupings or explicitly select the grouping columns after groupby to silence this warning.\n",
      "  return df_sorted.groupby(id_col).apply(process_group).reset_index(drop=True)\n",
      "/var/folders/px/_hyh_81j2wx_d8kw_xzcl9hr0000gn/T/ipykernel_69487/824680910.py:14: DeprecationWarning: DataFrameGroupBy.apply operated on the grouping columns. This behavior is deprecated, and in a future version of pandas the grouping columns will be excluded from the operation. Either pass `include_groups=False` to exclude the groupings or explicitly select the grouping columns after groupby to silence this warning.\n",
      "  return df_sorted.groupby(id_col).apply(process_group).reset_index(drop=True)\n"
     ]
    }
   ],
   "source": [
    "dynamic_val = truncate_and_average(dynamic_val, 'id')\n",
    "dynamic_test = truncate_and_average(dynamic_test, 'id')"
   ]
  },
  {
   "cell_type": "code",
   "execution_count": 9,
   "metadata": {},
   "outputs": [
    {
     "data": {
      "text/plain": [
       "count    1940.000000\n",
       "mean        4.059278\n",
       "std         0.883691\n",
       "min         3.000000\n",
       "25%         3.000000\n",
       "50%         4.000000\n",
       "75%         5.000000\n",
       "max         5.000000\n",
       "dtype: float64"
      ]
     },
     "execution_count": 9,
     "metadata": {},
     "output_type": "execute_result"
    }
   ],
   "source": [
    "dynamic_val.groupby('id').size().describe()"
   ]
  },
  {
   "cell_type": "code",
   "execution_count": 10,
   "metadata": {},
   "outputs": [
    {
     "data": {
      "text/plain": [
       "count    776.000000\n",
       "mean       4.103093\n",
       "std        0.898567\n",
       "min        3.000000\n",
       "25%        3.000000\n",
       "50%        4.000000\n",
       "75%        5.000000\n",
       "max        5.000000\n",
       "dtype: float64"
      ]
     },
     "execution_count": 10,
     "metadata": {},
     "output_type": "execute_result"
    }
   ],
   "source": [
    "dynamic_test.groupby('id').size().describe()"
   ]
  },
  {
   "cell_type": "code",
   "execution_count": 11,
   "metadata": {},
   "outputs": [
    {
     "data": {
      "text/html": [
       "<div>\n",
       "<style scoped>\n",
       "    .dataframe tbody tr th:only-of-type {\n",
       "        vertical-align: middle;\n",
       "    }\n",
       "\n",
       "    .dataframe tbody tr th {\n",
       "        vertical-align: top;\n",
       "    }\n",
       "\n",
       "    .dataframe thead th {\n",
       "        text-align: right;\n",
       "    }\n",
       "</style>\n",
       "<table border=\"1\" class=\"dataframe\">\n",
       "  <thead>\n",
       "    <tr style=\"text-align: right;\">\n",
       "      <th></th>\n",
       "      <th>id</th>\n",
       "      <th>charttime</th>\n",
       "      <th>aniongap</th>\n",
       "      <th>bicarbonate</th>\n",
       "      <th>bun</th>\n",
       "      <th>calcium</th>\n",
       "      <th>chloride</th>\n",
       "      <th>creatinine</th>\n",
       "      <th>glucose</th>\n",
       "      <th>sodium</th>\n",
       "      <th>potassium</th>\n",
       "    </tr>\n",
       "  </thead>\n",
       "  <tbody>\n",
       "    <tr>\n",
       "      <th>0</th>\n",
       "      <td>20003425</td>\n",
       "      <td>7/21/55 23:27</td>\n",
       "      <td>-1.612645</td>\n",
       "      <td>1.203010</td>\n",
       "      <td>-0.388377</td>\n",
       "      <td>1.142891</td>\n",
       "      <td>-0.713011</td>\n",
       "      <td>-0.631568</td>\n",
       "      <td>-0.426633</td>\n",
       "      <td>-0.605924</td>\n",
       "      <td>0.839394</td>\n",
       "    </tr>\n",
       "    <tr>\n",
       "      <th>1</th>\n",
       "      <td>20003425</td>\n",
       "      <td>7/22/55 18:11</td>\n",
       "      <td>-0.616936</td>\n",
       "      <td>-0.241383</td>\n",
       "      <td>-0.499739</td>\n",
       "      <td>0.286751</td>\n",
       "      <td>-0.443310</td>\n",
       "      <td>-0.585160</td>\n",
       "      <td>-0.221369</td>\n",
       "      <td>-0.777459</td>\n",
       "      <td>0.839394</td>\n",
       "    </tr>\n",
       "    <tr>\n",
       "      <th>2</th>\n",
       "      <td>20003425</td>\n",
       "      <td>7/23/55 2:19</td>\n",
       "      <td>-1.015220</td>\n",
       "      <td>-0.241383</td>\n",
       "      <td>-0.499739</td>\n",
       "      <td>0.179733</td>\n",
       "      <td>-0.173609</td>\n",
       "      <td>-0.631568</td>\n",
       "      <td>0.116714</td>\n",
       "      <td>-0.777459</td>\n",
       "      <td>0.839394</td>\n",
       "    </tr>\n",
       "    <tr>\n",
       "      <th>3</th>\n",
       "      <td>20008098</td>\n",
       "      <td>NaN</td>\n",
       "      <td>0.737227</td>\n",
       "      <td>-0.349712</td>\n",
       "      <td>-0.492315</td>\n",
       "      <td>-0.077109</td>\n",
       "      <td>-1.090592</td>\n",
       "      <td>-0.566597</td>\n",
       "      <td>-0.119944</td>\n",
       "      <td>-1.360676</td>\n",
       "      <td>0.357591</td>\n",
       "    </tr>\n",
       "    <tr>\n",
       "      <th>4</th>\n",
       "      <td>20008098</td>\n",
       "      <td>2/9/75 12:40</td>\n",
       "      <td>0.577914</td>\n",
       "      <td>0.119715</td>\n",
       "      <td>-0.722465</td>\n",
       "      <td>0.500786</td>\n",
       "      <td>-1.387264</td>\n",
       "      <td>-0.631568</td>\n",
       "      <td>-0.330038</td>\n",
       "      <td>-1.463597</td>\n",
       "      <td>0.712604</td>\n",
       "    </tr>\n",
       "  </tbody>\n",
       "</table>\n",
       "</div>"
      ],
      "text/plain": [
       "         id      charttime  aniongap  bicarbonate       bun   calcium  \\\n",
       "0  20003425  7/21/55 23:27 -1.612645     1.203010 -0.388377  1.142891   \n",
       "1  20003425  7/22/55 18:11 -0.616936    -0.241383 -0.499739  0.286751   \n",
       "2  20003425   7/23/55 2:19 -1.015220    -0.241383 -0.499739  0.179733   \n",
       "3  20008098            NaN  0.737227    -0.349712 -0.492315 -0.077109   \n",
       "4  20008098   2/9/75 12:40  0.577914     0.119715 -0.722465  0.500786   \n",
       "\n",
       "   chloride  creatinine   glucose    sodium  potassium  \n",
       "0 -0.713011   -0.631568 -0.426633 -0.605924   0.839394  \n",
       "1 -0.443310   -0.585160 -0.221369 -0.777459   0.839394  \n",
       "2 -0.173609   -0.631568  0.116714 -0.777459   0.839394  \n",
       "3 -1.090592   -0.566597 -0.119944 -1.360676   0.357591  \n",
       "4 -1.387264   -0.631568 -0.330038 -1.463597   0.712604  "
      ]
     },
     "execution_count": 11,
     "metadata": {},
     "output_type": "execute_result"
    }
   ],
   "source": [
    "features = ['aniongap', 'bicarbonate', 'bun', 'calcium', 'chloride', 'creatinine', 'glucose', 'sodium', 'potassium']\n",
    "\n",
    "dynamic_scaler = load('../scalers/dynamic_scaler.joblib')\n",
    "\n",
    "dynamic_val[features] = dynamic_scaler.transform(dynamic_val[features])\n",
    "dynamic_test[features] = dynamic_scaler.transform(dynamic_test[features])\n",
    "\n",
    "dynamic_val.head()"
   ]
  },
  {
   "cell_type": "markdown",
   "metadata": {},
   "source": [
    "### Dynamic val preprocessing"
   ]
  },
  {
   "cell_type": "code",
   "execution_count": 12,
   "metadata": {},
   "outputs": [
    {
     "data": {
      "text/plain": [
       "id\n",
       "20003425    [[-1.6126446935823784, 1.203009557809952, -0.3...\n",
       "20008098    [[0.5779135333859822, 0.11971546779974476, -0....\n",
       "20014219    [[1.374480161374477, -0.7830296072087612, -0.8...\n",
       "20015722    [[-1.0152197225910073, 0.30026448280144596, -0...\n",
       "20020590    [[-0.6169364085967599, 0.6613625128048484, 0.0...\n",
       "                                  ...                        \n",
       "29978469    [[-0.21865309460251256, 0.11971546779974476, -...\n",
       "29985535    [[-0.41779475159963625, 1.203009557809952, -0....\n",
       "29989089    [[0.5779135333859822, -0.24138256220365767, -1...\n",
       "29991038    [[0.17963021939173485, -0.4219315772053589, 1....\n",
       "29993312    [[1.7727634753687245, -0.4219315772053589, 2.4...\n",
       "Length: 1940, dtype: object"
      ]
     },
     "execution_count": 12,
     "metadata": {},
     "output_type": "execute_result"
    }
   ],
   "source": [
    "id_lengths_val = dynamic_val['id'].value_counts().to_dict()\n",
    "dynamic_val = dynamic_val.sort_values(by=['id', 'charttime'])\n",
    "dynamic_val = dynamic_val.apply(lambda x: list(x[features]), axis=1).groupby(dynamic_val['id']).agg(list)\n",
    "\n",
    "dynamic_val"
   ]
  },
  {
   "cell_type": "markdown",
   "metadata": {},
   "source": [
    "### Dynamic test preprocessing"
   ]
  },
  {
   "cell_type": "code",
   "execution_count": 13,
   "metadata": {},
   "outputs": [
    {
     "data": {
      "text/plain": [
       "id\n",
       "20001305    [[-0.6169364085967599, 0.4808134978031472, 0.4...\n",
       "20009550    [[0.7770551903831059, 1.3835585728116533, 0.46...\n",
       "20011505    [[1.1753385043773532, -1.5052256672155662, -0....\n",
       "20017985    [[-1.0152197225910073, 0.6613625128048484, -0....\n",
       "20026358    [[-1.0152197225910073, 2.2863036478201595, -0....\n",
       "                                  ...                        \n",
       "29957999    [[-1.214361379588131, 0.8419115278065495, -0.7...\n",
       "29961750    [[-1.214361379588131, 0.11971546779974476, -0....\n",
       "29967192    [[-0.01951143760538886, -0.6024805922070601, -...\n",
       "29981257    [[-0.01951143760538886, -1.5052256672155662, -...\n",
       "29994296    [[0.9761968473802296, -0.6024805922070601, 3.3...\n",
       "Length: 776, dtype: object"
      ]
     },
     "execution_count": 13,
     "metadata": {},
     "output_type": "execute_result"
    }
   ],
   "source": [
    "id_lengths_test = dynamic_test['id'].value_counts().to_dict()\n",
    "dynamic_test = dynamic_test.sort_values(by=['id', 'charttime'])\n",
    "dynamic_test = dynamic_test.apply(lambda x: list(x[features]), axis=1).groupby(dynamic_test['id']).agg(list)\n",
    "\n",
    "dynamic_test"
   ]
  },
  {
   "cell_type": "code",
   "execution_count": 14,
   "metadata": {},
   "outputs": [],
   "source": [
    "notes = pd.read_csv('../data/notes_cleaned.csv')\n",
    "notes = notes[['id', 'charttime', 'text', 'interval']]\n",
    "\n",
    "notes_val = notes[notes['id'].isin(static_val['id'])].copy()\n",
    "notes_test = notes[notes['id'].isin(static_test['id'])].copy()"
   ]
  },
  {
   "cell_type": "code",
   "execution_count": 15,
   "metadata": {},
   "outputs": [],
   "source": [
    "validation_data = MultimodalClassifierDataset(\n",
    "    static=static_val, dynamic=dynamic_val, \n",
    "    id_lengths=id_lengths_val, notes=notes_val\n",
    "    )\n",
    "\n",
    "test_data = MultimodalClassifierDataset(\n",
    "    static=static_test, dynamic=dynamic_test, \n",
    "    id_lengths=id_lengths_test, notes=notes_test\n",
    "    )\n",
    "\n",
    "val_loader = DataLoader(validation_data, batch_size=400, shuffle=False, collate_fn=collation)\n",
    "test_loader = DataLoader(test_data, batch_size=400, shuffle=False, collate_fn=collation)"
   ]
  },
  {
   "cell_type": "code",
   "execution_count": 16,
   "metadata": {},
   "outputs": [],
   "source": [
    "seed_value = 24\n",
    "num_lstm_cells = 1\n",
    "out_features = 3\n",
    "\n",
    "torch.manual_seed(seed_value)\n",
    "\n",
    "cuda_available = torch.cuda.is_available()\n",
    "if cuda_available:\n",
    "    torch.cuda.manual_seed(seed_value)\n",
    "    torch.cuda.manual_seed_all(seed_value)"
   ]
  },
  {
   "cell_type": "code",
   "execution_count": 17,
   "metadata": {},
   "outputs": [
    {
     "name": "stdout",
     "output_type": "stream",
     "text": [
      "device: mps\n"
     ]
    }
   ],
   "source": [
    "static_input_size = 14\n",
    "dynamic_input_size = 9\n",
    "hidden_size = 64\n",
    "\n",
    "state_dict = torch.load('../saved-models/highest_f1_model.pth', map_location=torch.device('cpu'))\n",
    "\n",
    "model = LOSNetWeighted(dynamic_input_size=dynamic_input_size, static_input_size=static_input_size,\n",
    "                       out_features=out_features, hidden_size=hidden_size,\n",
    "                       task='cls')\n",
    "\n",
    "model.load_state_dict(state_dict)\n",
    "\n",
    "device = torch.device('cuda' if torch.cuda.is_available() else 'mps')\n",
    "\n",
    "model = model.to(device)\n",
    "\n",
    "model.eval()\n",
    "\n",
    "print(f'device: {device}')"
   ]
  },
  {
   "cell_type": "code",
   "execution_count": 18,
   "metadata": {},
   "outputs": [],
   "source": [
    "# torch.save(model, '../saved-models/LOSNetWeighted.pth')\n",
    "# print('saved')"
   ]
  },
  {
   "cell_type": "code",
   "execution_count": 19,
   "metadata": {},
   "outputs": [],
   "source": [
    "def gen_pred(model, dataloader, device):\n",
    "    all_true_labels = []\n",
    "    all_predicted_labels = []\n",
    "    \n",
    "    with torch.no_grad():\n",
    "        for batch in tqdm(dataloader, desc='processing batches'):\n",
    "            packed_dynamic_X, notes_X, notes_intervals, static_batch, los = batch\n",
    "\n",
    "            packed_dynamic_X = packed_dynamic_X.to(device)\n",
    "            los = los.to(device)\n",
    "            static_X_gpu = static_batch.to(device)\n",
    "\n",
    "            notes_X_gpu = []\n",
    "            for notes in notes_X:\n",
    "                notes_gpu = {key: value.to(device) for key, value in notes.items()}\n",
    "                notes_X_gpu.append(notes_gpu)\n",
    "\n",
    "\n",
    "            outputs = model(packed_dynamic_X, notes_X_gpu, notes_intervals, static_X_gpu)\n",
    "            predicted_labels = torch.argmax(outputs, dim=1).float()\n",
    "            true_labels = torch.argmax(los, dim=1).float()\n",
    "\n",
    "            all_true_labels.extend(true_labels.cpu().numpy())\n",
    "            all_predicted_labels.extend(predicted_labels.cpu().numpy())\n",
    "\n",
    "    return all_true_labels, all_predicted_labels"
   ]
  },
  {
   "cell_type": "markdown",
   "metadata": {},
   "source": [
    "# VAL"
   ]
  },
  {
   "cell_type": "code",
   "execution_count": 20,
   "metadata": {},
   "outputs": [
    {
     "name": "stderr",
     "output_type": "stream",
     "text": [
      "processing batches:   0%|          | 0/5 [00:00<?, ?it/s]"
     ]
    },
    {
     "name": "stderr",
     "output_type": "stream",
     "text": [
      "processing batches: 100%|██████████| 5/5 [06:19<00:00, 75.96s/it]\n"
     ]
    }
   ],
   "source": [
    "val_true, val_pred = gen_pred(model, val_loader, device=device)"
   ]
  },
  {
   "cell_type": "code",
   "execution_count": 21,
   "metadata": {},
   "outputs": [
    {
     "data": {
      "text/plain": [
       "0.4558312793553971"
      ]
     },
     "execution_count": 21,
     "metadata": {},
     "output_type": "execute_result"
    }
   ],
   "source": [
    "balanced_accuracy_score(val_true, val_pred)"
   ]
  },
  {
   "cell_type": "code",
   "execution_count": 22,
   "metadata": {},
   "outputs": [
    {
     "data": {
      "text/plain": [
       "0.4593245475921347"
      ]
     },
     "execution_count": 22,
     "metadata": {},
     "output_type": "execute_result"
    }
   ],
   "source": [
    "f1_score(val_true, val_pred, average='weighted')"
   ]
  },
  {
   "cell_type": "code",
   "execution_count": 23,
   "metadata": {},
   "outputs": [],
   "source": [
    "val_cm = confusion_matrix(val_true, val_pred)"
   ]
  },
  {
   "cell_type": "code",
   "execution_count": 24,
   "metadata": {},
   "outputs": [
    {
     "data": {
      "image/png": "[encoded data removed]",
      "text/plain": [
       "<Figure size 1000x700 with 2 Axes>"
      ]
     },
     "metadata": {},
     "output_type": "display_data"
    }
   ],
   "source": [
    "plt.figure(figsize=(10, 7))\n",
    "\n",
    "sns.heatmap(\n",
    "    val_cm, annot=True, fmt='d', \n",
    "    cmap='Blues', xticklabels=['1 to 2 days', '2 to 4 days', '4+ days'], \n",
    "    yticklabels=['1 to 2 days', '2 to 4 days', '4+ days']\n",
    "    )\n",
    "\n",
    "plt.ylabel('Actual label')\n",
    "plt.xlabel('Predicted label')\n",
    "plt.title('Confusion Matrix for 3 Classes')\n",
    "plt.show()"
   ]
  },
  {
   "cell_type": "markdown",
   "metadata": {},
   "source": [
    "# TEST"
   ]
  },
  {
   "cell_type": "code",
   "execution_count": 26,
   "metadata": {},
   "outputs": [
    {
     "name": "stderr",
     "output_type": "stream",
     "text": [
      "processing batches: 100%|██████████| 2/2 [02:41<00:00, 80.56s/it]\n"
     ]
    }
   ],
   "source": [
    "test_true, test_pred = gen_pred(model, test_loader, device=device)"
   ]
  },
  {
   "cell_type": "code",
   "execution_count": 27,
   "metadata": {},
   "outputs": [
    {
     "data": {
      "text/plain": [
       "0.46006333662626303"
      ]
     },
     "execution_count": 27,
     "metadata": {},
     "output_type": "execute_result"
    }
   ],
   "source": [
    "f1_score(test_true, test_pred, average='weighted')"
   ]
  },
  {
   "cell_type": "code",
   "execution_count": 28,
   "metadata": {},
   "outputs": [
    {
     "data": {
      "text/plain": [
       "0.45633724230048694"
      ]
     },
     "execution_count": 28,
     "metadata": {},
     "output_type": "execute_result"
    }
   ],
   "source": [
    "balanced_accuracy_score(test_true, test_pred)"
   ]
  },
  {
   "cell_type": "code",
   "execution_count": 29,
   "metadata": {},
   "outputs": [],
   "source": [
    "test_cm = confusion_matrix(test_true, test_pred)"
   ]
  },
  {
   "cell_type": "code",
   "execution_count": 30,
   "metadata": {},
   "outputs": [
    {
     "data": {
      "image/png": "[encoded data removed]",
      "text/plain": [
       "<Figure size 1000x700 with 2 Axes>"
      ]
     },
     "metadata": {},
     "output_type": "display_data"
    }
   ],
   "source": [
    "plt.figure(figsize=(10, 7))\n",
    "\n",
    "sns.heatmap(\n",
    "    test_cm, annot=True, fmt='d', \n",
    "    cmap='Blues', xticklabels=['1 to 2 days', '2 to 4 days', '4+ days'], \n",
    "    yticklabels=['1 to 2 days', '2 to 4 days', '4+ days']\n",
    "    )\n",
    "\n",
    "plt.ylabel('Actual label')\n",
    "plt.xlabel('Predicted label')\n",
    "plt.title('Confusion Matrix for 3 Classes')\n",
    "plt.show()"
   ]
  },
  {
   "cell_type": "code",
   "execution_count": 31,
   "metadata": {},
   "outputs": [
    {
     "data": {
      "text/plain": [
       "LOSNetWeighted(\n",
       "  (time_series_model): LSTM(9, 64, batch_first=True)\n",
       "  (ht_layer_norm): LayerNorm((64,), eps=1e-05, elementwise_affine=True)\n",
       "  (text_model): DataParallel(\n",
       "    (module): BertModel(\n",
       "      (embeddings): BertEmbeddings(\n",
       "        (word_embeddings): Embedding(28996, 768, padding_idx=0)\n",
       "        (position_embeddings): Embedding(512, 768)\n",
       "        (token_type_embeddings): Embedding(2, 768)\n",
       "        (LayerNorm): LayerNorm((768,), eps=1e-12, elementwise_affine=True)\n",
       "        (dropout): Dropout(p=0.1, inplace=False)\n",
       "      )\n",
       "      (encoder): BertEncoder(\n",
       "        (layer): ModuleList(\n",
       "          (0-11): 12 x BertLayer(\n",
       "            (attention): BertAttention(\n",
       "              (self): BertSelfAttention(\n",
       "                (query): Linear(in_features=768, out_features=768, bias=True)\n",
       "                (key): Linear(in_features=768, out_features=768, bias=True)\n",
       "                (value): Linear(in_features=768, out_features=768, bias=True)\n",
       "                (dropout): Dropout(p=0.1, inplace=False)\n",
       "              )\n",
       "              (output): BertSelfOutput(\n",
       "                (dense): Linear(in_features=768, out_features=768, bias=True)\n",
       "                (LayerNorm): LayerNorm((768,), eps=1e-12, elementwise_affine=True)\n",
       "                (dropout): Dropout(p=0.1, inplace=False)\n",
       "              )\n",
       "            )\n",
       "            (intermediate): BertIntermediate(\n",
       "              (dense): Linear(in_features=768, out_features=3072, bias=True)\n",
       "              (intermediate_act_fn): GELUActivation()\n",
       "            )\n",
       "            (output): BertOutput(\n",
       "              (dense): Linear(in_features=3072, out_features=768, bias=True)\n",
       "              (LayerNorm): LayerNorm((768,), eps=1e-12, elementwise_affine=True)\n",
       "              (dropout): Dropout(p=0.1, inplace=False)\n",
       "            )\n",
       "          )\n",
       "        )\n",
       "      )\n",
       "      (pooler): BertPooler(\n",
       "        (dense): Linear(in_features=768, out_features=768, bias=True)\n",
       "        (activation): Tanh()\n",
       "      )\n",
       "    )\n",
       "  )\n",
       "  (fc1): Sequential(\n",
       "    (0): Linear(in_features=846, out_features=256, bias=True)\n",
       "    (1): LayerNorm((256,), eps=1e-05, elementwise_affine=True)\n",
       "    (2): ReLU()\n",
       "    (3): Linear(in_features=256, out_features=128, bias=True)\n",
       "    (4): LayerNorm((128,), eps=1e-05, elementwise_affine=True)\n",
       "    (5): ReLU()\n",
       "    (6): Dropout(p=0.2, inplace=False)\n",
       "    (7): Linear(in_features=128, out_features=64, bias=True)\n",
       "    (8): LayerNorm((64,), eps=1e-05, elementwise_affine=True)\n",
       "    (9): ReLU()\n",
       "  )\n",
       "  (fc2): Linear(in_features=64, out_features=3, bias=True)\n",
       ")"
      ]
     },
     "execution_count": 31,
     "metadata": {},
     "output_type": "execute_result"
    }
   ],
   "source": [
    "model"
   ]
  },
  {
   "cell_type": "code",
   "execution_count": null,
   "metadata": {},
   "outputs": [],
   "source": []
  }
 ],
 "metadata": {
  "kernelspec": {
   "display_name": "pytorch",
   "language": "python",
   "name": "python3"
  },
  "language_info": {
   "codemirror_mode": {
    "name": "ipython",
    "version": 3
   },
   "file_extension": ".py",
   "mimetype": "text/x-python",
   "name": "python",
   "nbconvert_exporter": "python",
   "pygments_lexer": "ipython3",
   "version": "3.12.2"
  }
 },
 "nbformat": 4,
 "nbformat_minor": 2
}
