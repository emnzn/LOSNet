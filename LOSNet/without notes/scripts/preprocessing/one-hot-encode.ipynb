{
 "cells": [
  {
   "cell_type": "code",
   "execution_count": 1,
   "metadata": {},
   "outputs": [],
   "source": [
    "import pandas as pd\n",
    "from sklearn.preprocessing import OneHotEncoder\n",
    "from sklearn.model_selection import train_test_split"
   ]
  },
  {
   "cell_type": "code",
   "execution_count": 2,
   "metadata": {},
   "outputs": [],
   "source": [
    "base_path = '../../data/split/with-outliers/combined'\n",
    "\n",
    "static_train = pd.read_csv(f'{base_path}/static_train.csv')\n",
    "static_val = pd.read_csv(f'{base_path}/static_val.csv')\n",
    "\n",
    "static_train, static_test = train_test_split(static_train, test_size=0.1, random_state=0, stratify=static_train['los_icu_binned'])"
   ]
  },
  {
   "cell_type": "code",
   "execution_count": 3,
   "metadata": {},
   "outputs": [
    {
     "data": {
      "text/html": [
       "<div>\n",
       "<style scoped>\n",
       "    .dataframe tbody tr th:only-of-type {\n",
       "        vertical-align: middle;\n",
       "    }\n",
       "\n",
       "    .dataframe tbody tr th {\n",
       "        vertical-align: top;\n",
       "    }\n",
       "\n",
       "    .dataframe thead th {\n",
       "        text-align: right;\n",
       "    }\n",
       "</style>\n",
       "<table border=\"1\" class=\"dataframe\">\n",
       "  <thead>\n",
       "    <tr style=\"text-align: right;\">\n",
       "      <th></th>\n",
       "      <th>id</th>\n",
       "      <th>hosp_admittime</th>\n",
       "      <th>hosp_dischtime</th>\n",
       "      <th>icu_intime</th>\n",
       "      <th>icu_outtime</th>\n",
       "      <th>los_icu</th>\n",
       "      <th>icu_death</th>\n",
       "      <th>gender</th>\n",
       "      <th>race</th>\n",
       "      <th>admission_age</th>\n",
       "      <th>...</th>\n",
       "      <th>malignant_cancer</th>\n",
       "      <th>chf</th>\n",
       "      <th>ckd</th>\n",
       "      <th>cld</th>\n",
       "      <th>copd</th>\n",
       "      <th>diabetes</th>\n",
       "      <th>hypertension</th>\n",
       "      <th>ihd</th>\n",
       "      <th>stroke</th>\n",
       "      <th>los_icu_binned</th>\n",
       "    </tr>\n",
       "  </thead>\n",
       "  <tbody>\n",
       "    <tr>\n",
       "      <th>0</th>\n",
       "      <td>23169158</td>\n",
       "      <td>3/12/27 1:19</td>\n",
       "      <td>3/19/27 13:15</td>\n",
       "      <td>3/12/27 2:43</td>\n",
       "      <td>3/15/27 1:53</td>\n",
       "      <td>2.97</td>\n",
       "      <td>0</td>\n",
       "      <td>0</td>\n",
       "      <td>WHITE</td>\n",
       "      <td>84.191979</td>\n",
       "      <td>...</td>\n",
       "      <td>0</td>\n",
       "      <td>1</td>\n",
       "      <td>1</td>\n",
       "      <td>0</td>\n",
       "      <td>0</td>\n",
       "      <td>1</td>\n",
       "      <td>1</td>\n",
       "      <td>0</td>\n",
       "      <td>0</td>\n",
       "      <td>2 to 4 days</td>\n",
       "    </tr>\n",
       "    <tr>\n",
       "      <th>1</th>\n",
       "      <td>29179088</td>\n",
       "      <td>4/10/80 23:21</td>\n",
       "      <td>4/17/80 14:00</td>\n",
       "      <td>4/12/80 17:41</td>\n",
       "      <td>4/16/80 13:38</td>\n",
       "      <td>3.83</td>\n",
       "      <td>0</td>\n",
       "      <td>1</td>\n",
       "      <td>WHITE</td>\n",
       "      <td>72.276455</td>\n",
       "      <td>...</td>\n",
       "      <td>1</td>\n",
       "      <td>1</td>\n",
       "      <td>1</td>\n",
       "      <td>0</td>\n",
       "      <td>1</td>\n",
       "      <td>0</td>\n",
       "      <td>1</td>\n",
       "      <td>1</td>\n",
       "      <td>0</td>\n",
       "      <td>2 to 4 days</td>\n",
       "    </tr>\n",
       "    <tr>\n",
       "      <th>2</th>\n",
       "      <td>27139242</td>\n",
       "      <td>4/25/33 5:47</td>\n",
       "      <td>5/13/33 7:15</td>\n",
       "      <td>4/25/33 6:37</td>\n",
       "      <td>4/27/33 16:01</td>\n",
       "      <td>2.39</td>\n",
       "      <td>0</td>\n",
       "      <td>1</td>\n",
       "      <td>BLACK/AFRICAN AMERICAN</td>\n",
       "      <td>73.312782</td>\n",
       "      <td>...</td>\n",
       "      <td>1</td>\n",
       "      <td>0</td>\n",
       "      <td>0</td>\n",
       "      <td>0</td>\n",
       "      <td>0</td>\n",
       "      <td>0</td>\n",
       "      <td>0</td>\n",
       "      <td>0</td>\n",
       "      <td>0</td>\n",
       "      <td>2 to 4 days</td>\n",
       "    </tr>\n",
       "    <tr>\n",
       "      <th>3</th>\n",
       "      <td>25918892</td>\n",
       "      <td>10/27/43 15:06</td>\n",
       "      <td>10/31/43 14:21</td>\n",
       "      <td>10/27/43 15:06</td>\n",
       "      <td>10/30/43 12:11</td>\n",
       "      <td>2.88</td>\n",
       "      <td>0</td>\n",
       "      <td>1</td>\n",
       "      <td>WHITE</td>\n",
       "      <td>91.820358</td>\n",
       "      <td>...</td>\n",
       "      <td>0</td>\n",
       "      <td>0</td>\n",
       "      <td>0</td>\n",
       "      <td>0</td>\n",
       "      <td>0</td>\n",
       "      <td>0</td>\n",
       "      <td>1</td>\n",
       "      <td>1</td>\n",
       "      <td>1</td>\n",
       "      <td>2 to 4 days</td>\n",
       "    </tr>\n",
       "    <tr>\n",
       "      <th>4</th>\n",
       "      <td>20778724</td>\n",
       "      <td>10/4/67 7:15</td>\n",
       "      <td>10/19/67 17:45</td>\n",
       "      <td>10/5/67 9:23</td>\n",
       "      <td>10/6/67 21:43</td>\n",
       "      <td>1.51</td>\n",
       "      <td>0</td>\n",
       "      <td>1</td>\n",
       "      <td>ASIAN - CHINESE</td>\n",
       "      <td>63.756003</td>\n",
       "      <td>...</td>\n",
       "      <td>0</td>\n",
       "      <td>1</td>\n",
       "      <td>1</td>\n",
       "      <td>0</td>\n",
       "      <td>0</td>\n",
       "      <td>0</td>\n",
       "      <td>1</td>\n",
       "      <td>0</td>\n",
       "      <td>1</td>\n",
       "      <td>1 to 2 days</td>\n",
       "    </tr>\n",
       "  </tbody>\n",
       "</table>\n",
       "<p>5 rows × 25 columns</p>\n",
       "</div>"
      ],
      "text/plain": [
       "         id  hosp_admittime  hosp_dischtime      icu_intime     icu_outtime  \\\n",
       "0  23169158    3/12/27 1:19   3/19/27 13:15    3/12/27 2:43    3/15/27 1:53   \n",
       "1  29179088   4/10/80 23:21   4/17/80 14:00   4/12/80 17:41   4/16/80 13:38   \n",
       "2  27139242    4/25/33 5:47    5/13/33 7:15    4/25/33 6:37   4/27/33 16:01   \n",
       "3  25918892  10/27/43 15:06  10/31/43 14:21  10/27/43 15:06  10/30/43 12:11   \n",
       "4  20778724    10/4/67 7:15  10/19/67 17:45    10/5/67 9:23   10/6/67 21:43   \n",
       "\n",
       "   los_icu  icu_death  gender                    race  admission_age  ...  \\\n",
       "0     2.97          0       0                   WHITE      84.191979  ...   \n",
       "1     3.83          0       1                   WHITE      72.276455  ...   \n",
       "2     2.39          0       1  BLACK/AFRICAN AMERICAN      73.312782  ...   \n",
       "3     2.88          0       1                   WHITE      91.820358  ...   \n",
       "4     1.51          0       1         ASIAN - CHINESE      63.756003  ...   \n",
       "\n",
       "   malignant_cancer chf ckd  cld  copd  diabetes  hypertension  ihd  stroke  \\\n",
       "0                 0   1   1    0     0         1             1    0       0   \n",
       "1                 1   1   1    0     1         0             1    1       0   \n",
       "2                 1   0   0    0     0         0             0    0       0   \n",
       "3                 0   0   0    0     0         0             1    1       1   \n",
       "4                 0   1   1    0     0         0             1    0       1   \n",
       "\n",
       "   los_icu_binned  \n",
       "0     2 to 4 days  \n",
       "1     2 to 4 days  \n",
       "2     2 to 4 days  \n",
       "3     2 to 4 days  \n",
       "4     1 to 2 days  \n",
       "\n",
       "[5 rows x 25 columns]"
      ]
     },
     "execution_count": 3,
     "metadata": {},
     "output_type": "execute_result"
    }
   ],
   "source": [
    "static_binned = pd.read_csv('../../data/static_cleaned.csv')\n",
    "\n",
    "static_binned.head()"
   ]
  },
  {
   "cell_type": "code",
   "execution_count": 4,
   "metadata": {},
   "outputs": [
    {
     "data": {
      "text/html": [
       "<div>\n",
       "<style scoped>\n",
       "    .dataframe tbody tr th:only-of-type {\n",
       "        vertical-align: middle;\n",
       "    }\n",
       "\n",
       "    .dataframe tbody tr th {\n",
       "        vertical-align: top;\n",
       "    }\n",
       "\n",
       "    .dataframe thead th {\n",
       "        text-align: right;\n",
       "    }\n",
       "</style>\n",
       "<table border=\"1\" class=\"dataframe\">\n",
       "  <thead>\n",
       "    <tr style=\"text-align: right;\">\n",
       "      <th></th>\n",
       "      <th>id</th>\n",
       "      <th>hosp_admittime</th>\n",
       "      <th>hosp_dischtime</th>\n",
       "      <th>icu_intime</th>\n",
       "      <th>icu_outtime</th>\n",
       "      <th>los_icu</th>\n",
       "      <th>icu_death</th>\n",
       "      <th>gender</th>\n",
       "      <th>race</th>\n",
       "      <th>admission_age</th>\n",
       "      <th>...</th>\n",
       "      <th>ckd</th>\n",
       "      <th>cld</th>\n",
       "      <th>copd</th>\n",
       "      <th>diabetes</th>\n",
       "      <th>hypertension</th>\n",
       "      <th>ihd</th>\n",
       "      <th>stroke</th>\n",
       "      <th>los_icu_binned_1 to 2 days</th>\n",
       "      <th>los_icu_binned_2 to 4 days</th>\n",
       "      <th>los_icu_binned_4+ days</th>\n",
       "    </tr>\n",
       "  </thead>\n",
       "  <tbody>\n",
       "    <tr>\n",
       "      <th>0</th>\n",
       "      <td>23169158</td>\n",
       "      <td>3/12/27 1:19</td>\n",
       "      <td>3/19/27 13:15</td>\n",
       "      <td>3/12/27 2:43</td>\n",
       "      <td>3/15/27 1:53</td>\n",
       "      <td>2.97</td>\n",
       "      <td>0</td>\n",
       "      <td>0</td>\n",
       "      <td>WHITE</td>\n",
       "      <td>84.191979</td>\n",
       "      <td>...</td>\n",
       "      <td>1</td>\n",
       "      <td>0</td>\n",
       "      <td>0</td>\n",
       "      <td>1</td>\n",
       "      <td>1</td>\n",
       "      <td>0</td>\n",
       "      <td>0</td>\n",
       "      <td>0.0</td>\n",
       "      <td>1.0</td>\n",
       "      <td>0.0</td>\n",
       "    </tr>\n",
       "    <tr>\n",
       "      <th>1</th>\n",
       "      <td>29179088</td>\n",
       "      <td>4/10/80 23:21</td>\n",
       "      <td>4/17/80 14:00</td>\n",
       "      <td>4/12/80 17:41</td>\n",
       "      <td>4/16/80 13:38</td>\n",
       "      <td>3.83</td>\n",
       "      <td>0</td>\n",
       "      <td>1</td>\n",
       "      <td>WHITE</td>\n",
       "      <td>72.276455</td>\n",
       "      <td>...</td>\n",
       "      <td>1</td>\n",
       "      <td>0</td>\n",
       "      <td>1</td>\n",
       "      <td>0</td>\n",
       "      <td>1</td>\n",
       "      <td>1</td>\n",
       "      <td>0</td>\n",
       "      <td>0.0</td>\n",
       "      <td>1.0</td>\n",
       "      <td>0.0</td>\n",
       "    </tr>\n",
       "    <tr>\n",
       "      <th>2</th>\n",
       "      <td>27139242</td>\n",
       "      <td>4/25/33 5:47</td>\n",
       "      <td>5/13/33 7:15</td>\n",
       "      <td>4/25/33 6:37</td>\n",
       "      <td>4/27/33 16:01</td>\n",
       "      <td>2.39</td>\n",
       "      <td>0</td>\n",
       "      <td>1</td>\n",
       "      <td>BLACK/AFRICAN AMERICAN</td>\n",
       "      <td>73.312782</td>\n",
       "      <td>...</td>\n",
       "      <td>0</td>\n",
       "      <td>0</td>\n",
       "      <td>0</td>\n",
       "      <td>0</td>\n",
       "      <td>0</td>\n",
       "      <td>0</td>\n",
       "      <td>0</td>\n",
       "      <td>0.0</td>\n",
       "      <td>1.0</td>\n",
       "      <td>0.0</td>\n",
       "    </tr>\n",
       "    <tr>\n",
       "      <th>3</th>\n",
       "      <td>25918892</td>\n",
       "      <td>10/27/43 15:06</td>\n",
       "      <td>10/31/43 14:21</td>\n",
       "      <td>10/27/43 15:06</td>\n",
       "      <td>10/30/43 12:11</td>\n",
       "      <td>2.88</td>\n",
       "      <td>0</td>\n",
       "      <td>1</td>\n",
       "      <td>WHITE</td>\n",
       "      <td>91.820358</td>\n",
       "      <td>...</td>\n",
       "      <td>0</td>\n",
       "      <td>0</td>\n",
       "      <td>0</td>\n",
       "      <td>0</td>\n",
       "      <td>1</td>\n",
       "      <td>1</td>\n",
       "      <td>1</td>\n",
       "      <td>0.0</td>\n",
       "      <td>1.0</td>\n",
       "      <td>0.0</td>\n",
       "    </tr>\n",
       "    <tr>\n",
       "      <th>4</th>\n",
       "      <td>20778724</td>\n",
       "      <td>10/4/67 7:15</td>\n",
       "      <td>10/19/67 17:45</td>\n",
       "      <td>10/5/67 9:23</td>\n",
       "      <td>10/6/67 21:43</td>\n",
       "      <td>1.51</td>\n",
       "      <td>0</td>\n",
       "      <td>1</td>\n",
       "      <td>ASIAN - CHINESE</td>\n",
       "      <td>63.756003</td>\n",
       "      <td>...</td>\n",
       "      <td>1</td>\n",
       "      <td>0</td>\n",
       "      <td>0</td>\n",
       "      <td>0</td>\n",
       "      <td>1</td>\n",
       "      <td>0</td>\n",
       "      <td>1</td>\n",
       "      <td>1.0</td>\n",
       "      <td>0.0</td>\n",
       "      <td>0.0</td>\n",
       "    </tr>\n",
       "  </tbody>\n",
       "</table>\n",
       "<p>5 rows × 27 columns</p>\n",
       "</div>"
      ],
      "text/plain": [
       "         id  hosp_admittime  hosp_dischtime      icu_intime     icu_outtime  \\\n",
       "0  23169158    3/12/27 1:19   3/19/27 13:15    3/12/27 2:43    3/15/27 1:53   \n",
       "1  29179088   4/10/80 23:21   4/17/80 14:00   4/12/80 17:41   4/16/80 13:38   \n",
       "2  27139242    4/25/33 5:47    5/13/33 7:15    4/25/33 6:37   4/27/33 16:01   \n",
       "3  25918892  10/27/43 15:06  10/31/43 14:21  10/27/43 15:06  10/30/43 12:11   \n",
       "4  20778724    10/4/67 7:15  10/19/67 17:45    10/5/67 9:23   10/6/67 21:43   \n",
       "\n",
       "   los_icu  icu_death  gender                    race  admission_age  ...  \\\n",
       "0     2.97          0       0                   WHITE      84.191979  ...   \n",
       "1     3.83          0       1                   WHITE      72.276455  ...   \n",
       "2     2.39          0       1  BLACK/AFRICAN AMERICAN      73.312782  ...   \n",
       "3     2.88          0       1                   WHITE      91.820358  ...   \n",
       "4     1.51          0       1         ASIAN - CHINESE      63.756003  ...   \n",
       "\n",
       "   ckd cld copd  diabetes  hypertension  ihd  stroke  \\\n",
       "0    1   0    0         1             1    0       0   \n",
       "1    1   0    1         0             1    1       0   \n",
       "2    0   0    0         0             0    0       0   \n",
       "3    0   0    0         0             1    1       1   \n",
       "4    1   0    0         0             1    0       1   \n",
       "\n",
       "   los_icu_binned_1 to 2 days  los_icu_binned_2 to 4 days  \\\n",
       "0                         0.0                         1.0   \n",
       "1                         0.0                         1.0   \n",
       "2                         0.0                         1.0   \n",
       "3                         0.0                         1.0   \n",
       "4                         1.0                         0.0   \n",
       "\n",
       "   los_icu_binned_4+ days  \n",
       "0                     0.0  \n",
       "1                     0.0  \n",
       "2                     0.0  \n",
       "3                     0.0  \n",
       "4                     0.0  \n",
       "\n",
       "[5 rows x 27 columns]"
      ]
     },
     "execution_count": 4,
     "metadata": {},
     "output_type": "execute_result"
    }
   ],
   "source": [
    "ohe = OneHotEncoder(sparse_output=False, handle_unknown='ignore')\n",
    "encoded = ohe.fit_transform(static_binned[['los_icu_binned']])\n",
    "ohe_cols = ohe.get_feature_names_out(['los_icu_binned'])\n",
    "\n",
    "ohe_los = pd.DataFrame(encoded, columns=ohe_cols)\n",
    "static_ohe = pd.concat([static_binned, ohe_los], axis=1)\n",
    "\n",
    "static_ohe.drop('los_icu_binned', axis=1, inplace=True)\n",
    "\n",
    "static_ohe.head()"
   ]
  },
  {
   "cell_type": "code",
   "execution_count": 5,
   "metadata": {},
   "outputs": [],
   "source": [
    "static_train_ohe = static_ohe[static_ohe['id'].isin(static_train['id'])]\n",
    "static_val_ohe = static_ohe[static_ohe['id'].isin(static_val['id'])]\n",
    "static_test_ohe = static_ohe[static_ohe['id'].isin(static_test['id'])]"
   ]
  },
  {
   "cell_type": "code",
   "execution_count": 6,
   "metadata": {},
   "outputs": [],
   "source": [
    "notes = pd.read_csv('../../data/notes_cleaned.csv')\n",
    "notes_train = notes[notes['id'].isin(static_train['id'])]\n",
    "notes_val = notes[notes['id'].isin(static_val['id'])]\n",
    "notes_test = notes[notes['id'].isin(static_test['id'])]"
   ]
  },
  {
   "cell_type": "code",
   "execution_count": 7,
   "metadata": {},
   "outputs": [],
   "source": [
    "dynamic = pd.read_csv('../../data/dynamic_cleaned.csv')\n",
    "dynamic_train = dynamic[dynamic['id'].isin(static_train['id'])].copy()\n",
    "dynamic_val = dynamic[dynamic['id'].isin(static_val['id'])].copy()\n",
    "dynamic_test = dynamic[dynamic['id'].isin(static_test['id'])].copy()"
   ]
  },
  {
   "cell_type": "code",
   "execution_count": 8,
   "metadata": {},
   "outputs": [
    {
     "data": {
      "text/plain": [
       "6980"
      ]
     },
     "execution_count": 8,
     "metadata": {},
     "output_type": "execute_result"
    }
   ],
   "source": [
    "static_train_ohe.id.nunique()"
   ]
  },
  {
   "cell_type": "code",
   "execution_count": 9,
   "metadata": {},
   "outputs": [
    {
     "data": {
      "text/plain": [
       "6980"
      ]
     },
     "execution_count": 9,
     "metadata": {},
     "output_type": "execute_result"
    }
   ],
   "source": [
    "dynamic_train.id.nunique()"
   ]
  },
  {
   "cell_type": "code",
   "execution_count": 10,
   "metadata": {},
   "outputs": [
    {
     "data": {
      "text/plain": [
       "6980"
      ]
     },
     "execution_count": 10,
     "metadata": {},
     "output_type": "execute_result"
    }
   ],
   "source": [
    "notes_train.id.nunique()"
   ]
  },
  {
   "cell_type": "code",
   "execution_count": 11,
   "metadata": {},
   "outputs": [
    {
     "data": {
      "text/plain": [
       "1940"
      ]
     },
     "execution_count": 11,
     "metadata": {},
     "output_type": "execute_result"
    }
   ],
   "source": [
    "static_val_ohe.id.nunique()"
   ]
  },
  {
   "cell_type": "code",
   "execution_count": 12,
   "metadata": {},
   "outputs": [
    {
     "data": {
      "text/plain": [
       "1940"
      ]
     },
     "execution_count": 12,
     "metadata": {},
     "output_type": "execute_result"
    }
   ],
   "source": [
    "dynamic_val.id.nunique()"
   ]
  },
  {
   "cell_type": "code",
   "execution_count": 13,
   "metadata": {},
   "outputs": [
    {
     "data": {
      "text/plain": [
       "1940"
      ]
     },
     "execution_count": 13,
     "metadata": {},
     "output_type": "execute_result"
    }
   ],
   "source": [
    "notes_val.id.nunique()"
   ]
  },
  {
   "cell_type": "code",
   "execution_count": 14,
   "metadata": {},
   "outputs": [
    {
     "data": {
      "text/plain": [
       "776"
      ]
     },
     "execution_count": 14,
     "metadata": {},
     "output_type": "execute_result"
    }
   ],
   "source": [
    "static_test_ohe.id.nunique()"
   ]
  },
  {
   "cell_type": "code",
   "execution_count": 15,
   "metadata": {},
   "outputs": [
    {
     "data": {
      "text/plain": [
       "776"
      ]
     },
     "execution_count": 15,
     "metadata": {},
     "output_type": "execute_result"
    }
   ],
   "source": [
    "dynamic_test.id.nunique()"
   ]
  },
  {
   "cell_type": "code",
   "execution_count": 16,
   "metadata": {},
   "outputs": [
    {
     "data": {
      "text/plain": [
       "776"
      ]
     },
     "execution_count": 16,
     "metadata": {},
     "output_type": "execute_result"
    }
   ],
   "source": [
    "notes_test.id.nunique()"
   ]
  },
  {
   "cell_type": "code",
   "execution_count": 17,
   "metadata": {},
   "outputs": [
    {
     "data": {
      "text/plain": [
       "True"
      ]
     },
     "execution_count": 17,
     "metadata": {},
     "output_type": "execute_result"
    }
   ],
   "source": [
    "all(static_val_ohe.id.isin(dynamic_val.id))"
   ]
  },
  {
   "cell_type": "code",
   "execution_count": 18,
   "metadata": {},
   "outputs": [],
   "source": [
    "base_path = '../../data/split/with-outliers/combined/one-hot-encoded'\n",
    "\n",
    "static_train_ohe.to_csv(f'{base_path}/static_train.csv', index=False)\n",
    "static_val_ohe.to_csv(f'{base_path}/static_val.csv', index=False)\n",
    "static_test_ohe.to_csv(f'{base_path}/static_test.csv', index=False)"
   ]
  },
  {
   "cell_type": "code",
   "execution_count": null,
   "metadata": {},
   "outputs": [],
   "source": []
  }
 ],
 "metadata": {
  "kernelspec": {
   "display_name": "pytorch",
   "language": "python",
   "name": "python3"
  },
  "language_info": {
   "codemirror_mode": {
    "name": "ipython",
    "version": 3
   },
   "file_extension": ".py",
   "mimetype": "text/x-python",
   "name": "python",
   "nbconvert_exporter": "python",
   "pygments_lexer": "ipython3",
   "version": "3.12.2"
  }
 },
 "nbformat": 4,
 "nbformat_minor": 2
}
