{
 "cells": [
  {
   "cell_type": "code",
   "execution_count": 1,
   "metadata": {},
   "outputs": [],
   "source": [
    "import pandas as pd\n",
    "import plotly.graph_objects as go\n",
    "import plotly.express as px\n",
    "from IPython.display import display\n",
    "import numpy as np\n",
    "from sklearn.preprocessing import OneHotEncoder\n",
    "from sklearn.preprocessing import KBinsDiscretizer"
   ]
  },
  {
   "cell_type": "markdown",
   "metadata": {},
   "source": [
    "## Initialization"
   ]
  },
  {
   "cell_type": "code",
   "execution_count": 3,
   "metadata": {},
   "outputs": [
    {
     "name": "stdout",
     "output_type": "stream",
     "text": [
      "static\n"
     ]
    },
    {
     "data": {
      "text/html": [
       "<div>\n",
       "<style scoped>\n",
       "    .dataframe tbody tr th:only-of-type {\n",
       "        vertical-align: middle;\n",
       "    }\n",
       "\n",
       "    .dataframe tbody tr th {\n",
       "        vertical-align: top;\n",
       "    }\n",
       "\n",
       "    .dataframe thead th {\n",
       "        text-align: right;\n",
       "    }\n",
       "</style>\n",
       "<table border=\"1\" class=\"dataframe\">\n",
       "  <thead>\n",
       "    <tr style=\"text-align: right;\">\n",
       "      <th></th>\n",
       "      <th>id</th>\n",
       "      <th>hosp_admittime</th>\n",
       "      <th>hosp_dischtime</th>\n",
       "      <th>icu_intime</th>\n",
       "      <th>icu_outtime</th>\n",
       "      <th>los_icu</th>\n",
       "      <th>icu_death</th>\n",
       "      <th>gender</th>\n",
       "      <th>race</th>\n",
       "      <th>admission_age</th>\n",
       "      <th>...</th>\n",
       "      <th>atrial_fibrillation</th>\n",
       "      <th>malignant_cancer</th>\n",
       "      <th>chf</th>\n",
       "      <th>ckd</th>\n",
       "      <th>cld</th>\n",
       "      <th>copd</th>\n",
       "      <th>diabetes</th>\n",
       "      <th>hypertension</th>\n",
       "      <th>ihd</th>\n",
       "      <th>stroke</th>\n",
       "    </tr>\n",
       "  </thead>\n",
       "  <tbody>\n",
       "    <tr>\n",
       "      <th>0</th>\n",
       "      <td>24099382</td>\n",
       "      <td>6/11/11 7:15</td>\n",
       "      <td>6/18/11 21:45</td>\n",
       "      <td>6/11/11 14:31</td>\n",
       "      <td>6/13/11 18:05</td>\n",
       "      <td>2.15</td>\n",
       "      <td>0</td>\n",
       "      <td>M</td>\n",
       "      <td>OTHER</td>\n",
       "      <td>58.441631</td>\n",
       "      <td>...</td>\n",
       "      <td>0</td>\n",
       "      <td>0</td>\n",
       "      <td>0</td>\n",
       "      <td>0</td>\n",
       "      <td>0</td>\n",
       "      <td>1</td>\n",
       "      <td>1</td>\n",
       "      <td>1</td>\n",
       "      <td>0</td>\n",
       "      <td>0</td>\n",
       "    </tr>\n",
       "    <tr>\n",
       "      <th>1</th>\n",
       "      <td>27824879</td>\n",
       "      <td>9/30/28 20:55</td>\n",
       "      <td>10/10/28 15:54</td>\n",
       "      <td>9/30/28 20:58</td>\n",
       "      <td>10/5/28 18:39</td>\n",
       "      <td>4.90</td>\n",
       "      <td>0</td>\n",
       "      <td>F</td>\n",
       "      <td>WHITE</td>\n",
       "      <td>79.748598</td>\n",
       "      <td>...</td>\n",
       "      <td>0</td>\n",
       "      <td>0</td>\n",
       "      <td>0</td>\n",
       "      <td>0</td>\n",
       "      <td>0</td>\n",
       "      <td>1</td>\n",
       "      <td>0</td>\n",
       "      <td>1</td>\n",
       "      <td>1</td>\n",
       "      <td>0</td>\n",
       "    </tr>\n",
       "    <tr>\n",
       "      <th>2</th>\n",
       "      <td>27146619</td>\n",
       "      <td>9/20/41 0:34</td>\n",
       "      <td>9/22/41 12:05</td>\n",
       "      <td>9/20/41 7:13</td>\n",
       "      <td>9/21/41 18:10</td>\n",
       "      <td>1.46</td>\n",
       "      <td>0</td>\n",
       "      <td>F</td>\n",
       "      <td>WHITE</td>\n",
       "      <td>81.717397</td>\n",
       "      <td>...</td>\n",
       "      <td>0</td>\n",
       "      <td>0</td>\n",
       "      <td>1</td>\n",
       "      <td>1</td>\n",
       "      <td>0</td>\n",
       "      <td>0</td>\n",
       "      <td>0</td>\n",
       "      <td>0</td>\n",
       "      <td>1</td>\n",
       "      <td>0</td>\n",
       "    </tr>\n",
       "    <tr>\n",
       "      <th>3</th>\n",
       "      <td>22476441</td>\n",
       "      <td>10/8/73 16:46</td>\n",
       "      <td>10/16/73 13:05</td>\n",
       "      <td>10/8/73 18:28</td>\n",
       "      <td>10/10/73 13:26</td>\n",
       "      <td>1.79</td>\n",
       "      <td>0</td>\n",
       "      <td>F</td>\n",
       "      <td>BLACK/AFRICAN AMERICAN</td>\n",
       "      <td>63.769278</td>\n",
       "      <td>...</td>\n",
       "      <td>0</td>\n",
       "      <td>0</td>\n",
       "      <td>1</td>\n",
       "      <td>1</td>\n",
       "      <td>0</td>\n",
       "      <td>1</td>\n",
       "      <td>1</td>\n",
       "      <td>1</td>\n",
       "      <td>1</td>\n",
       "      <td>0</td>\n",
       "    </tr>\n",
       "    <tr>\n",
       "      <th>4</th>\n",
       "      <td>23169158</td>\n",
       "      <td>3/12/27 1:19</td>\n",
       "      <td>3/19/27 13:15</td>\n",
       "      <td>3/12/27 2:43</td>\n",
       "      <td>3/15/27 1:53</td>\n",
       "      <td>2.97</td>\n",
       "      <td>0</td>\n",
       "      <td>F</td>\n",
       "      <td>WHITE</td>\n",
       "      <td>84.191979</td>\n",
       "      <td>...</td>\n",
       "      <td>1</td>\n",
       "      <td>0</td>\n",
       "      <td>1</td>\n",
       "      <td>1</td>\n",
       "      <td>0</td>\n",
       "      <td>0</td>\n",
       "      <td>1</td>\n",
       "      <td>1</td>\n",
       "      <td>0</td>\n",
       "      <td>0</td>\n",
       "    </tr>\n",
       "  </tbody>\n",
       "</table>\n",
       "<p>5 rows × 25 columns</p>\n",
       "</div>"
      ],
      "text/plain": [
       "         id hosp_admittime  hosp_dischtime     icu_intime     icu_outtime  \\\n",
       "0  24099382   6/11/11 7:15   6/18/11 21:45  6/11/11 14:31   6/13/11 18:05   \n",
       "1  27824879  9/30/28 20:55  10/10/28 15:54  9/30/28 20:58   10/5/28 18:39   \n",
       "2  27146619   9/20/41 0:34   9/22/41 12:05   9/20/41 7:13   9/21/41 18:10   \n",
       "3  22476441  10/8/73 16:46  10/16/73 13:05  10/8/73 18:28  10/10/73 13:26   \n",
       "4  23169158   3/12/27 1:19   3/19/27 13:15   3/12/27 2:43    3/15/27 1:53   \n",
       "\n",
       "   los_icu  icu_death gender                    race  admission_age  ...  \\\n",
       "0     2.15          0      M                   OTHER      58.441631  ...   \n",
       "1     4.90          0      F                   WHITE      79.748598  ...   \n",
       "2     1.46          0      F                   WHITE      81.717397  ...   \n",
       "3     1.79          0      F  BLACK/AFRICAN AMERICAN      63.769278  ...   \n",
       "4     2.97          0      F                   WHITE      84.191979  ...   \n",
       "\n",
       "   atrial_fibrillation  malignant_cancer chf ckd  cld  copd  diabetes  \\\n",
       "0                    0                 0   0   0    0     1         1   \n",
       "1                    0                 0   0   0    0     1         0   \n",
       "2                    0                 0   1   1    0     0         0   \n",
       "3                    0                 0   1   1    0     1         1   \n",
       "4                    1                 0   1   1    0     0         1   \n",
       "\n",
       "   hypertension  ihd  stroke  \n",
       "0             1    0       0  \n",
       "1             1    1       0  \n",
       "2             0    1       0  \n",
       "3             1    1       0  \n",
       "4             1    0       0  \n",
       "\n",
       "[5 rows x 25 columns]"
      ]
     },
     "metadata": {},
     "output_type": "display_data"
    },
    {
     "name": "stdout",
     "output_type": "stream",
     "text": [
      "\n",
      "dynamic\n"
     ]
    },
    {
     "data": {
      "text/html": [
       "<div>\n",
       "<style scoped>\n",
       "    .dataframe tbody tr th:only-of-type {\n",
       "        vertical-align: middle;\n",
       "    }\n",
       "\n",
       "    .dataframe tbody tr th {\n",
       "        vertical-align: top;\n",
       "    }\n",
       "\n",
       "    .dataframe thead th {\n",
       "        text-align: right;\n",
       "    }\n",
       "</style>\n",
       "<table border=\"1\" class=\"dataframe\">\n",
       "  <thead>\n",
       "    <tr style=\"text-align: right;\">\n",
       "      <th></th>\n",
       "      <th>id</th>\n",
       "      <th>charttime</th>\n",
       "      <th>albumin</th>\n",
       "      <th>globulin</th>\n",
       "      <th>total_protein</th>\n",
       "      <th>aniongap</th>\n",
       "      <th>bicarbonate</th>\n",
       "      <th>bun</th>\n",
       "      <th>calcium</th>\n",
       "      <th>chloride</th>\n",
       "      <th>...</th>\n",
       "      <th>sodium_bg</th>\n",
       "      <th>lactate_bg</th>\n",
       "      <th>glucose_bg</th>\n",
       "      <th>d_dimer</th>\n",
       "      <th>fibrinogen</th>\n",
       "      <th>thrombin</th>\n",
       "      <th>inr</th>\n",
       "      <th>pt</th>\n",
       "      <th>ptt</th>\n",
       "      <th>urineoutput</th>\n",
       "    </tr>\n",
       "  </thead>\n",
       "  <tbody>\n",
       "    <tr>\n",
       "      <th>0</th>\n",
       "      <td>28793466</td>\n",
       "      <td>4/12/29 3:35</td>\n",
       "      <td>NaN</td>\n",
       "      <td>NaN</td>\n",
       "      <td>NaN</td>\n",
       "      <td>16.0</td>\n",
       "      <td>21.0</td>\n",
       "      <td>12.0</td>\n",
       "      <td>8.8</td>\n",
       "      <td>106.0</td>\n",
       "      <td>...</td>\n",
       "      <td>NaN</td>\n",
       "      <td>NaN</td>\n",
       "      <td>NaN</td>\n",
       "      <td>NaN</td>\n",
       "      <td>NaN</td>\n",
       "      <td>NaN</td>\n",
       "      <td>1.0</td>\n",
       "      <td>10.9</td>\n",
       "      <td>27.8</td>\n",
       "      <td>NaN</td>\n",
       "    </tr>\n",
       "    <tr>\n",
       "      <th>1</th>\n",
       "      <td>25611175</td>\n",
       "      <td>11/29/40 3:50</td>\n",
       "      <td>NaN</td>\n",
       "      <td>NaN</td>\n",
       "      <td>NaN</td>\n",
       "      <td>15.0</td>\n",
       "      <td>27.0</td>\n",
       "      <td>28.0</td>\n",
       "      <td>8.5</td>\n",
       "      <td>101.0</td>\n",
       "      <td>...</td>\n",
       "      <td>NaN</td>\n",
       "      <td>NaN</td>\n",
       "      <td>NaN</td>\n",
       "      <td>NaN</td>\n",
       "      <td>NaN</td>\n",
       "      <td>NaN</td>\n",
       "      <td>NaN</td>\n",
       "      <td>NaN</td>\n",
       "      <td>NaN</td>\n",
       "      <td>NaN</td>\n",
       "    </tr>\n",
       "    <tr>\n",
       "      <th>2</th>\n",
       "      <td>26115624</td>\n",
       "      <td>9/7/50 0:22</td>\n",
       "      <td>3.5</td>\n",
       "      <td>NaN</td>\n",
       "      <td>NaN</td>\n",
       "      <td>12.0</td>\n",
       "      <td>22.0</td>\n",
       "      <td>9.0</td>\n",
       "      <td>7.9</td>\n",
       "      <td>111.0</td>\n",
       "      <td>...</td>\n",
       "      <td>NaN</td>\n",
       "      <td>NaN</td>\n",
       "      <td>NaN</td>\n",
       "      <td>NaN</td>\n",
       "      <td>NaN</td>\n",
       "      <td>NaN</td>\n",
       "      <td>1.2</td>\n",
       "      <td>13.9</td>\n",
       "      <td>25.8</td>\n",
       "      <td>NaN</td>\n",
       "    </tr>\n",
       "    <tr>\n",
       "      <th>3</th>\n",
       "      <td>28164589</td>\n",
       "      <td>3/11/59 1:11</td>\n",
       "      <td>NaN</td>\n",
       "      <td>NaN</td>\n",
       "      <td>NaN</td>\n",
       "      <td>12.0</td>\n",
       "      <td>34.0</td>\n",
       "      <td>58.0</td>\n",
       "      <td>8.3</td>\n",
       "      <td>103.0</td>\n",
       "      <td>...</td>\n",
       "      <td>NaN</td>\n",
       "      <td>NaN</td>\n",
       "      <td>NaN</td>\n",
       "      <td>NaN</td>\n",
       "      <td>NaN</td>\n",
       "      <td>NaN</td>\n",
       "      <td>3.8</td>\n",
       "      <td>41.7</td>\n",
       "      <td>40.2</td>\n",
       "      <td>NaN</td>\n",
       "    </tr>\n",
       "    <tr>\n",
       "      <th>4</th>\n",
       "      <td>26115624</td>\n",
       "      <td>9/1/50 20:14</td>\n",
       "      <td>NaN</td>\n",
       "      <td>NaN</td>\n",
       "      <td>NaN</td>\n",
       "      <td>NaN</td>\n",
       "      <td>NaN</td>\n",
       "      <td>11.0</td>\n",
       "      <td>7.8</td>\n",
       "      <td>NaN</td>\n",
       "      <td>...</td>\n",
       "      <td>NaN</td>\n",
       "      <td>NaN</td>\n",
       "      <td>NaN</td>\n",
       "      <td>NaN</td>\n",
       "      <td>NaN</td>\n",
       "      <td>NaN</td>\n",
       "      <td>NaN</td>\n",
       "      <td>NaN</td>\n",
       "      <td>NaN</td>\n",
       "      <td>NaN</td>\n",
       "    </tr>\n",
       "  </tbody>\n",
       "</table>\n",
       "<p>5 rows × 70 columns</p>\n",
       "</div>"
      ],
      "text/plain": [
       "         id      charttime  albumin  globulin  total_protein  aniongap  \\\n",
       "0  28793466   4/12/29 3:35      NaN       NaN            NaN      16.0   \n",
       "1  25611175  11/29/40 3:50      NaN       NaN            NaN      15.0   \n",
       "2  26115624    9/7/50 0:22      3.5       NaN            NaN      12.0   \n",
       "3  28164589   3/11/59 1:11      NaN       NaN            NaN      12.0   \n",
       "4  26115624   9/1/50 20:14      NaN       NaN            NaN       NaN   \n",
       "\n",
       "   bicarbonate   bun  calcium  chloride  ...  sodium_bg  lactate_bg  \\\n",
       "0         21.0  12.0      8.8     106.0  ...        NaN         NaN   \n",
       "1         27.0  28.0      8.5     101.0  ...        NaN         NaN   \n",
       "2         22.0   9.0      7.9     111.0  ...        NaN         NaN   \n",
       "3         34.0  58.0      8.3     103.0  ...        NaN         NaN   \n",
       "4          NaN  11.0      7.8       NaN  ...        NaN         NaN   \n",
       "\n",
       "   glucose_bg  d_dimer  fibrinogen  thrombin  inr    pt   ptt  urineoutput  \n",
       "0         NaN      NaN         NaN       NaN  1.0  10.9  27.8          NaN  \n",
       "1         NaN      NaN         NaN       NaN  NaN   NaN   NaN          NaN  \n",
       "2         NaN      NaN         NaN       NaN  1.2  13.9  25.8          NaN  \n",
       "3         NaN      NaN         NaN       NaN  3.8  41.7  40.2          NaN  \n",
       "4         NaN      NaN         NaN       NaN  NaN   NaN   NaN          NaN  \n",
       "\n",
       "[5 rows x 70 columns]"
      ]
     },
     "metadata": {},
     "output_type": "display_data"
    },
    {
     "name": "stdout",
     "output_type": "stream",
     "text": [
      "\n",
      "notes\n"
     ]
    },
    {
     "data": {
      "text/html": [
       "<div>\n",
       "<style scoped>\n",
       "    .dataframe tbody tr th:only-of-type {\n",
       "        vertical-align: middle;\n",
       "    }\n",
       "\n",
       "    .dataframe tbody tr th {\n",
       "        vertical-align: top;\n",
       "    }\n",
       "\n",
       "    .dataframe thead th {\n",
       "        text-align: right;\n",
       "    }\n",
       "</style>\n",
       "<table border=\"1\" class=\"dataframe\">\n",
       "  <thead>\n",
       "    <tr style=\"text-align: right;\">\n",
       "      <th></th>\n",
       "      <th>note_id</th>\n",
       "      <th>id</th>\n",
       "      <th>note_type</th>\n",
       "      <th>note_seq</th>\n",
       "      <th>charttime</th>\n",
       "      <th>text</th>\n",
       "    </tr>\n",
       "  </thead>\n",
       "  <tbody>\n",
       "    <tr>\n",
       "      <th>0</th>\n",
       "      <td>10002930-RR-19</td>\n",
       "      <td>25696644</td>\n",
       "      <td>RR</td>\n",
       "      <td>19</td>\n",
       "      <td>4/14/96 9:57</td>\n",
       "      <td>HISTORY:  Altered mental status.\\n\\nTECHNIQUE:...</td>\n",
       "    </tr>\n",
       "    <tr>\n",
       "      <th>1</th>\n",
       "      <td>10003046-RR-7</td>\n",
       "      <td>26048429</td>\n",
       "      <td>RR</td>\n",
       "      <td>7</td>\n",
       "      <td>1/2/54 16:29</td>\n",
       "      <td>INDICATION:  Esophageal carcinoma, status post...</td>\n",
       "    </tr>\n",
       "    <tr>\n",
       "      <th>2</th>\n",
       "      <td>10003046-RR-8</td>\n",
       "      <td>26048429</td>\n",
       "      <td>RR</td>\n",
       "      <td>8</td>\n",
       "      <td>1/3/54 7:33</td>\n",
       "      <td>HISTORY:  Postop day one interval change.\\n\\nC...</td>\n",
       "    </tr>\n",
       "    <tr>\n",
       "      <th>3</th>\n",
       "      <td>10003400-RR-65</td>\n",
       "      <td>20214994</td>\n",
       "      <td>RR</td>\n",
       "      <td>65</td>\n",
       "      <td>2/24/37 16:01</td>\n",
       "      <td>EXAMINATION:  CHEST (PRE-OP PA AND LAT)\\n\\nIND...</td>\n",
       "    </tr>\n",
       "    <tr>\n",
       "      <th>4</th>\n",
       "      <td>10003400-RR-66</td>\n",
       "      <td>20214994</td>\n",
       "      <td>RR</td>\n",
       "      <td>66</td>\n",
       "      <td>2/25/37 19:23</td>\n",
       "      <td>EXAMINATION:  ABDOMINAL RADIOGRAPHS\\n\\nINDICAT...</td>\n",
       "    </tr>\n",
       "  </tbody>\n",
       "</table>\n",
       "</div>"
      ],
      "text/plain": [
       "          note_id        id note_type  note_seq      charttime  \\\n",
       "0  10002930-RR-19  25696644        RR        19   4/14/96 9:57   \n",
       "1   10003046-RR-7  26048429        RR         7   1/2/54 16:29   \n",
       "2   10003046-RR-8  26048429        RR         8    1/3/54 7:33   \n",
       "3  10003400-RR-65  20214994        RR        65  2/24/37 16:01   \n",
       "4  10003400-RR-66  20214994        RR        66  2/25/37 19:23   \n",
       "\n",
       "                                                text  \n",
       "0  HISTORY:  Altered mental status.\\n\\nTECHNIQUE:...  \n",
       "1  INDICATION:  Esophageal carcinoma, status post...  \n",
       "2  HISTORY:  Postop day one interval change.\\n\\nC...  \n",
       "3  EXAMINATION:  CHEST (PRE-OP PA AND LAT)\\n\\nIND...  \n",
       "4  EXAMINATION:  ABDOMINAL RADIOGRAPHS\\n\\nINDICAT...  "
      ]
     },
     "metadata": {},
     "output_type": "display_data"
    }
   ],
   "source": [
    "static = pd.read_csv('../../data/raw/static.csv')\n",
    "dynamic = pd.read_csv('../../data/raw/dynamic.csv')\n",
    "notes = pd.read_csv('../../data/raw/notes.csv')\n",
    "\n",
    "print('static')\n",
    "display(static.head())\n",
    "print('\\ndynamic')\n",
    "display(dynamic.head())\n",
    "print('\\nnotes')\n",
    "display(notes.head())"
   ]
  },
  {
   "cell_type": "code",
   "execution_count": 4,
   "metadata": {},
   "outputs": [
    {
     "name": "stdout",
     "output_type": "stream",
     "text": [
      "static ids: 20414\n",
      "dynamic ids: 20414\n",
      "notes ids: 20414\n"
     ]
    }
   ],
   "source": [
    "static_unique_ids = static['id'].nunique()\n",
    "dynamic_unique_ids = dynamic['id'].nunique()\n",
    "notes_unique_ids = notes['id'].nunique()\n",
    "\n",
    "\n",
    "print(f'static ids: {static_unique_ids}')\n",
    "print(f'dynamic ids: {dynamic_unique_ids}')\n",
    "print(f'notes ids: {notes_unique_ids}')"
   ]
  },
  {
   "cell_type": "code",
   "execution_count": 24,
   "metadata": {},
   "outputs": [],
   "source": [
    "def na_ratio_acceptable(df, column_name, threshold=0.8):\n",
    "    na_count = df[column_name].isna().sum()\n",
    "\n",
    "    non_na_ratio = 1 - (na_count / df.shape[0])\n",
    "\n",
    "    if non_na_ratio >= threshold:\n",
    "        return True\n",
    "\n",
    "    else:\n",
    "        return False"
   ]
  },
  {
   "cell_type": "code",
   "execution_count": 25,
   "metadata": {},
   "outputs": [],
   "source": [
    "def get_threshold_matrix(df):\n",
    "    features = df.select_dtypes(include=[np.number]).columns.tolist()\n",
    "    correlation_matrix = df[features].corr()\n",
    "\n",
    "    threshold = 0.9\n",
    "    threshold_matrix = correlation_matrix[abs(correlation_matrix) >= threshold]\n",
    "    threshold_matrix = threshold_matrix.stack().reset_index().dropna(how='any')\n",
    "\n",
    "    threshold_matrix.columns = ['variable_1', 'variable_2', 'correlation']\n",
    "    threshold_matrix = threshold_matrix.sort_values(by='correlation', ascending=False)\n",
    "    threshold_matrix = threshold_matrix[threshold_matrix.variable_1 != threshold_matrix.variable_2]\n",
    "\n",
    "    threshold_matrix['sorted_pair'] = threshold_matrix.apply(lambda row: tuple(sorted([row['variable_1'], \n",
    "                                                                                    row['variable_2']])), \n",
    "                                                            axis=1)\n",
    "\n",
    "    threshold_matrix = threshold_matrix.drop_duplicates(subset=['sorted_pair']).drop('sorted_pair', axis=1)\n",
    "\n",
    "    return threshold_matrix\n"
   ]
  },
  {
   "cell_type": "markdown",
   "metadata": {},
   "source": [
    "## Static Cleaning"
   ]
  },
  {
   "cell_type": "code",
   "execution_count": 26,
   "metadata": {},
   "outputs": [
    {
     "data": {
      "text/plain": [
       "['id',\n",
       " 'hosp_admittime',\n",
       " 'hosp_dischtime',\n",
       " 'icu_intime',\n",
       " 'icu_outtime',\n",
       " 'los_icu',\n",
       " 'icu_death',\n",
       " 'gender',\n",
       " 'race',\n",
       " 'admission_age',\n",
       " 'weight_admit',\n",
       " 'admission_type',\n",
       " 'first_careunit',\n",
       " 'charlson_score',\n",
       " 'atrial_fibrillation',\n",
       " 'malignant_cancer',\n",
       " 'chf',\n",
       " 'ckd',\n",
       " 'cld',\n",
       " 'copd',\n",
       " 'diabetes',\n",
       " 'hypertension',\n",
       " 'ihd',\n",
       " 'stroke']"
      ]
     },
     "execution_count": 26,
     "metadata": {},
     "output_type": "execute_result"
    }
   ],
   "source": [
    "static_acceptable_cols = []\n",
    "\n",
    "for col in static.columns:\n",
    "    if na_ratio_acceptable(static, col):\n",
    "        static_acceptable_cols.append(col)\n",
    "\n",
    "static_acceptable_cols"
   ]
  },
  {
   "cell_type": "code",
   "execution_count": 27,
   "metadata": {},
   "outputs": [
    {
     "name": "stdout",
     "output_type": "stream",
     "text": [
      "static ids: 19802\n"
     ]
    }
   ],
   "source": [
    "static = static[static_acceptable_cols].dropna()\n",
    "static_unique_ids = static['id'].nunique()\n",
    "static['gender'] = static['gender'].map(lambda x: 1 if x == 'M' else 0)\n",
    "\n",
    "print(f'static ids: {static_unique_ids}')"
   ]
  },
  {
   "cell_type": "code",
   "execution_count": 28,
   "metadata": {},
   "outputs": [
    {
     "data": {
      "text/html": [
       "<div>\n",
       "<style scoped>\n",
       "    .dataframe tbody tr th:only-of-type {\n",
       "        vertical-align: middle;\n",
       "    }\n",
       "\n",
       "    .dataframe tbody tr th {\n",
       "        vertical-align: top;\n",
       "    }\n",
       "\n",
       "    .dataframe thead th {\n",
       "        text-align: right;\n",
       "    }\n",
       "</style>\n",
       "<table border=\"1\" class=\"dataframe\">\n",
       "  <thead>\n",
       "    <tr style=\"text-align: right;\">\n",
       "      <th></th>\n",
       "      <th>variable_1</th>\n",
       "      <th>variable_2</th>\n",
       "      <th>correlation</th>\n",
       "    </tr>\n",
       "  </thead>\n",
       "  <tbody>\n",
       "  </tbody>\n",
       "</table>\n",
       "</div>"
      ],
      "text/plain": [
       "Empty DataFrame\n",
       "Columns: [variable_1, variable_2, correlation]\n",
       "Index: []"
      ]
     },
     "execution_count": 28,
     "metadata": {},
     "output_type": "execute_result"
    }
   ],
   "source": [
    "get_threshold_matrix(static)"
   ]
  },
  {
   "cell_type": "code",
   "execution_count": 29,
   "metadata": {},
   "outputs": [],
   "source": [
    "class BinStatic():\n",
    "\n",
    "    def __init__(self, static):\n",
    "        self.static = static\n",
    "\n",
    "    def equalize_bins(self, static):\n",
    "        los_icu=np.array(static['los_icu']).reshape(-1, 1)\n",
    "        est = KBinsDiscretizer(n_bins=3, encode='ordinal', strategy='quantile')\n",
    "        est.fit(los_icu)\n",
    "\n",
    "        bin_edges = est.bin_edges_[0]\n",
    "\n",
    "        print(bin_edges)\n",
    "\n",
    "        max_value = los_icu.max()\n",
    "        if bin_edges[-1] <= max_value:\n",
    "            bin_edges[-1] = max_value + 0.1\n",
    "            \n",
    "        labels = ['1 to 2 days', '2 to 4 days', '4+ days']\n",
    "\n",
    "        static['los_icu_binned'] = pd.cut(static['los_icu'], bins=bin_edges, labels=labels, right=False)\n",
    "\n",
    "        return static\n",
    "\n",
    "    def ohe(self, static_binned):\n",
    "        ohe = OneHotEncoder(sparse_output=False, handle_unknown='ignore')\n",
    "        encoded = ohe.fit_transform(static_binned[['los_icu_binned']])\n",
    "        ohe_cols = ohe.get_feature_names_out(['los_icu_binned'])\n",
    "        ohe_los = pd.DataFrame(encoded, columns=ohe_cols)\n",
    "        ohe_static = pd.concat([static, ohe_los], axis=1)\n",
    "\n",
    "        return ohe_static\n",
    "\n",
    "    def main(self):\n",
    "        static_binned = self.equalize_bins(self.static)\n",
    "        ohe_static = self.ohe(static_binned)\n",
    "\n",
    "        return static_binned"
   ]
  },
  {
   "cell_type": "code",
   "execution_count": 30,
   "metadata": {},
   "outputs": [
    {
     "name": "stdout",
     "output_type": "stream",
     "text": [
      "[  1.     2.03   4.13 101.73]\n"
     ]
    },
    {
     "data": {
      "text/plain": [
       "los_icu_binned\n",
       "4+ days        6618\n",
       "2 to 4 days    6602\n",
       "1 to 2 days    6582\n",
       "Name: count, dtype: int64"
      ]
     },
     "execution_count": 30,
     "metadata": {},
     "output_type": "execute_result"
    }
   ],
   "source": [
    "binner = BinStatic(static)\n",
    "\n",
    "static = binner.main()\n",
    "\n",
    "static['los_icu_binned'].value_counts()"
   ]
  },
  {
   "cell_type": "code",
   "execution_count": 32,
   "metadata": {},
   "outputs": [
    {
     "data": {
      "text/plain": [
       "id                     0\n",
       "hosp_admittime         0\n",
       "hosp_dischtime         0\n",
       "icu_intime             0\n",
       "icu_outtime            0\n",
       "los_icu                0\n",
       "icu_death              0\n",
       "gender                 0\n",
       "race                   0\n",
       "admission_age          0\n",
       "weight_admit           0\n",
       "admission_type         0\n",
       "first_careunit         0\n",
       "charlson_score         0\n",
       "atrial_fibrillation    0\n",
       "malignant_cancer       0\n",
       "chf                    0\n",
       "ckd                    0\n",
       "cld                    0\n",
       "copd                   0\n",
       "diabetes               0\n",
       "hypertension           0\n",
       "ihd                    0\n",
       "stroke                 0\n",
       "los_icu_binned         0\n",
       "dtype: int64"
      ]
     },
     "execution_count": 32,
     "metadata": {},
     "output_type": "execute_result"
    }
   ],
   "source": [
    "static.isna().sum()"
   ]
  },
  {
   "cell_type": "markdown",
   "metadata": {},
   "source": [
    "## Dynamic Cleaning"
   ]
  },
  {
   "cell_type": "code",
   "execution_count": 33,
   "metadata": {},
   "outputs": [
    {
     "data": {
      "text/plain": [
       "['id',\n",
       " 'charttime',\n",
       " 'aniongap',\n",
       " 'bicarbonate',\n",
       " 'bun',\n",
       " 'calcium',\n",
       " 'chloride',\n",
       " 'creatinine',\n",
       " 'glucose',\n",
       " 'sodium',\n",
       " 'potassium']"
      ]
     },
     "execution_count": 33,
     "metadata": {},
     "output_type": "execute_result"
    }
   ],
   "source": [
    "dynamic_acceptable_cols = []\n",
    "\n",
    "for col in dynamic.columns:\n",
    "    if na_ratio_acceptable(dynamic, col):\n",
    "        dynamic_acceptable_cols.append(col)\n",
    "\n",
    "dynamic_acceptable_cols"
   ]
  },
  {
   "cell_type": "code",
   "execution_count": 34,
   "metadata": {},
   "outputs": [
    {
     "name": "stdout",
     "output_type": "stream",
     "text": [
      "dynamic ids: 19200\n"
     ]
    }
   ],
   "source": [
    "dynamic = dynamic[dynamic_acceptable_cols].dropna()\n",
    "dynamic = dynamic[dynamic['id'].isin(static['id'].unique())]\n",
    "dynamic_unique_ids = dynamic['id'].nunique()\n",
    "\n",
    "print(f'dynamic ids: {dynamic_unique_ids}')"
   ]
  },
  {
   "cell_type": "code",
   "execution_count": 35,
   "metadata": {},
   "outputs": [
    {
     "data": {
      "text/html": [
       "<div>\n",
       "<style scoped>\n",
       "    .dataframe tbody tr th:only-of-type {\n",
       "        vertical-align: middle;\n",
       "    }\n",
       "\n",
       "    .dataframe tbody tr th {\n",
       "        vertical-align: top;\n",
       "    }\n",
       "\n",
       "    .dataframe thead th {\n",
       "        text-align: right;\n",
       "    }\n",
       "</style>\n",
       "<table border=\"1\" class=\"dataframe\">\n",
       "  <thead>\n",
       "    <tr style=\"text-align: right;\">\n",
       "      <th></th>\n",
       "      <th>variable_1</th>\n",
       "      <th>variable_2</th>\n",
       "      <th>correlation</th>\n",
       "    </tr>\n",
       "  </thead>\n",
       "  <tbody>\n",
       "  </tbody>\n",
       "</table>\n",
       "</div>"
      ],
      "text/plain": [
       "Empty DataFrame\n",
       "Columns: [variable_1, variable_2, correlation]\n",
       "Index: []"
      ]
     },
     "execution_count": 35,
     "metadata": {},
     "output_type": "execute_result"
    }
   ],
   "source": [
    "get_threshold_matrix(dynamic)"
   ]
  },
  {
   "cell_type": "code",
   "execution_count": 36,
   "metadata": {},
   "outputs": [
    {
     "data": {
      "application/vnd.plotly.v1+json": {
       "config": {
        "plotlyServerURL": "https://plot.ly"
       },
       "data": [
        {
         "mode": "lines+markers",
         "type": "scatter",
         "x": [
          1,
          2,
          3,
          4,
          5,
          6,
          7,
          8,
          9,
          10
         ],
         "y": [
          19200,
          15078,
          9696,
          6238,
          4223,
          3021,
          2285,
          1789,
          1463,
          1226
         ]
        }
       ],
       "layout": {
        "template": {
         "data": {
          "bar": [
           {
            "error_x": {
             "color": "#2a3f5f"
            },
            "error_y": {
             "color": "#2a3f5f"
            },
            "marker": {
             "line": {
              "color": "#E5ECF6",
              "width": 0.5
             },
             "pattern": {
              "fillmode": "overlay",
              "size": 10,
              "solidity": 0.2
             }
            },
            "type": "bar"
           }
          ],
          "barpolar": [
           {
            "marker": {
             "line": {
              "color": "#E5ECF6",
              "width": 0.5
             },
             "pattern": {
              "fillmode": "overlay",
              "size": 10,
              "solidity": 0.2
             }
            },
            "type": "barpolar"
           }
          ],
          "carpet": [
           {
            "aaxis": {
             "endlinecolor": "#2a3f5f",
             "gridcolor": "white",
             "linecolor": "white",
             "minorgridcolor": "white",
             "startlinecolor": "#2a3f5f"
            },
            "baxis": {
             "endlinecolor": "#2a3f5f",
             "gridcolor": "white",
             "linecolor": "white",
             "minorgridcolor": "white",
             "startlinecolor": "#2a3f5f"
            },
            "type": "carpet"
           }
          ],
          "choropleth": [
           {
            "colorbar": {
             "outlinewidth": 0,
             "ticks": ""
            },
            "type": "choropleth"
           }
          ],
          "contour": [
           {
            "colorbar": {
             "outlinewidth": 0,
             "ticks": ""
            },
            "colorscale": [
             [
              0,
              "#0d0887"
             ],
             [
              0.1111111111111111,
              "#46039f"
             ],
             [
              0.2222222222222222,
              "#7201a8"
             ],
             [
              0.3333333333333333,
              "#9c179e"
             ],
             [
              0.4444444444444444,
              "#bd3786"
             ],
             [
              0.5555555555555556,
              "#d8576b"
             ],
             [
              0.6666666666666666,
              "#ed7953"
             ],
             [
              0.7777777777777778,
              "#fb9f3a"
             ],
             [
              0.8888888888888888,
              "#fdca26"
             ],
             [
              1,
              "#f0f921"
             ]
            ],
            "type": "contour"
           }
          ],
          "contourcarpet": [
           {
            "colorbar": {
             "outlinewidth": 0,
             "ticks": ""
            },
            "type": "contourcarpet"
           }
          ],
          "heatmap": [
           {
            "colorbar": {
             "outlinewidth": 0,
             "ticks": ""
            },
            "colorscale": [
             [
              0,
              "#0d0887"
             ],
             [
              0.1111111111111111,
              "#46039f"
             ],
             [
              0.2222222222222222,
              "#7201a8"
             ],
             [
              0.3333333333333333,
              "#9c179e"
             ],
             [
              0.4444444444444444,
              "#bd3786"
             ],
             [
              0.5555555555555556,
              "#d8576b"
             ],
             [
              0.6666666666666666,
              "#ed7953"
             ],
             [
              0.7777777777777778,
              "#fb9f3a"
             ],
             [
              0.8888888888888888,
              "#fdca26"
             ],
             [
              1,
              "#f0f921"
             ]
            ],
            "type": "heatmap"
           }
          ],
          "heatmapgl": [
           {
            "colorbar": {
             "outlinewidth": 0,
             "ticks": ""
            },
            "colorscale": [
             [
              0,
              "#0d0887"
             ],
             [
              0.1111111111111111,
              "#46039f"
             ],
             [
              0.2222222222222222,
              "#7201a8"
             ],
             [
              0.3333333333333333,
              "#9c179e"
             ],
             [
              0.4444444444444444,
              "#bd3786"
             ],
             [
              0.5555555555555556,
              "#d8576b"
             ],
             [
              0.6666666666666666,
              "#ed7953"
             ],
             [
              0.7777777777777778,
              "#fb9f3a"
             ],
             [
              0.8888888888888888,
              "#fdca26"
             ],
             [
              1,
              "#f0f921"
             ]
            ],
            "type": "heatmapgl"
           }
          ],
          "histogram": [
           {
            "marker": {
             "pattern": {
              "fillmode": "overlay",
              "size": 10,
              "solidity": 0.2
             }
            },
            "type": "histogram"
           }
          ],
          "histogram2d": [
           {
            "colorbar": {
             "outlinewidth": 0,
             "ticks": ""
            },
            "colorscale": [
             [
              0,
              "#0d0887"
             ],
             [
              0.1111111111111111,
              "#46039f"
             ],
             [
              0.2222222222222222,
              "#7201a8"
             ],
             [
              0.3333333333333333,
              "#9c179e"
             ],
             [
              0.4444444444444444,
              "#bd3786"
             ],
             [
              0.5555555555555556,
              "#d8576b"
             ],
             [
              0.6666666666666666,
              "#ed7953"
             ],
             [
              0.7777777777777778,
              "#fb9f3a"
             ],
             [
              0.8888888888888888,
              "#fdca26"
             ],
             [
              1,
              "#f0f921"
             ]
            ],
            "type": "histogram2d"
           }
          ],
          "histogram2dcontour": [
           {
            "colorbar": {
             "outlinewidth": 0,
             "ticks": ""
            },
            "colorscale": [
             [
              0,
              "#0d0887"
             ],
             [
              0.1111111111111111,
              "#46039f"
             ],
             [
              0.2222222222222222,
              "#7201a8"
             ],
             [
              0.3333333333333333,
              "#9c179e"
             ],
             [
              0.4444444444444444,
              "#bd3786"
             ],
             [
              0.5555555555555556,
              "#d8576b"
             ],
             [
              0.6666666666666666,
              "#ed7953"
             ],
             [
              0.7777777777777778,
              "#fb9f3a"
             ],
             [
              0.8888888888888888,
              "#fdca26"
             ],
             [
              1,
              "#f0f921"
             ]
            ],
            "type": "histogram2dcontour"
           }
          ],
          "mesh3d": [
           {
            "colorbar": {
             "outlinewidth": 0,
             "ticks": ""
            },
            "type": "mesh3d"
           }
          ],
          "parcoords": [
           {
            "line": {
             "colorbar": {
              "outlinewidth": 0,
              "ticks": ""
             }
            },
            "type": "parcoords"
           }
          ],
          "pie": [
           {
            "automargin": true,
            "type": "pie"
           }
          ],
          "scatter": [
           {
            "fillpattern": {
             "fillmode": "overlay",
             "size": 10,
             "solidity": 0.2
            },
            "type": "scatter"
           }
          ],
          "scatter3d": [
           {
            "line": {
             "colorbar": {
              "outlinewidth": 0,
              "ticks": ""
             }
            },
            "marker": {
             "colorbar": {
              "outlinewidth": 0,
              "ticks": ""
             }
            },
            "type": "scatter3d"
           }
          ],
          "scattercarpet": [
           {
            "marker": {
             "colorbar": {
              "outlinewidth": 0,
              "ticks": ""
             }
            },
            "type": "scattercarpet"
           }
          ],
          "scattergeo": [
           {
            "marker": {
             "colorbar": {
              "outlinewidth": 0,
              "ticks": ""
             }
            },
            "type": "scattergeo"
           }
          ],
          "scattergl": [
           {
            "marker": {
             "colorbar": {
              "outlinewidth": 0,
              "ticks": ""
             }
            },
            "type": "scattergl"
           }
          ],
          "scattermapbox": [
           {
            "marker": {
             "colorbar": {
              "outlinewidth": 0,
              "ticks": ""
             }
            },
            "type": "scattermapbox"
           }
          ],
          "scatterpolar": [
           {
            "marker": {
             "colorbar": {
              "outlinewidth": 0,
              "ticks": ""
             }
            },
            "type": "scatterpolar"
           }
          ],
          "scatterpolargl": [
           {
            "marker": {
             "colorbar": {
              "outlinewidth": 0,
              "ticks": ""
             }
            },
            "type": "scatterpolargl"
           }
          ],
          "scatterternary": [
           {
            "marker": {
             "colorbar": {
              "outlinewidth": 0,
              "ticks": ""
             }
            },
            "type": "scatterternary"
           }
          ],
          "surface": [
           {
            "colorbar": {
             "outlinewidth": 0,
             "ticks": ""
            },
            "colorscale": [
             [
              0,
              "#0d0887"
             ],
             [
              0.1111111111111111,
              "#46039f"
             ],
             [
              0.2222222222222222,
              "#7201a8"
             ],
             [
              0.3333333333333333,
              "#9c179e"
             ],
             [
              0.4444444444444444,
              "#bd3786"
             ],
             [
              0.5555555555555556,
              "#d8576b"
             ],
             [
              0.6666666666666666,
              "#ed7953"
             ],
             [
              0.7777777777777778,
              "#fb9f3a"
             ],
             [
              0.8888888888888888,
              "#fdca26"
             ],
             [
              1,
              "#f0f921"
             ]
            ],
            "type": "surface"
           }
          ],
          "table": [
           {
            "cells": {
             "fill": {
              "color": "#EBF0F8"
             },
             "line": {
              "color": "white"
             }
            },
            "header": {
             "fill": {
              "color": "#C8D4E3"
             },
             "line": {
              "color": "white"
             }
            },
            "type": "table"
           }
          ]
         },
         "layout": {
          "annotationdefaults": {
           "arrowcolor": "#2a3f5f",
           "arrowhead": 0,
           "arrowwidth": 1
          },
          "autotypenumbers": "strict",
          "coloraxis": {
           "colorbar": {
            "outlinewidth": 0,
            "ticks": ""
           }
          },
          "colorscale": {
           "diverging": [
            [
             0,
             "#8e0152"
            ],
            [
             0.1,
             "#c51b7d"
            ],
            [
             0.2,
             "#de77ae"
            ],
            [
             0.3,
             "#f1b6da"
            ],
            [
             0.4,
             "#fde0ef"
            ],
            [
             0.5,
             "#f7f7f7"
            ],
            [
             0.6,
             "#e6f5d0"
            ],
            [
             0.7,
             "#b8e186"
            ],
            [
             0.8,
             "#7fbc41"
            ],
            [
             0.9,
             "#4d9221"
            ],
            [
             1,
             "#276419"
            ]
           ],
           "sequential": [
            [
             0,
             "#0d0887"
            ],
            [
             0.1111111111111111,
             "#46039f"
            ],
            [
             0.2222222222222222,
             "#7201a8"
            ],
            [
             0.3333333333333333,
             "#9c179e"
            ],
            [
             0.4444444444444444,
             "#bd3786"
            ],
            [
             0.5555555555555556,
             "#d8576b"
            ],
            [
             0.6666666666666666,
             "#ed7953"
            ],
            [
             0.7777777777777778,
             "#fb9f3a"
            ],
            [
             0.8888888888888888,
             "#fdca26"
            ],
            [
             1,
             "#f0f921"
            ]
           ],
           "sequentialminus": [
            [
             0,
             "#0d0887"
            ],
            [
             0.1111111111111111,
             "#46039f"
            ],
            [
             0.2222222222222222,
             "#7201a8"
            ],
            [
             0.3333333333333333,
             "#9c179e"
            ],
            [
             0.4444444444444444,
             "#bd3786"
            ],
            [
             0.5555555555555556,
             "#d8576b"
            ],
            [
             0.6666666666666666,
             "#ed7953"
            ],
            [
             0.7777777777777778,
             "#fb9f3a"
            ],
            [
             0.8888888888888888,
             "#fdca26"
            ],
            [
             1,
             "#f0f921"
            ]
           ]
          },
          "colorway": [
           "#636efa",
           "#EF553B",
           "#00cc96",
           "#ab63fa",
           "#FFA15A",
           "#19d3f3",
           "#FF6692",
           "#B6E880",
           "#FF97FF",
           "#FECB52"
          ],
          "font": {
           "color": "#2a3f5f"
          },
          "geo": {
           "bgcolor": "white",
           "lakecolor": "white",
           "landcolor": "#E5ECF6",
           "showlakes": true,
           "showland": true,
           "subunitcolor": "white"
          },
          "hoverlabel": {
           "align": "left"
          },
          "hovermode": "closest",
          "mapbox": {
           "style": "light"
          },
          "paper_bgcolor": "white",
          "plot_bgcolor": "#E5ECF6",
          "polar": {
           "angularaxis": {
            "gridcolor": "white",
            "linecolor": "white",
            "ticks": ""
           },
           "bgcolor": "#E5ECF6",
           "radialaxis": {
            "gridcolor": "white",
            "linecolor": "white",
            "ticks": ""
           }
          },
          "scene": {
           "xaxis": {
            "backgroundcolor": "#E5ECF6",
            "gridcolor": "white",
            "gridwidth": 2,
            "linecolor": "white",
            "showbackground": true,
            "ticks": "",
            "zerolinecolor": "white"
           },
           "yaxis": {
            "backgroundcolor": "#E5ECF6",
            "gridcolor": "white",
            "gridwidth": 2,
            "linecolor": "white",
            "showbackground": true,
            "ticks": "",
            "zerolinecolor": "white"
           },
           "zaxis": {
            "backgroundcolor": "#E5ECF6",
            "gridcolor": "white",
            "gridwidth": 2,
            "linecolor": "white",
            "showbackground": true,
            "ticks": "",
            "zerolinecolor": "white"
           }
          },
          "shapedefaults": {
           "line": {
            "color": "#2a3f5f"
           }
          },
          "ternary": {
           "aaxis": {
            "gridcolor": "white",
            "linecolor": "white",
            "ticks": ""
           },
           "baxis": {
            "gridcolor": "white",
            "linecolor": "white",
            "ticks": ""
           },
           "bgcolor": "#E5ECF6",
           "caxis": {
            "gridcolor": "white",
            "linecolor": "white",
            "ticks": ""
           }
          },
          "title": {
           "x": 0.05
          },
          "xaxis": {
           "automargin": true,
           "gridcolor": "white",
           "linecolor": "white",
           "ticks": "",
           "title": {
            "standoff": 15
           },
           "zerolinecolor": "white",
           "zerolinewidth": 2
          },
          "yaxis": {
           "automargin": true,
           "gridcolor": "white",
           "linecolor": "white",
           "ticks": "",
           "title": {
            "standoff": 15
           },
           "zerolinecolor": "white",
           "zerolinewidth": 2
          }
         }
        },
        "title": {
         "text": "Number of Unique IDs by Minimum Number of Timesteps"
        },
        "xaxis": {
         "tickmode": "array",
         "tickvals": [
          1,
          2,
          3,
          4,
          5,
          6,
          7,
          8,
          9,
          10
         ],
         "title": {
          "text": "Minimum Timesteps"
         }
        },
        "yaxis": {
         "title": {
          "text": "Cohort Size"
         }
        }
       }
      }
     },
     "metadata": {},
     "output_type": "display_data"
    }
   ],
   "source": [
    "thresholds = range(1, 11)\n",
    "counts = []\n",
    "\n",
    "for threshold in thresholds:\n",
    "    filtered_id_counts = dynamic['id'].value_counts()[dynamic['id'].value_counts() >= threshold]\n",
    "    counts.append(len(filtered_id_counts))\n",
    "\n",
    "fig = go.Figure()\n",
    "\n",
    "fig.add_trace(go.Scatter(x=list(thresholds), y=counts, mode='lines+markers'))\n",
    "\n",
    "fig.update_layout(\n",
    "    title='Number of Unique IDs by Minimum Number of Timesteps',\n",
    "    xaxis_title='Minimum Timesteps',\n",
    "    yaxis_title='Cohort Size',\n",
    "    xaxis=dict(tickmode='array', tickvals=list(thresholds))\n",
    ")\n",
    "\n",
    "fig.show()\n",
    "\n",
    "fig.write_html('../data/figures/cohort-v-minimum-timesteps.html')"
   ]
  },
  {
   "cell_type": "code",
   "execution_count": 37,
   "metadata": {},
   "outputs": [
    {
     "name": "stdout",
     "output_type": "stream",
     "text": [
      "dynamic shape: (59452, 11)\n",
      "cohort size: 9696\n"
     ]
    }
   ],
   "source": [
    "valid_ids = dynamic['id'].value_counts()[dynamic['id'].value_counts() >= 3].index.unique()\n",
    "\n",
    "dynamic = dynamic[dynamic['id'].isin(valid_ids)]\n",
    "\n",
    "print(f'dynamic shape: {dynamic.shape}')\n",
    "\n",
    "print(f'cohort size: {dynamic[\"id\"].nunique()}')"
   ]
  },
  {
   "cell_type": "markdown",
   "metadata": {},
   "source": [
    "## Notes Cleaning"
   ]
  },
  {
   "cell_type": "code",
   "execution_count": 38,
   "metadata": {},
   "outputs": [
    {
     "data": {
      "text/plain": [
       "['note_id', 'id', 'note_type', 'note_seq', 'charttime', 'text']"
      ]
     },
     "execution_count": 38,
     "metadata": {},
     "output_type": "execute_result"
    }
   ],
   "source": [
    "notes_acceptable_cols = []\n",
    "\n",
    "for col in notes.columns:\n",
    "    if na_ratio_acceptable(notes, col):\n",
    "        notes_acceptable_cols.append(col)\n",
    "\n",
    "notes_acceptable_cols"
   ]
  },
  {
   "cell_type": "code",
   "execution_count": 39,
   "metadata": {},
   "outputs": [
    {
     "name": "stdout",
     "output_type": "stream",
     "text": [
      "notes ids : 20414\n"
     ]
    }
   ],
   "source": [
    "notes = notes[notes_acceptable_cols].dropna()\n",
    "notes_unique_ids = notes['id'].nunique()\n",
    "\n",
    "print(f'notes ids : {notes_unique_ids}')"
   ]
  },
  {
   "cell_type": "code",
   "execution_count": 40,
   "metadata": {},
   "outputs": [
    {
     "name": "stdout",
     "output_type": "stream",
     "text": [
      "notes shape: (47608, 6)\n",
      "cohort size: 9696\n"
     ]
    }
   ],
   "source": [
    "notes = notes[notes['id'].isin(valid_ids)]\n",
    "\n",
    "print(f'notes shape: {notes.shape}')\n",
    "\n",
    "print(f'cohort size: {notes[\"id\"].nunique()}')"
   ]
  },
  {
   "cell_type": "code",
   "execution_count": 41,
   "metadata": {},
   "outputs": [],
   "source": [
    "def calculate_intervals(group):\n",
    "    last_date = group['charttime'].max()\n",
    "    group['interval'] = (last_date - group['charttime']).dt.days\n",
    "    \n",
    "    return group"
   ]
  },
  {
   "cell_type": "code",
   "execution_count": 42,
   "metadata": {},
   "outputs": [
    {
     "data": {
      "text/html": [
       "<div>\n",
       "<style scoped>\n",
       "    .dataframe tbody tr th:only-of-type {\n",
       "        vertical-align: middle;\n",
       "    }\n",
       "\n",
       "    .dataframe tbody tr th {\n",
       "        vertical-align: top;\n",
       "    }\n",
       "\n",
       "    .dataframe thead th {\n",
       "        text-align: right;\n",
       "    }\n",
       "</style>\n",
       "<table border=\"1\" class=\"dataframe\">\n",
       "  <thead>\n",
       "    <tr style=\"text-align: right;\">\n",
       "      <th></th>\n",
       "      <th>note_id</th>\n",
       "      <th>id</th>\n",
       "      <th>note_type</th>\n",
       "      <th>note_seq</th>\n",
       "      <th>charttime</th>\n",
       "      <th>text</th>\n",
       "      <th>interval</th>\n",
       "    </tr>\n",
       "  </thead>\n",
       "  <tbody>\n",
       "    <tr>\n",
       "      <th>68719</th>\n",
       "      <td>18434803-RR-10</td>\n",
       "      <td>29998399</td>\n",
       "      <td>RR</td>\n",
       "      <td>10</td>\n",
       "      <td>2012-05-08 18:52:00</td>\n",
       "      <td>INDICATION:  ___ rear ended motor cycle into s...</td>\n",
       "      <td>1</td>\n",
       "    </tr>\n",
       "    <tr>\n",
       "      <th>68720</th>\n",
       "      <td>18434803-RR-11</td>\n",
       "      <td>29998399</td>\n",
       "      <td>RR</td>\n",
       "      <td>11</td>\n",
       "      <td>2012-05-08 19:09:00</td>\n",
       "      <td>EXAMINATION:  CT HEAD W/O CONTRAST\\n\\nINDICATI...</td>\n",
       "      <td>0</td>\n",
       "    </tr>\n",
       "    <tr>\n",
       "      <th>68721</th>\n",
       "      <td>18434803-RR-12</td>\n",
       "      <td>29998399</td>\n",
       "      <td>RR</td>\n",
       "      <td>12</td>\n",
       "      <td>2012-05-08 19:09:00</td>\n",
       "      <td>EXAMINATION:  CT C-SPINE W/O CONTRAST\\n\\nINDIC...</td>\n",
       "      <td>0</td>\n",
       "    </tr>\n",
       "    <tr>\n",
       "      <th>68722</th>\n",
       "      <td>18434803-RR-13</td>\n",
       "      <td>29998399</td>\n",
       "      <td>RR</td>\n",
       "      <td>13</td>\n",
       "      <td>2012-05-08 19:10:00</td>\n",
       "      <td>EXAMINATION:  CT torso\\n\\nINDICATION:  ___ rea...</td>\n",
       "      <td>0</td>\n",
       "    </tr>\n",
       "    <tr>\n",
       "      <th>68723</th>\n",
       "      <td>18434803-RR-14</td>\n",
       "      <td>29998399</td>\n",
       "      <td>RR</td>\n",
       "      <td>14</td>\n",
       "      <td>2012-05-08 19:12:00</td>\n",
       "      <td>EXAMINATION:  SCROTAL U.S.\\n\\nINDICATION:  ___...</td>\n",
       "      <td>0</td>\n",
       "    </tr>\n",
       "    <tr>\n",
       "      <th>68724</th>\n",
       "      <td>18434803-RR-15</td>\n",
       "      <td>29998399</td>\n",
       "      <td>RR</td>\n",
       "      <td>15</td>\n",
       "      <td>2012-05-08 20:21:00</td>\n",
       "      <td>INDICATION:  ___ s/p MCC intubated// plz evalu...</td>\n",
       "      <td>0</td>\n",
       "    </tr>\n",
       "    <tr>\n",
       "      <th>68725</th>\n",
       "      <td>18434803-RR-16</td>\n",
       "      <td>29998399</td>\n",
       "      <td>RR</td>\n",
       "      <td>16</td>\n",
       "      <td>2012-05-08 20:41:00</td>\n",
       "      <td>INDICATION:  ___ year old man with open book, ...</td>\n",
       "      <td>0</td>\n",
       "    </tr>\n",
       "    <tr>\n",
       "      <th>68726</th>\n",
       "      <td>18434803-RR-17</td>\n",
       "      <td>29998399</td>\n",
       "      <td>RR</td>\n",
       "      <td>17</td>\n",
       "      <td>2012-05-08 21:02:00</td>\n",
       "      <td>INDICATION:  ___ year old man with polytrauma ...</td>\n",
       "      <td>0</td>\n",
       "    </tr>\n",
       "    <tr>\n",
       "      <th>68727</th>\n",
       "      <td>18434803-RR-18</td>\n",
       "      <td>29998399</td>\n",
       "      <td>RR</td>\n",
       "      <td>18</td>\n",
       "      <td>2012-05-08 23:52:00</td>\n",
       "      <td>EXAMINATION:  CT PELVIS WITHOUT CONTRAST\\n\\nIN...</td>\n",
       "      <td>0</td>\n",
       "    </tr>\n",
       "    <tr>\n",
       "      <th>68729</th>\n",
       "      <td>18434803-RR-20</td>\n",
       "      <td>29998399</td>\n",
       "      <td>RR</td>\n",
       "      <td>20</td>\n",
       "      <td>2012-05-09 04:01:00</td>\n",
       "      <td>EXAMINATION:  CT HEAD W/O CONTRAST Q111 CT HEA...</td>\n",
       "      <td>0</td>\n",
       "    </tr>\n",
       "    <tr>\n",
       "      <th>68728</th>\n",
       "      <td>18434803-RR-19</td>\n",
       "      <td>29998399</td>\n",
       "      <td>RR</td>\n",
       "      <td>19</td>\n",
       "      <td>2012-05-09 04:37:00</td>\n",
       "      <td>EXAMINATION:  DX FEMUR AND KNEE; KNEE((SINGLE ...</td>\n",
       "      <td>0</td>\n",
       "    </tr>\n",
       "    <tr>\n",
       "      <th>68730</th>\n",
       "      <td>18434803-RR-21</td>\n",
       "      <td>29998399</td>\n",
       "      <td>RR</td>\n",
       "      <td>21</td>\n",
       "      <td>2012-05-09 05:01:00</td>\n",
       "      <td>EXAMINATION:  CHEST (SINGLE VIEW)\\n\\nINDICATIO...</td>\n",
       "      <td>0</td>\n",
       "    </tr>\n",
       "    <tr>\n",
       "      <th>68731</th>\n",
       "      <td>18434803-RR-22</td>\n",
       "      <td>29998399</td>\n",
       "      <td>RR</td>\n",
       "      <td>22</td>\n",
       "      <td>2012-05-09 06:35:00</td>\n",
       "      <td>EXAMINATION:  DX FEMUR AND KNEE; KNEE((SINGLE ...</td>\n",
       "      <td>0</td>\n",
       "    </tr>\n",
       "    <tr>\n",
       "      <th>68733</th>\n",
       "      <td>18434803-RR-24</td>\n",
       "      <td>29998399</td>\n",
       "      <td>RR</td>\n",
       "      <td>24</td>\n",
       "      <td>2012-05-09 08:37:00</td>\n",
       "      <td>INDICATION:  ___ year old man with known pelvi...</td>\n",
       "      <td>0</td>\n",
       "    </tr>\n",
       "    <tr>\n",
       "      <th>68732</th>\n",
       "      <td>18434803-RR-23</td>\n",
       "      <td>29998399</td>\n",
       "      <td>RR</td>\n",
       "      <td>23</td>\n",
       "      <td>2012-05-09 14:53:00</td>\n",
       "      <td>EXAMINATION:  PELVIS (AP, INLET AND OUTLET)\\n\\...</td>\n",
       "      <td>0</td>\n",
       "    </tr>\n",
       "    <tr>\n",
       "      <th>68734</th>\n",
       "      <td>18434803-RR-25</td>\n",
       "      <td>29998399</td>\n",
       "      <td>RR</td>\n",
       "      <td>25</td>\n",
       "      <td>2012-05-09 19:03:00</td>\n",
       "      <td>EXAMINATION:  CT HEAD W/O CONTRAST Q111 CT HEA...</td>\n",
       "      <td>0</td>\n",
       "    </tr>\n",
       "    <tr>\n",
       "      <th>66465</th>\n",
       "      <td>18164304-RR-30</td>\n",
       "      <td>29997500</td>\n",
       "      <td>RR</td>\n",
       "      <td>30</td>\n",
       "      <td>2015-05-16 18:49:00</td>\n",
       "      <td>INDICATION:  ___ year old woman with poorly di...</td>\n",
       "      <td>2</td>\n",
       "    </tr>\n",
       "    <tr>\n",
       "      <th>66466</th>\n",
       "      <td>18164304-RR-31</td>\n",
       "      <td>29997500</td>\n",
       "      <td>RR</td>\n",
       "      <td>31</td>\n",
       "      <td>2015-05-18 11:45:00</td>\n",
       "      <td>EXAMINATION:  CHEST (PORTABLE AP)\\n\\nINDICATIO...</td>\n",
       "      <td>0</td>\n",
       "    </tr>\n",
       "    <tr>\n",
       "      <th>66467</th>\n",
       "      <td>18164304-RR-32</td>\n",
       "      <td>29997500</td>\n",
       "      <td>RR</td>\n",
       "      <td>32</td>\n",
       "      <td>2015-05-18 21:52:00</td>\n",
       "      <td>INDICATION:  ___ year old woman with active Me...</td>\n",
       "      <td>0</td>\n",
       "    </tr>\n",
       "    <tr>\n",
       "      <th>46442</th>\n",
       "      <td>15631692-RR-19</td>\n",
       "      <td>29996513</td>\n",
       "      <td>RR</td>\n",
       "      <td>19</td>\n",
       "      <td>2063-12-10 20:58:00</td>\n",
       "      <td>EXAMINATION:  CT HEAD W/O CONTRAST\\n\\nINDICATI...</td>\n",
       "      <td>0</td>\n",
       "    </tr>\n",
       "  </tbody>\n",
       "</table>\n",
       "</div>"
      ],
      "text/plain": [
       "              note_id        id note_type  note_seq           charttime  \\\n",
       "68719  18434803-RR-10  29998399        RR        10 2012-05-08 18:52:00   \n",
       "68720  18434803-RR-11  29998399        RR        11 2012-05-08 19:09:00   \n",
       "68721  18434803-RR-12  29998399        RR        12 2012-05-08 19:09:00   \n",
       "68722  18434803-RR-13  29998399        RR        13 2012-05-08 19:10:00   \n",
       "68723  18434803-RR-14  29998399        RR        14 2012-05-08 19:12:00   \n",
       "68724  18434803-RR-15  29998399        RR        15 2012-05-08 20:21:00   \n",
       "68725  18434803-RR-16  29998399        RR        16 2012-05-08 20:41:00   \n",
       "68726  18434803-RR-17  29998399        RR        17 2012-05-08 21:02:00   \n",
       "68727  18434803-RR-18  29998399        RR        18 2012-05-08 23:52:00   \n",
       "68729  18434803-RR-20  29998399        RR        20 2012-05-09 04:01:00   \n",
       "68728  18434803-RR-19  29998399        RR        19 2012-05-09 04:37:00   \n",
       "68730  18434803-RR-21  29998399        RR        21 2012-05-09 05:01:00   \n",
       "68731  18434803-RR-22  29998399        RR        22 2012-05-09 06:35:00   \n",
       "68733  18434803-RR-24  29998399        RR        24 2012-05-09 08:37:00   \n",
       "68732  18434803-RR-23  29998399        RR        23 2012-05-09 14:53:00   \n",
       "68734  18434803-RR-25  29998399        RR        25 2012-05-09 19:03:00   \n",
       "66465  18164304-RR-30  29997500        RR        30 2015-05-16 18:49:00   \n",
       "66466  18164304-RR-31  29997500        RR        31 2015-05-18 11:45:00   \n",
       "66467  18164304-RR-32  29997500        RR        32 2015-05-18 21:52:00   \n",
       "46442  15631692-RR-19  29996513        RR        19 2063-12-10 20:58:00   \n",
       "\n",
       "                                                    text  interval  \n",
       "68719  INDICATION:  ___ rear ended motor cycle into s...         1  \n",
       "68720  EXAMINATION:  CT HEAD W/O CONTRAST\\n\\nINDICATI...         0  \n",
       "68721  EXAMINATION:  CT C-SPINE W/O CONTRAST\\n\\nINDIC...         0  \n",
       "68722  EXAMINATION:  CT torso\\n\\nINDICATION:  ___ rea...         0  \n",
       "68723  EXAMINATION:  SCROTAL U.S.\\n\\nINDICATION:  ___...         0  \n",
       "68724  INDICATION:  ___ s/p MCC intubated// plz evalu...         0  \n",
       "68725  INDICATION:  ___ year old man with open book, ...         0  \n",
       "68726  INDICATION:  ___ year old man with polytrauma ...         0  \n",
       "68727  EXAMINATION:  CT PELVIS WITHOUT CONTRAST\\n\\nIN...         0  \n",
       "68729  EXAMINATION:  CT HEAD W/O CONTRAST Q111 CT HEA...         0  \n",
       "68728  EXAMINATION:  DX FEMUR AND KNEE; KNEE((SINGLE ...         0  \n",
       "68730  EXAMINATION:  CHEST (SINGLE VIEW)\\n\\nINDICATIO...         0  \n",
       "68731  EXAMINATION:  DX FEMUR AND KNEE; KNEE((SINGLE ...         0  \n",
       "68733  INDICATION:  ___ year old man with known pelvi...         0  \n",
       "68732  EXAMINATION:  PELVIS (AP, INLET AND OUTLET)\\n\\...         0  \n",
       "68734  EXAMINATION:  CT HEAD W/O CONTRAST Q111 CT HEA...         0  \n",
       "66465  INDICATION:  ___ year old woman with poorly di...         2  \n",
       "66466  EXAMINATION:  CHEST (PORTABLE AP)\\n\\nINDICATIO...         0  \n",
       "66467  INDICATION:  ___ year old woman with active Me...         0  \n",
       "46442  EXAMINATION:  CT HEAD W/O CONTRAST\\n\\nINDICATI...         0  "
      ]
     },
     "execution_count": 42,
     "metadata": {},
     "output_type": "execute_result"
    }
   ],
   "source": [
    "notes['charttime'] = pd.to_datetime(notes['charttime'], format='%m/%d/%y %H:%M')\n",
    "max_charttime = notes.groupby('id')['charttime'].transform('max')\n",
    "\n",
    "notes['interval'] = (max_charttime - notes['charttime']).dt.days\n",
    "\n",
    "\n",
    "notes = notes.sort_values(by=['id', 'charttime'], ascending=[False, True])\n",
    "\n",
    "notes.head(20)"
   ]
  },
  {
   "cell_type": "code",
   "execution_count": 43,
   "metadata": {},
   "outputs": [],
   "source": [
    "static = static[static['id'].isin(valid_ids)]\n",
    "\n",
    "static.to_csv('../data/static_cleaned.csv', index=False)\n",
    "dynamic.to_csv('../data/dynamic_cleaned.csv', index=False)\n",
    "notes.to_csv('../data/notes_cleaned.csv', index=False)"
   ]
  },
  {
   "cell_type": "code",
   "execution_count": 44,
   "metadata": {},
   "outputs": [
    {
     "data": {
      "text/plain": [
       "9696"
      ]
     },
     "execution_count": 44,
     "metadata": {},
     "output_type": "execute_result"
    }
   ],
   "source": [
    "static.id.nunique()"
   ]
  },
  {
   "cell_type": "code",
   "execution_count": 45,
   "metadata": {},
   "outputs": [
    {
     "data": {
      "text/plain": [
       "9696"
      ]
     },
     "execution_count": 45,
     "metadata": {},
     "output_type": "execute_result"
    }
   ],
   "source": [
    "dynamic.id.nunique()"
   ]
  },
  {
   "cell_type": "code",
   "execution_count": 46,
   "metadata": {},
   "outputs": [
    {
     "data": {
      "text/plain": [
       "9696"
      ]
     },
     "execution_count": 46,
     "metadata": {},
     "output_type": "execute_result"
    }
   ],
   "source": [
    "notes.id.nunique()"
   ]
  },
  {
   "cell_type": "code",
   "execution_count": null,
   "metadata": {},
   "outputs": [],
   "source": []
  }
 ],
 "metadata": {
  "kernelspec": {
   "display_name": "tensorflow",
   "language": "python",
   "name": "python3"
  },
  "language_info": {
   "codemirror_mode": {
    "name": "ipython",
    "version": 3
   },
   "file_extension": ".py",
   "mimetype": "text/x-python",
   "name": "python",
   "nbconvert_exporter": "python",
   "pygments_lexer": "ipython3",
   "version": "3.12.2"
  }
 },
 "nbformat": 4,
 "nbformat_minor": 2
}
