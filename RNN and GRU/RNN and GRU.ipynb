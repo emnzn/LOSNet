{
 "cells": [
  {
   "cell_type": "code",
   "execution_count": 21,
   "id": "dc992f41",
   "metadata": {},
   "outputs": [],
   "source": [
    "import numpy as np\n",
    "from tensorflow.keras.layers import Input, SimpleRNN, Dense, concatenate,BatchNormalization,GRU\n",
    "from tensorflow.keras.models import Model\n",
    "from tensorflow.keras.utils import to_categorical\n",
    "from sklearn.metrics import f1_score, accuracy_score\n",
    "from tensorflow.keras.callbacks import Callback\n",
    "import pandas as pd"
   ]
  },
  {
   "cell_type": "code",
   "execution_count": 47,
   "id": "b9e6f60c",
   "metadata": {},
   "outputs": [
    {
     "name": "stdout",
     "output_type": "stream",
     "text": [
      "(7756, 234, 9)\n"
     ]
    }
   ],
   "source": [
    "from sklearn.preprocessing import StandardScaler\n",
    "#dynamic preprocessing\n",
    "dy_train=pd.read_csv('dynamic_train.csv',index_col=0)\n",
    "max_timesteps = dy_train.groupby('id').size().max()\n",
    "\n",
    "# the number of features\n",
    "num_features = len(dy_train.columns) - 2 \n",
    "# initial an empty array\n",
    "dy_train = dy_train.sort_values('id')\n",
    "grouped = dy_train.groupby('id')\n",
    "\n",
    "data_arrays = []\n",
    "\n",
    "for _, group in grouped:\n",
    "\n",
    "    features = group.iloc[:, 2:].values\n",
    "    \n",
    "    if len(features) < max_timesteps:\n",
    "        padding = np.zeros((max_timesteps - len(features), num_features))\n",
    "        features = np.vstack([features, padding])\n",
    "    \n",
    "    data_arrays.append(features)\n",
    "\n",
    "\n",
    "dy_train_data = np.stack(data_arrays, axis=0)\n",
    "print(dy_train_data.shape)"
   ]
  },
  {
   "cell_type": "code",
   "execution_count": 48,
   "id": "154bbb7a",
   "metadata": {},
   "outputs": [
    {
     "name": "stdout",
     "output_type": "stream",
     "text": [
      "(1940, 234, 9)\n"
     ]
    }
   ],
   "source": [
    "#dynamic preprocessing\n",
    "dy_val=pd.read_csv('dynamic_test.csv',index_col=0)\n",
    "max_timesteps = 234\n",
    "\n",
    "# the number of features\n",
    "num_features = len(dy_val.columns) - 2  \n",
    "\n",
    "# initial an empty array\n",
    "dy_val = dy_val.sort_values('id')\n",
    "grouped = dy_val.groupby('id')\n",
    "\n",
    "data_arrays = []\n",
    "\n",
    "for _, group in grouped:\n",
    "    features = group.iloc[:, 2:].values\n",
    "\n",
    "    if len(features) < max_timesteps:\n",
    "        padding = np.zeros((max_timesteps - len(features), num_features))\n",
    "        features = np.vstack([features, padding])\n",
    "    \n",
    "    data_arrays.append(features)\n",
    "\n",
    "\n",
    "dy_val_data = np.stack(data_arrays, axis=0)\n",
    "\n",
    "print(dy_val_data.shape)"
   ]
  },
  {
   "cell_type": "code",
   "execution_count": 49,
   "id": "725d1804",
   "metadata": {},
   "outputs": [
    {
     "name": "stdout",
     "output_type": "stream",
     "text": [
      "(7756, 234, 9)\n"
     ]
    }
   ],
   "source": [
    "\n",
    "scaler = StandardScaler()\n",
    "\n",
    "for i in range(dy_train_data.shape[2]):\n",
    " \n",
    "    data_reshaped = dy_train_data[:, :, i].reshape(-1, 1)\n",
    "    data_standardized = scaler.fit_transform(data_reshaped)\n",
    "\n",
    "    dy_train_data[:, :, i] = data_standardized.reshape(dy_train_data.shape[0], dy_train_data.shape[1])\n",
    "\n",
    "print(dy_train_data.shape)"
   ]
  },
  {
   "cell_type": "code",
   "execution_count": 50,
   "id": "d3ca1fd6",
   "metadata": {},
   "outputs": [
    {
     "name": "stdout",
     "output_type": "stream",
     "text": [
      "(1940, 234, 9)\n"
     ]
    }
   ],
   "source": [
    "\n",
    "scaler = StandardScaler()\n",
    "for i in range(dy_val_data.shape[2]):\n",
    "    data_reshaped = dy_val_data[:, :, i].reshape(-1, 1)\n",
    "    data_standardized = scaler.fit_transform(data_reshaped)\n",
    "    dy_val_data[:, :, i] = data_standardized.reshape(dy_val_data.shape[0], dy_val_data.shape[1])\n",
    "\n",
    "print(dy_val_data.shape)"
   ]
  },
  {
   "cell_type": "code",
   "execution_count": 51,
   "id": "3be4e904",
   "metadata": {},
   "outputs": [
    {
     "name": "stdout",
     "output_type": "stream",
     "text": [
      "(7756, 66)\n",
      "(7756, 64)\n"
     ]
    },
    {
     "name": "stderr",
     "output_type": "stream",
     "text": [
      "D:\\Anaconda\\Lib\\site-packages\\sklearn\\utils\\validation.py:757: FutureWarning: is_sparse is deprecated and will be removed in a future version. Check `isinstance(dtype, pd.SparseDtype)` instead.\n",
      "  if not hasattr(array, \"sparse\") and array.dtypes.apply(is_sparse).any():\n",
      "D:\\Anaconda\\Lib\\site-packages\\sklearn\\utils\\validation.py:595: FutureWarning: is_sparse is deprecated and will be removed in a future version. Check `isinstance(dtype, pd.SparseDtype)` instead.\n",
      "  if is_sparse(pd_dtype):\n",
      "D:\\Anaconda\\Lib\\site-packages\\sklearn\\utils\\validation.py:604: FutureWarning: is_sparse is deprecated and will be removed in a future version. Check `isinstance(dtype, pd.SparseDtype)` instead.\n",
      "  if is_sparse(pd_dtype) or not is_extension_array_dtype(pd_dtype):\n",
      "D:\\Anaconda\\Lib\\site-packages\\sklearn\\utils\\validation.py:757: FutureWarning: is_sparse is deprecated and will be removed in a future version. Check `isinstance(dtype, pd.SparseDtype)` instead.\n",
      "  if not hasattr(array, \"sparse\") and array.dtypes.apply(is_sparse).any():\n",
      "D:\\Anaconda\\Lib\\site-packages\\sklearn\\utils\\validation.py:595: FutureWarning: is_sparse is deprecated and will be removed in a future version. Check `isinstance(dtype, pd.SparseDtype)` instead.\n",
      "  if is_sparse(pd_dtype):\n",
      "D:\\Anaconda\\Lib\\site-packages\\sklearn\\utils\\validation.py:604: FutureWarning: is_sparse is deprecated and will be removed in a future version. Check `isinstance(dtype, pd.SparseDtype)` instead.\n",
      "  if is_sparse(pd_dtype) or not is_extension_array_dtype(pd_dtype):\n"
     ]
    }
   ],
   "source": [
    "#static\n",
    "st_train=pd.read_csv('st_train_pcs.csv',index_col=0)\n",
    "print(st_train.shape)\n",
    "st_train = st_train.sort_values('id')\n",
    "st_train_data=st_train.drop('id',axis=1)\n",
    "st_train_data=st_train_data.drop('multi_label',axis=1)\n",
    "print(st_train_data.shape)\n",
    "st_train_data = scaler.fit_transform(st_train_data)\n"
   ]
  },
  {
   "cell_type": "code",
   "execution_count": 52,
   "id": "da84cbc4",
   "metadata": {},
   "outputs": [
    {
     "name": "stdout",
     "output_type": "stream",
     "text": [
      "(1940, 66)\n",
      "(1940, 64)\n"
     ]
    },
    {
     "name": "stderr",
     "output_type": "stream",
     "text": [
      "D:\\Anaconda\\Lib\\site-packages\\sklearn\\utils\\validation.py:757: FutureWarning: is_sparse is deprecated and will be removed in a future version. Check `isinstance(dtype, pd.SparseDtype)` instead.\n",
      "  if not hasattr(array, \"sparse\") and array.dtypes.apply(is_sparse).any():\n",
      "D:\\Anaconda\\Lib\\site-packages\\sklearn\\utils\\validation.py:595: FutureWarning: is_sparse is deprecated and will be removed in a future version. Check `isinstance(dtype, pd.SparseDtype)` instead.\n",
      "  if is_sparse(pd_dtype):\n",
      "D:\\Anaconda\\Lib\\site-packages\\sklearn\\utils\\validation.py:604: FutureWarning: is_sparse is deprecated and will be removed in a future version. Check `isinstance(dtype, pd.SparseDtype)` instead.\n",
      "  if is_sparse(pd_dtype) or not is_extension_array_dtype(pd_dtype):\n",
      "D:\\Anaconda\\Lib\\site-packages\\sklearn\\utils\\validation.py:757: FutureWarning: is_sparse is deprecated and will be removed in a future version. Check `isinstance(dtype, pd.SparseDtype)` instead.\n",
      "  if not hasattr(array, \"sparse\") and array.dtypes.apply(is_sparse).any():\n",
      "D:\\Anaconda\\Lib\\site-packages\\sklearn\\utils\\validation.py:595: FutureWarning: is_sparse is deprecated and will be removed in a future version. Check `isinstance(dtype, pd.SparseDtype)` instead.\n",
      "  if is_sparse(pd_dtype):\n",
      "D:\\Anaconda\\Lib\\site-packages\\sklearn\\utils\\validation.py:604: FutureWarning: is_sparse is deprecated and will be removed in a future version. Check `isinstance(dtype, pd.SparseDtype)` instead.\n",
      "  if is_sparse(pd_dtype) or not is_extension_array_dtype(pd_dtype):\n"
     ]
    }
   ],
   "source": [
    "#static\n",
    "st_val=pd.read_csv('st_val_pcs.csv',index_col=0)\n",
    "print(st_val.shape)\n",
    "st_val = st_val.sort_values('id')\n",
    "st_val_data=st_val.drop('id',axis=1)\n",
    "st_val_data=st_val_data.drop('multi_label',axis=1)\n",
    "print(st_val_data.shape)\n",
    "st_val_data = scaler.fit_transform(st_val_data)"
   ]
  },
  {
   "cell_type": "code",
   "execution_count": 80,
   "id": "0953ddc9",
   "metadata": {},
   "outputs": [
    {
     "data": {
      "text/plain": [
       "array([1, 2, 1, ..., 1, 1, 2], dtype=int64)"
      ]
     },
     "execution_count": 80,
     "metadata": {},
     "output_type": "execute_result"
    }
   ],
   "source": [
    "labels=np.array(st_train['multi_label'])\n",
    "labels"
   ]
  },
  {
   "cell_type": "code",
   "execution_count": 81,
   "id": "e3bd13ca",
   "metadata": {},
   "outputs": [
    {
     "data": {
      "text/plain": [
       "array([1, 1, 2, ..., 0, 2, 1], dtype=int64)"
      ]
     },
     "execution_count": 81,
     "metadata": {},
     "output_type": "execute_result"
    }
   ],
   "source": [
    "val_label=np.array(st_val['multi_label'])\n",
    "val_label"
   ]
  },
  {
   "cell_type": "code",
   "execution_count": 76,
   "id": "e391411a",
   "metadata": {},
   "outputs": [],
   "source": [
    "dynamic_data = dy_train_data  \n",
    "static_data = st_train_data \n",
    "\n",
    "\n",
    "train_labels = to_categorical(labels, num_classes=3)\n",
    "val_labels=to_categorical(val_label, num_classes=3)\n",
    "\n",
    "dynamic_input = Input(shape=(234, 9))\n",
    "rnn_output = SimpleRNN(32)(dynamic_input)\n",
    "\n",
    "static_input = Input(shape=(64,))\n",
    "static_norm=BatchNormalization()(static_input)\n",
    "dense_output = Dense(32, activation='relu')(static_norm)\n",
    "#leaky_relu = LeakyReLU(alpha=0.01)(dense_output)\n",
    "\n",
    "merged_features = concatenate([rnn_output, dense_output])\n",
    "output = Dense(3, activation='softmax')(merged_features)\n",
    "model = Model(inputs=[dynamic_input, static_input], outputs=output)"
   ]
  },
  {
   "cell_type": "code",
   "execution_count": 82,
   "id": "a3274506",
   "metadata": {},
   "outputs": [],
   "source": [
    "dynamic_data = dy_train_data  \n",
    "static_data = st_train_data \n",
    "\n",
    "\n",
    "train_labels = to_categorical(labels, num_classes=3)\n",
    "val_labels=to_categorical(val_label, num_classes=3)\n",
    "\n",
    "dynamic_input = Input(shape=(234, 9))\n",
    "rnn_output = GRU(32)(dynamic_input)\n",
    "\n",
    "static_input = Input(shape=(64,))\n",
    "static_norm=BatchNormalization()(static_input)\n",
    "dense_output = Dense(32, activation='relu')(static_norm)\n",
    "#leaky_relu = LeakyReLU(alpha=0.01)(dense_output)\n",
    "\n",
    "merged_features = concatenate([rnn_output, dense_output])\n",
    "output = Dense(3, activation='softmax')(merged_features)\n",
    "model = Model(inputs=[dynamic_input, static_input], outputs=output)"
   ]
  },
  {
   "cell_type": "code",
   "execution_count": 83,
   "id": "e53de5e2",
   "metadata": {},
   "outputs": [],
   "source": [
    "from keras.optimizers import Adamax\n",
    "\n",
    "model.compile(optimizer='adamax', loss='categorical_crossentropy', metrics=['accuracy'])\n"
   ]
  },
  {
   "cell_type": "code",
   "execution_count": 78,
   "id": "b782520c",
   "metadata": {},
   "outputs": [],
   "source": [
    "from sklearn.metrics import balanced_accuracy_score\n",
    "import keras\n",
    "class MetricsCallback(keras.callbacks.Callback):\n",
    "    def __init__(self, train_data, validation_data):\n",
    "        super().__init__()\n",
    "        self.train_data = train_data\n",
    "        self.validation_data = validation_data\n",
    "\n",
    "    def on_epoch_end(self, epoch, logs=None):\n",
    "        val_preds = self.model.predict(self.validation_data[0], verbose=0)\n",
    "        val_preds = np.argmax(val_preds, axis=1)  # Convert predictions from one-hot to label encoding\n",
    "        val_true = np.argmax(self.validation_data[1], axis=1)  # Ensure true labels are also label encoded\n",
    "\n",
    "        # Calculate balanced accuracy\n",
    "        val_balanced_accuracy = balanced_accuracy_score(val_true, val_preds)\n",
    "        print(f\"Epoch {epoch + 1}: Validation Balanced Accuracy = {val_balanced_accuracy}\")"
   ]
  },
  {
   "cell_type": "code",
   "execution_count": 79,
   "id": "2b9c2514",
   "metadata": {
    "scrolled": false
   },
   "outputs": [
    {
     "name": "stdout",
     "output_type": "stream",
     "text": [
      "Epoch 1/50\n",
      "\u001b[1m243/243\u001b[0m \u001b[32m━━━━━━━━━━━━━━━━━━━━\u001b[0m\u001b[37m\u001b[0m \u001b[1m0s\u001b[0m 33ms/step - accuracy: 0.3329 - loss: 1.1791Epoch 1: Validation Balanced Accuracy = 0.3348170595403283\n",
      "\u001b[1m243/243\u001b[0m \u001b[32m━━━━━━━━━━━━━━━━━━━━\u001b[0m\u001b[37m\u001b[0m \u001b[1m15s\u001b[0m 46ms/step - accuracy: 0.3329 - loss: 1.1790 - val_accuracy: 0.3639 - val_loss: 1.1720\n",
      "Epoch 2/50\n",
      "\u001b[1m241/243\u001b[0m \u001b[32m━━━━━━━━━━━━━━━━━━━\u001b[0m\u001b[37m━\u001b[0m \u001b[1m0s\u001b[0m 36ms/step - accuracy: 0.3720 - loss: 1.1133Epoch 2: Validation Balanced Accuracy = 0.3593890834594558\n",
      "\u001b[1m243/243\u001b[0m \u001b[32m━━━━━━━━━━━━━━━━━━━━\u001b[0m\u001b[37m\u001b[0m \u001b[1m10s\u001b[0m 42ms/step - accuracy: 0.3720 - loss: 1.1132 - val_accuracy: 0.3892 - val_loss: 1.1390\n",
      "Epoch 3/50\n",
      "\u001b[1m241/243\u001b[0m \u001b[32m━━━━━━━━━━━━━━━━━━━\u001b[0m\u001b[37m━\u001b[0m \u001b[1m0s\u001b[0m 25ms/step - accuracy: 0.3936 - loss: 1.0914Epoch 3: Validation Balanced Accuracy = 0.3664922997307541\n",
      "\u001b[1m243/243\u001b[0m \u001b[32m━━━━━━━━━━━━━━━━━━━━\u001b[0m\u001b[37m\u001b[0m \u001b[1m7s\u001b[0m 30ms/step - accuracy: 0.3937 - loss: 1.0914 - val_accuracy: 0.3928 - val_loss: 1.1349\n",
      "Epoch 4/50\n",
      "\u001b[1m243/243\u001b[0m \u001b[32m━━━━━━━━━━━━━━━━━━━━\u001b[0m\u001b[37m\u001b[0m \u001b[1m0s\u001b[0m 23ms/step - accuracy: 0.4031 - loss: 1.0833Epoch 4: Validation Balanced Accuracy = 0.3652707574316058\n",
      "\u001b[1m243/243\u001b[0m \u001b[32m━━━━━━━━━━━━━━━━━━━━\u001b[0m\u001b[37m\u001b[0m \u001b[1m8s\u001b[0m 31ms/step - accuracy: 0.4031 - loss: 1.0832 - val_accuracy: 0.4005 - val_loss: 1.1151\n",
      "Epoch 5/50\n",
      "\u001b[1m243/243\u001b[0m \u001b[32m━━━━━━━━━━━━━━━━━━━━\u001b[0m\u001b[37m\u001b[0m \u001b[1m0s\u001b[0m 29ms/step - accuracy: 0.4137 - loss: 1.0783Epoch 5: Validation Balanced Accuracy = 0.37372128228887685\n",
      "\u001b[1m243/243\u001b[0m \u001b[32m━━━━━━━━━━━━━━━━━━━━\u001b[0m\u001b[37m\u001b[0m \u001b[1m9s\u001b[0m 37ms/step - accuracy: 0.4137 - loss: 1.0783 - val_accuracy: 0.4103 - val_loss: 1.1127\n",
      "Epoch 6/50\n",
      "\u001b[1m242/243\u001b[0m \u001b[32m━━━━━━━━━━━━━━━━━━━\u001b[0m\u001b[37m━\u001b[0m \u001b[1m0s\u001b[0m 27ms/step - accuracy: 0.4086 - loss: 1.0745Epoch 6: Validation Balanced Accuracy = 0.3791950044819245\n",
      "\u001b[1m243/243\u001b[0m \u001b[32m━━━━━━━━━━━━━━━━━━━━\u001b[0m\u001b[37m\u001b[0m \u001b[1m9s\u001b[0m 34ms/step - accuracy: 0.4086 - loss: 1.0744 - val_accuracy: 0.4160 - val_loss: 1.1075\n",
      "Epoch 7/50\n",
      "\u001b[1m242/243\u001b[0m \u001b[32m━━━━━━━━━━━━━━━━━━━\u001b[0m\u001b[37m━\u001b[0m \u001b[1m0s\u001b[0m 23ms/step - accuracy: 0.4105 - loss: 1.0726Epoch 7: Validation Balanced Accuracy = 0.37561808716535605\n",
      "\u001b[1m243/243\u001b[0m \u001b[32m━━━━━━━━━━━━━━━━━━━━\u001b[0m\u001b[37m\u001b[0m \u001b[1m8s\u001b[0m 31ms/step - accuracy: 0.4106 - loss: 1.0725 - val_accuracy: 0.4160 - val_loss: 1.1014\n",
      "Epoch 8/50\n",
      "\u001b[1m243/243\u001b[0m \u001b[32m━━━━━━━━━━━━━━━━━━━━\u001b[0m\u001b[37m\u001b[0m \u001b[1m0s\u001b[0m 23ms/step - accuracy: 0.4265 - loss: 1.0667Epoch 8: Validation Balanced Accuracy = 0.37405312581911493\n",
      "\u001b[1m243/243\u001b[0m \u001b[32m━━━━━━━━━━━━━━━━━━━━\u001b[0m\u001b[37m\u001b[0m \u001b[1m7s\u001b[0m 29ms/step - accuracy: 0.4264 - loss: 1.0667 - val_accuracy: 0.4113 - val_loss: 1.1057\n",
      "Epoch 9/50\n",
      "\u001b[1m243/243\u001b[0m \u001b[32m━━━━━━━━━━━━━━━━━━━━\u001b[0m\u001b[37m\u001b[0m \u001b[1m0s\u001b[0m 30ms/step - accuracy: 0.4278 - loss: 1.0661Epoch 9: Validation Balanced Accuracy = 0.38133430146371533\n",
      "\u001b[1m243/243\u001b[0m \u001b[32m━━━━━━━━━━━━━━━━━━━━\u001b[0m\u001b[37m\u001b[0m \u001b[1m9s\u001b[0m 39ms/step - accuracy: 0.4278 - loss: 1.0661 - val_accuracy: 0.4139 - val_loss: 1.1029\n",
      "Epoch 10/50\n",
      "\u001b[1m242/243\u001b[0m \u001b[32m━━━━━━━━━━━━━━━━━━━\u001b[0m\u001b[37m━\u001b[0m \u001b[1m0s\u001b[0m 27ms/step - accuracy: 0.4280 - loss: 1.0658Epoch 10: Validation Balanced Accuracy = 0.38302809077452166\n",
      "\u001b[1m243/243\u001b[0m \u001b[32m━━━━━━━━━━━━━━━━━━━━\u001b[0m\u001b[37m\u001b[0m \u001b[1m8s\u001b[0m 33ms/step - accuracy: 0.4281 - loss: 1.0657 - val_accuracy: 0.4196 - val_loss: 1.1028\n",
      "Epoch 11/50\n",
      "\u001b[1m243/243\u001b[0m \u001b[32m━━━━━━━━━━━━━━━━━━━━\u001b[0m\u001b[37m\u001b[0m \u001b[1m0s\u001b[0m 27ms/step - accuracy: 0.4370 - loss: 1.0541Epoch 11: Validation Balanced Accuracy = 0.3791156125449607\n",
      "\u001b[1m243/243\u001b[0m \u001b[32m━━━━━━━━━━━━━━━━━━━━\u001b[0m\u001b[37m\u001b[0m \u001b[1m9s\u001b[0m 35ms/step - accuracy: 0.4370 - loss: 1.0542 - val_accuracy: 0.4103 - val_loss: 1.1033\n",
      "Epoch 12/50\n",
      "\u001b[1m242/243\u001b[0m \u001b[32m━━━━━━━━━━━━━━━━━━━\u001b[0m\u001b[37m━\u001b[0m \u001b[1m0s\u001b[0m 29ms/step - accuracy: 0.4315 - loss: 1.0584Epoch 12: Validation Balanced Accuracy = 0.3830977349078184\n",
      "\u001b[1m243/243\u001b[0m \u001b[32m━━━━━━━━━━━━━━━━━━━━\u001b[0m\u001b[37m\u001b[0m \u001b[1m11s\u001b[0m 38ms/step - accuracy: 0.4316 - loss: 1.0584 - val_accuracy: 0.4155 - val_loss: 1.1034\n",
      "Epoch 13/50\n",
      "\u001b[1m242/243\u001b[0m \u001b[32m━━━━━━━━━━━━━━━━━━━\u001b[0m\u001b[37m━\u001b[0m \u001b[1m0s\u001b[0m 32ms/step - accuracy: 0.4309 - loss: 1.0631Epoch 13: Validation Balanced Accuracy = 0.3871615002894189\n",
      "\u001b[1m243/243\u001b[0m \u001b[32m━━━━━━━━━━━━━━━━━━━━\u001b[0m\u001b[37m\u001b[0m \u001b[1m10s\u001b[0m 41ms/step - accuracy: 0.4310 - loss: 1.0630 - val_accuracy: 0.4144 - val_loss: 1.1040\n",
      "Epoch 14/50\n",
      "\u001b[1m242/243\u001b[0m \u001b[32m━━━━━━━━━━━━━━━━━━━\u001b[0m\u001b[37m━\u001b[0m \u001b[1m0s\u001b[0m 32ms/step - accuracy: 0.4405 - loss: 1.0526Epoch 14: Validation Balanced Accuracy = 0.38525124571561314\n",
      "\u001b[1m243/243\u001b[0m \u001b[32m━━━━━━━━━━━━━━━━━━━━\u001b[0m\u001b[37m\u001b[0m \u001b[1m10s\u001b[0m 39ms/step - accuracy: 0.4405 - loss: 1.0526 - val_accuracy: 0.4253 - val_loss: 1.1041\n",
      "Epoch 15/50\n",
      "\u001b[1m243/243\u001b[0m \u001b[32m━━━━━━━━━━━━━━━━━━━━\u001b[0m\u001b[37m\u001b[0m \u001b[1m0s\u001b[0m 30ms/step - accuracy: 0.4498 - loss: 1.0479Epoch 15: Validation Balanced Accuracy = 0.38453260850978305\n",
      "\u001b[1m243/243\u001b[0m \u001b[32m━━━━━━━━━━━━━━━━━━━━\u001b[0m\u001b[37m\u001b[0m \u001b[1m10s\u001b[0m 40ms/step - accuracy: 0.4497 - loss: 1.0480 - val_accuracy: 0.4170 - val_loss: 1.1061\n",
      "Epoch 16/50\n",
      "\u001b[1m243/243\u001b[0m \u001b[32m━━━━━━━━━━━━━━━━━━━━\u001b[0m\u001b[37m\u001b[0m \u001b[1m0s\u001b[0m 33ms/step - accuracy: 0.4567 - loss: 1.0458Epoch 16: Validation Balanced Accuracy = 0.38727159677532735\n",
      "\u001b[1m243/243\u001b[0m \u001b[32m━━━━━━━━━━━━━━━━━━━━\u001b[0m\u001b[37m\u001b[0m \u001b[1m11s\u001b[0m 42ms/step - accuracy: 0.4566 - loss: 1.0458 - val_accuracy: 0.4242 - val_loss: 1.1100\n",
      "Epoch 17/50\n",
      "\u001b[1m243/243\u001b[0m \u001b[32m━━━━━━━━━━━━━━━━━━━━\u001b[0m\u001b[37m\u001b[0m \u001b[1m0s\u001b[0m 28ms/step - accuracy: 0.4445 - loss: 1.0509Epoch 17: Validation Balanced Accuracy = 0.3788428754005171\n",
      "\u001b[1m243/243\u001b[0m \u001b[32m━━━━━━━━━━━━━━━━━━━━\u001b[0m\u001b[37m\u001b[0m \u001b[1m9s\u001b[0m 34ms/step - accuracy: 0.4445 - loss: 1.0509 - val_accuracy: 0.4134 - val_loss: 1.1110\n",
      "Epoch 18/50\n",
      "\u001b[1m243/243\u001b[0m \u001b[32m━━━━━━━━━━━━━━━━━━━━\u001b[0m\u001b[37m\u001b[0m \u001b[1m0s\u001b[0m 25ms/step - accuracy: 0.4503 - loss: 1.0470Epoch 18: Validation Balanced Accuracy = 0.3836425070244078\n",
      "\u001b[1m243/243\u001b[0m \u001b[32m━━━━━━━━━━━━━━━━━━━━\u001b[0m\u001b[37m\u001b[0m \u001b[1m7s\u001b[0m 31ms/step - accuracy: 0.4503 - loss: 1.0470 - val_accuracy: 0.4175 - val_loss: 1.1097\n",
      "Epoch 19/50\n",
      "\u001b[1m241/243\u001b[0m \u001b[32m━━━━━━━━━━━━━━━━━━━\u001b[0m\u001b[37m━\u001b[0m \u001b[1m0s\u001b[0m 24ms/step - accuracy: 0.4576 - loss: 1.0423Epoch 19: Validation Balanced Accuracy = 0.37664591251874907\n",
      "\u001b[1m243/243\u001b[0m \u001b[32m━━━━━━━━━━━━━━━━━━━━\u001b[0m\u001b[37m\u001b[0m \u001b[1m8s\u001b[0m 32ms/step - accuracy: 0.4576 - loss: 1.0423 - val_accuracy: 0.4077 - val_loss: 1.1155\n",
      "Epoch 20/50\n",
      "\u001b[1m243/243\u001b[0m \u001b[32m━━━━━━━━━━━━━━━━━━━━\u001b[0m\u001b[37m\u001b[0m \u001b[1m0s\u001b[0m 27ms/step - accuracy: 0.4539 - loss: 1.0420Epoch 20: Validation Balanced Accuracy = 0.37966346699141723\n",
      "\u001b[1m243/243\u001b[0m \u001b[32m━━━━━━━━━━━━━━━━━━━━\u001b[0m\u001b[37m\u001b[0m \u001b[1m8s\u001b[0m 34ms/step - accuracy: 0.4539 - loss: 1.0420 - val_accuracy: 0.4093 - val_loss: 1.1195\n",
      "Epoch 21/50\n",
      "\u001b[1m242/243\u001b[0m \u001b[32m━━━━━━━━━━━━━━━━━━━\u001b[0m\u001b[37m━\u001b[0m \u001b[1m0s\u001b[0m 26ms/step - accuracy: 0.4589 - loss: 1.0433Epoch 21: Validation Balanced Accuracy = 0.3785671127195538\n",
      "\u001b[1m243/243\u001b[0m \u001b[32m━━━━━━━━━━━━━━━━━━━━\u001b[0m\u001b[37m\u001b[0m \u001b[1m8s\u001b[0m 33ms/step - accuracy: 0.4589 - loss: 1.0433 - val_accuracy: 0.4108 - val_loss: 1.1208\n",
      "Epoch 22/50\n",
      "\u001b[1m243/243\u001b[0m \u001b[32m━━━━━━━━━━━━━━━━━━━━\u001b[0m\u001b[37m\u001b[0m \u001b[1m0s\u001b[0m 27ms/step - accuracy: 0.4562 - loss: 1.0445Epoch 22: Validation Balanced Accuracy = 0.37720105716582947\n",
      "\u001b[1m243/243\u001b[0m \u001b[32m━━━━━━━━━━━━━━━━━━━━\u001b[0m\u001b[37m\u001b[0m \u001b[1m10s\u001b[0m 32ms/step - accuracy: 0.4562 - loss: 1.0445 - val_accuracy: 0.4103 - val_loss: 1.1191\n",
      "Epoch 23/50\n",
      "\u001b[1m242/243\u001b[0m \u001b[32m━━━━━━━━━━━━━━━━━━━\u001b[0m\u001b[37m━\u001b[0m \u001b[1m0s\u001b[0m 30ms/step - accuracy: 0.4511 - loss: 1.0439Epoch 23: Validation Balanced Accuracy = 0.3764434339083629\n",
      "\u001b[1m243/243\u001b[0m \u001b[32m━━━━━━━━━━━━━━━━━━━━\u001b[0m\u001b[37m\u001b[0m \u001b[1m10s\u001b[0m 39ms/step - accuracy: 0.4511 - loss: 1.0438 - val_accuracy: 0.4082 - val_loss: 1.1212\n",
      "Epoch 24/50\n",
      "\u001b[1m241/243\u001b[0m \u001b[32m━━━━━━━━━━━━━━━━━━━\u001b[0m\u001b[37m━\u001b[0m \u001b[1m0s\u001b[0m 31ms/step - accuracy: 0.4533 - loss: 1.0456Epoch 24: Validation Balanced Accuracy = 0.3758096253117748\n",
      "\u001b[1m243/243\u001b[0m \u001b[32m━━━━━━━━━━━━━━━━━━━━\u001b[0m\u001b[37m\u001b[0m \u001b[1m10s\u001b[0m 41ms/step - accuracy: 0.4534 - loss: 1.0455 - val_accuracy: 0.4155 - val_loss: 1.1205\n",
      "Epoch 25/50\n",
      "\u001b[1m242/243\u001b[0m \u001b[32m━━━━━━━━━━━━━━━━━━━\u001b[0m\u001b[37m━\u001b[0m \u001b[1m0s\u001b[0m 32ms/step - accuracy: 0.4602 - loss: 1.0388Epoch 25: Validation Balanced Accuracy = 0.370284758127665\n",
      "\u001b[1m243/243\u001b[0m \u001b[32m━━━━━━━━━━━━━━━━━━━━\u001b[0m\u001b[37m\u001b[0m \u001b[1m10s\u001b[0m 41ms/step - accuracy: 0.4601 - loss: 1.0388 - val_accuracy: 0.4021 - val_loss: 1.1239\n"
     ]
    },
    {
     "name": "stdout",
     "output_type": "stream",
     "text": [
      "Epoch 26/50\n",
      "\u001b[1m243/243\u001b[0m \u001b[32m━━━━━━━━━━━━━━━━━━━━\u001b[0m\u001b[37m\u001b[0m \u001b[1m0s\u001b[0m 39ms/step - accuracy: 0.4567 - loss: 1.0345Epoch 26: Validation Balanced Accuracy = 0.37125392627901305\n",
      "\u001b[1m243/243\u001b[0m \u001b[32m━━━━━━━━━━━━━━━━━━━━\u001b[0m\u001b[37m\u001b[0m \u001b[1m11s\u001b[0m 45ms/step - accuracy: 0.4567 - loss: 1.0345 - val_accuracy: 0.4000 - val_loss: 1.1261\n",
      "Epoch 27/50\n",
      "\u001b[1m242/243\u001b[0m \u001b[32m━━━━━━━━━━━━━━━━━━━\u001b[0m\u001b[37m━\u001b[0m \u001b[1m0s\u001b[0m 40ms/step - accuracy: 0.4654 - loss: 1.0303Epoch 27: Validation Balanced Accuracy = 0.36813944105102464\n",
      "\u001b[1m243/243\u001b[0m \u001b[32m━━━━━━━━━━━━━━━━━━━━\u001b[0m\u001b[37m\u001b[0m \u001b[1m11s\u001b[0m 46ms/step - accuracy: 0.4654 - loss: 1.0304 - val_accuracy: 0.3918 - val_loss: 1.1309\n",
      "Epoch 28/50\n",
      "\u001b[1m242/243\u001b[0m \u001b[32m━━━━━━━━━━━━━━━━━━━\u001b[0m\u001b[37m━\u001b[0m \u001b[1m0s\u001b[0m 38ms/step - accuracy: 0.4688 - loss: 1.0388Epoch 28: Validation Balanced Accuracy = 0.36799703947637435\n",
      "\u001b[1m243/243\u001b[0m \u001b[32m━━━━━━━━━━━━━━━━━━━━\u001b[0m\u001b[37m\u001b[0m \u001b[1m11s\u001b[0m 45ms/step - accuracy: 0.4688 - loss: 1.0387 - val_accuracy: 0.4041 - val_loss: 1.1295\n",
      "Epoch 29/50\n",
      "\u001b[1m243/243\u001b[0m \u001b[32m━━━━━━━━━━━━━━━━━━━━\u001b[0m\u001b[37m\u001b[0m \u001b[1m0s\u001b[0m 37ms/step - accuracy: 0.4760 - loss: 1.0294Epoch 29: Validation Balanced Accuracy = 0.3672588085656099\n",
      "\u001b[1m243/243\u001b[0m \u001b[32m━━━━━━━━━━━━━━━━━━━━\u001b[0m\u001b[37m\u001b[0m \u001b[1m11s\u001b[0m 43ms/step - accuracy: 0.4759 - loss: 1.0294 - val_accuracy: 0.3969 - val_loss: 1.1318\n",
      "Epoch 30/50\n",
      "\u001b[1m243/243\u001b[0m \u001b[32m━━━━━━━━━━━━━━━━━━━━\u001b[0m\u001b[37m\u001b[0m \u001b[1m0s\u001b[0m 38ms/step - accuracy: 0.4719 - loss: 1.0249Epoch 30: Validation Balanced Accuracy = 0.368094393600286\n",
      "\u001b[1m243/243\u001b[0m \u001b[32m━━━━━━━━━━━━━━━━━━━━\u001b[0m\u001b[37m\u001b[0m \u001b[1m11s\u001b[0m 45ms/step - accuracy: 0.4719 - loss: 1.0249 - val_accuracy: 0.3974 - val_loss: 1.1335\n",
      "Epoch 31/50\n",
      "\u001b[1m243/243\u001b[0m \u001b[32m━━━━━━━━━━━━━━━━━━━━\u001b[0m\u001b[37m\u001b[0m \u001b[1m0s\u001b[0m 40ms/step - accuracy: 0.4672 - loss: 1.0329Epoch 31: Validation Balanced Accuracy = 0.3670018135045246\n",
      "\u001b[1m243/243\u001b[0m \u001b[32m━━━━━━━━━━━━━━━━━━━━\u001b[0m\u001b[37m\u001b[0m \u001b[1m11s\u001b[0m 46ms/step - accuracy: 0.4672 - loss: 1.0329 - val_accuracy: 0.3985 - val_loss: 1.1356\n",
      "Epoch 32/50\n",
      "\u001b[1m243/243\u001b[0m \u001b[32m━━━━━━━━━━━━━━━━━━━━\u001b[0m\u001b[37m\u001b[0m \u001b[1m0s\u001b[0m 41ms/step - accuracy: 0.4719 - loss: 1.0301Epoch 32: Validation Balanced Accuracy = 0.3673400075636348\n",
      "\u001b[1m243/243\u001b[0m \u001b[32m━━━━━━━━━━━━━━━━━━━━\u001b[0m\u001b[37m\u001b[0m \u001b[1m11s\u001b[0m 47ms/step - accuracy: 0.4718 - loss: 1.0301 - val_accuracy: 0.3943 - val_loss: 1.1427\n",
      "Epoch 33/50\n",
      "\u001b[1m243/243\u001b[0m \u001b[32m━━━━━━━━━━━━━━━━━━━━\u001b[0m\u001b[37m\u001b[0m \u001b[1m0s\u001b[0m 38ms/step - accuracy: 0.4718 - loss: 1.0248Epoch 33: Validation Balanced Accuracy = 0.3648558820271235\n",
      "\u001b[1m243/243\u001b[0m \u001b[32m━━━━━━━━━━━━━━━━━━━━\u001b[0m\u001b[37m\u001b[0m \u001b[1m11s\u001b[0m 45ms/step - accuracy: 0.4718 - loss: 1.0248 - val_accuracy: 0.3866 - val_loss: 1.1474\n",
      "Epoch 34/50\n",
      "\u001b[1m243/243\u001b[0m \u001b[32m━━━━━━━━━━━━━━━━━━━━\u001b[0m\u001b[37m\u001b[0m \u001b[1m0s\u001b[0m 38ms/step - accuracy: 0.4781 - loss: 1.0253Epoch 34: Validation Balanced Accuracy = 0.36067099192410984\n",
      "\u001b[1m243/243\u001b[0m \u001b[32m━━━━━━━━━━━━━━━━━━━━\u001b[0m\u001b[37m\u001b[0m \u001b[1m11s\u001b[0m 45ms/step - accuracy: 0.4781 - loss: 1.0253 - val_accuracy: 0.3876 - val_loss: 1.1472\n",
      "Epoch 35/50\n",
      "\u001b[1m243/243\u001b[0m \u001b[32m━━━━━━━━━━━━━━━━━━━━\u001b[0m\u001b[37m\u001b[0m \u001b[1m0s\u001b[0m 41ms/step - accuracy: 0.4691 - loss: 1.0305Epoch 35: Validation Balanced Accuracy = 0.36375751933596634\n",
      "\u001b[1m243/243\u001b[0m \u001b[32m━━━━━━━━━━━━━━━━━━━━\u001b[0m\u001b[37m\u001b[0m \u001b[1m12s\u001b[0m 49ms/step - accuracy: 0.4691 - loss: 1.0305 - val_accuracy: 0.3923 - val_loss: 1.1473\n",
      "Epoch 36/50\n",
      "\u001b[1m242/243\u001b[0m \u001b[32m━━━━━━━━━━━━━━━━━━━\u001b[0m\u001b[37m━\u001b[0m \u001b[1m0s\u001b[0m 42ms/step - accuracy: 0.4773 - loss: 1.0239Epoch 36: Validation Balanced Accuracy = 0.35960668975243965\n",
      "\u001b[1m243/243\u001b[0m \u001b[32m━━━━━━━━━━━━━━━━━━━━\u001b[0m\u001b[37m\u001b[0m \u001b[1m12s\u001b[0m 48ms/step - accuracy: 0.4773 - loss: 1.0239 - val_accuracy: 0.3856 - val_loss: 1.1462\n",
      "Epoch 37/50\n",
      "\u001b[1m243/243\u001b[0m \u001b[32m━━━━━━━━━━━━━━━━━━━━\u001b[0m\u001b[37m\u001b[0m \u001b[1m0s\u001b[0m 40ms/step - accuracy: 0.4759 - loss: 1.0244Epoch 37: Validation Balanced Accuracy = 0.3613956234096314\n",
      "\u001b[1m243/243\u001b[0m \u001b[32m━━━━━━━━━━━━━━━━━━━━\u001b[0m\u001b[37m\u001b[0m \u001b[1m20s\u001b[0m 46ms/step - accuracy: 0.4759 - loss: 1.0244 - val_accuracy: 0.3845 - val_loss: 1.1491\n",
      "Epoch 38/50\n",
      "\u001b[1m243/243\u001b[0m \u001b[32m━━━━━━━━━━━━━━━━━━━━\u001b[0m\u001b[37m\u001b[0m \u001b[1m0s\u001b[0m 38ms/step - accuracy: 0.4800 - loss: 1.0186Epoch 38: Validation Balanced Accuracy = 0.36528039164857745\n",
      "\u001b[1m243/243\u001b[0m \u001b[32m━━━━━━━━━━━━━━━━━━━━\u001b[0m\u001b[37m\u001b[0m \u001b[1m11s\u001b[0m 44ms/step - accuracy: 0.4800 - loss: 1.0186 - val_accuracy: 0.3964 - val_loss: 1.1515\n",
      "Epoch 39/50\n",
      "\u001b[1m242/243\u001b[0m \u001b[32m━━━━━━━━━━━━━━━━━━━\u001b[0m\u001b[37m━\u001b[0m \u001b[1m0s\u001b[0m 38ms/step - accuracy: 0.4812 - loss: 1.0187Epoch 39: Validation Balanced Accuracy = 0.35790814528952675\n",
      "\u001b[1m243/243\u001b[0m \u001b[32m━━━━━━━━━━━━━━━━━━━━\u001b[0m\u001b[37m\u001b[0m \u001b[1m11s\u001b[0m 44ms/step - accuracy: 0.4811 - loss: 1.0188 - val_accuracy: 0.3835 - val_loss: 1.1546\n",
      "Epoch 40/50\n",
      "\u001b[1m242/243\u001b[0m \u001b[32m━━━━━━━━━━━━━━━━━━━\u001b[0m\u001b[37m━\u001b[0m \u001b[1m0s\u001b[0m 40ms/step - accuracy: 0.4859 - loss: 1.0127Epoch 40: Validation Balanced Accuracy = 0.3572374158539435\n",
      "\u001b[1m243/243\u001b[0m \u001b[32m━━━━━━━━━━━━━━━━━━━━\u001b[0m\u001b[37m\u001b[0m \u001b[1m12s\u001b[0m 50ms/step - accuracy: 0.4859 - loss: 1.0127 - val_accuracy: 0.3840 - val_loss: 1.1590\n",
      "Epoch 41/50\n",
      "\u001b[1m243/243\u001b[0m \u001b[32m━━━━━━━━━━━━━━━━━━━━\u001b[0m\u001b[37m\u001b[0m \u001b[1m0s\u001b[0m 38ms/step - accuracy: 0.4728 - loss: 1.0234Epoch 41: Validation Balanced Accuracy = 0.3600044032398726\n",
      "\u001b[1m243/243\u001b[0m \u001b[32m━━━━━━━━━━━━━━━━━━━━\u001b[0m\u001b[37m\u001b[0m \u001b[1m11s\u001b[0m 45ms/step - accuracy: 0.4729 - loss: 1.0234 - val_accuracy: 0.3830 - val_loss: 1.1615\n",
      "Epoch 42/50\n",
      "\u001b[1m242/243\u001b[0m \u001b[32m━━━━━━━━━━━━━━━━━━━\u001b[0m\u001b[37m━\u001b[0m \u001b[1m0s\u001b[0m 44ms/step - accuracy: 0.4828 - loss: 1.0201Epoch 42: Validation Balanced Accuracy = 0.35984585686539877\n",
      "\u001b[1m243/243\u001b[0m \u001b[32m━━━━━━━━━━━━━━━━━━━━\u001b[0m\u001b[37m\u001b[0m \u001b[1m12s\u001b[0m 51ms/step - accuracy: 0.4827 - loss: 1.0201 - val_accuracy: 0.3887 - val_loss: 1.1589\n",
      "Epoch 43/50\n",
      "\u001b[1m242/243\u001b[0m \u001b[32m━━━━━━━━━━━━━━━━━━━\u001b[0m\u001b[37m━\u001b[0m \u001b[1m0s\u001b[0m 36ms/step - accuracy: 0.4845 - loss: 1.0169Epoch 43: Validation Balanced Accuracy = 0.3582893009346078\n",
      "\u001b[1m243/243\u001b[0m \u001b[32m━━━━━━━━━━━━━━━━━━━━\u001b[0m\u001b[37m\u001b[0m \u001b[1m10s\u001b[0m 42ms/step - accuracy: 0.4845 - loss: 1.0170 - val_accuracy: 0.3768 - val_loss: 1.1680\n",
      "Epoch 44/50\n",
      "\u001b[1m243/243\u001b[0m \u001b[32m━━━━━━━━━━━━━━━━━━━━\u001b[0m\u001b[37m\u001b[0m \u001b[1m0s\u001b[0m 39ms/step - accuracy: 0.4821 - loss: 1.0145Epoch 44: Validation Balanced Accuracy = 0.3546146267776628\n",
      "\u001b[1m243/243\u001b[0m \u001b[32m━━━━━━━━━━━━━━━━━━━━\u001b[0m\u001b[37m\u001b[0m \u001b[1m11s\u001b[0m 45ms/step - accuracy: 0.4821 - loss: 1.0145 - val_accuracy: 0.3753 - val_loss: 1.1646\n",
      "Epoch 45/50\n",
      "\u001b[1m242/243\u001b[0m \u001b[32m━━━━━━━━━━━━━━━━━━━\u001b[0m\u001b[37m━\u001b[0m \u001b[1m0s\u001b[0m 36ms/step - accuracy: 0.4737 - loss: 1.0231Epoch 45: Validation Balanced Accuracy = 0.36721797931169103\n",
      "\u001b[1m243/243\u001b[0m \u001b[32m━━━━━━━━━━━━━━━━━━━━\u001b[0m\u001b[37m\u001b[0m \u001b[1m10s\u001b[0m 42ms/step - accuracy: 0.4737 - loss: 1.0231 - val_accuracy: 0.3985 - val_loss: 1.1666\n",
      "Epoch 46/50\n",
      "\u001b[1m243/243\u001b[0m \u001b[32m━━━━━━━━━━━━━━━━━━━━\u001b[0m\u001b[37m\u001b[0m \u001b[1m0s\u001b[0m 37ms/step - accuracy: 0.4968 - loss: 1.0107Epoch 46: Validation Balanced Accuracy = 0.3573370572008554\n",
      "\u001b[1m243/243\u001b[0m \u001b[32m━━━━━━━━━━━━━━━━━━━━\u001b[0m\u001b[37m\u001b[0m \u001b[1m11s\u001b[0m 44ms/step - accuracy: 0.4968 - loss: 1.0107 - val_accuracy: 0.3784 - val_loss: 1.1658\n",
      "Epoch 47/50\n",
      "\u001b[1m242/243\u001b[0m \u001b[32m━━━━━━━━━━━━━━━━━━━\u001b[0m\u001b[37m━\u001b[0m \u001b[1m0s\u001b[0m 39ms/step - accuracy: 0.4751 - loss: 1.0249Epoch 47: Validation Balanced Accuracy = 0.3662883341672662\n",
      "\u001b[1m243/243\u001b[0m \u001b[32m━━━━━━━━━━━━━━━━━━━━\u001b[0m\u001b[37m\u001b[0m \u001b[1m11s\u001b[0m 45ms/step - accuracy: 0.4752 - loss: 1.0248 - val_accuracy: 0.3948 - val_loss: 1.1692\n",
      "Epoch 48/50\n",
      "\u001b[1m243/243\u001b[0m \u001b[32m━━━━━━━━━━━━━━━━━━━━\u001b[0m\u001b[37m\u001b[0m \u001b[1m0s\u001b[0m 37ms/step - accuracy: 0.4868 - loss: 1.0201Epoch 48: Validation Balanced Accuracy = 0.36232621855187125\n",
      "\u001b[1m243/243\u001b[0m \u001b[32m━━━━━━━━━━━━━━━━━━━━\u001b[0m\u001b[37m\u001b[0m \u001b[1m11s\u001b[0m 45ms/step - accuracy: 0.4868 - loss: 1.0201 - val_accuracy: 0.3861 - val_loss: 1.1747\n",
      "Epoch 49/50\n",
      "\u001b[1m242/243\u001b[0m \u001b[32m━━━━━━━━━━━━━━━━━━━\u001b[0m\u001b[37m━\u001b[0m \u001b[1m0s\u001b[0m 37ms/step - accuracy: 0.4897 - loss: 1.0163Epoch 49: Validation Balanced Accuracy = 0.36679420800375634\n",
      "\u001b[1m243/243\u001b[0m \u001b[32m━━━━━━━━━━━━━━━━━━━━\u001b[0m\u001b[37m\u001b[0m \u001b[1m11s\u001b[0m 44ms/step - accuracy: 0.4896 - loss: 1.0163 - val_accuracy: 0.3933 - val_loss: 1.1719\n",
      "Epoch 50/50\n",
      "\u001b[1m243/243\u001b[0m \u001b[32m━━━━━━━━━━━━━━━━━━━━\u001b[0m\u001b[37m\u001b[0m \u001b[1m0s\u001b[0m 38ms/step - accuracy: 0.4875 - loss: 1.0142Epoch 50: Validation Balanced Accuracy = 0.36571057027873183\n",
      "\u001b[1m243/243\u001b[0m \u001b[32m━━━━━━━━━━━━━━━━━━━━\u001b[0m\u001b[37m\u001b[0m \u001b[1m11s\u001b[0m 44ms/step - accuracy: 0.4874 - loss: 1.0142 - val_accuracy: 0.3876 - val_loss: 1.1758\n"
     ]
    },
    {
     "name": "stdout",
     "output_type": "stream",
     "text": [
      "\u001b[1m61/61\u001b[0m \u001b[32m━━━━━━━━━━━━━━━━━━━━\u001b[0m\u001b[37m\u001b[0m \u001b[1m1s\u001b[0m 16ms/step\n"
     ]
    },
    {
     "data": {
      "image/png": "[encoded data removed]",
      "text/plain": [
       "<Figure size 1000x700 with 2 Axes>"
      ]
     },
     "metadata": {},
     "output_type": "display_data"
    }
   ],
   "source": [
    "#alive and dead RNN\n",
    "from tensorflow.keras.callbacks import ModelCheckpoint\n",
    "from sklearn.metrics import confusion_matrix\n",
    "import numpy as np\n",
    "import matplotlib.pyplot as plt\n",
    "import seaborn as sns\n",
    "\n",
    "checkpoint_callback = ModelCheckpoint(\n",
    "    'best_model.keras',  \n",
    "    monitor='val_loss', \n",
    "    save_best_only=True,  \n",
    "    mode='min'  \n",
    ")\n",
    "labels = ['1 to 2 days ', '2 to 4 days', '4+ days'] \n",
    "train_data = ([dynamic_data, static_data], train_labels)\n",
    "val_data = ([dy_val_data, st_val_data], val_labels)\n",
    "metrics_callback = MetricsCallback(train_data=train_data , validation_data=val_data)\n",
    "\n",
    "model.fit(\n",
    "    [dynamic_data, static_data],  # Training data\n",
    "    train_labels,  # Training labels\n",
    "    validation_data=([dy_val_data, st_val_data], val_labels),  # Validation data\n",
    "    epochs=50,  # Number of epochs to train\n",
    "    batch_size=32,  # Size of the batches of data\n",
    "    callbacks=[metrics_callback, checkpoint_callback]  # List of callbacks including the ModelCheckpoint\n",
    ")\n",
    "\n",
    "\n",
    "from tensorflow.keras.models import load_model\n",
    "best_model = load_model('best_model.keras')\n",
    "\n",
    "\n",
    "predictions = best_model.predict([dy_val_data, st_val_data])\n",
    "predicted_labels = np.argmax(predictions, axis=1)\n",
    "\n",
    "# Check if val_labels are one-hot encoded and convert if necessary\n",
    "if val_labels.ndim > 1:  # This checks if val_labels are one-hot encoded\n",
    "    val_labels = np.argmax(val_labels, axis=1)\n",
    "\n",
    "# Compute the confusion matrix\n",
    "conf_matrix = confusion_matrix(val_labels, predicted_labels)\n",
    "plt.figure(figsize=(10,7))\n",
    "sns.heatmap(conf_matrix, annot=True, fmt='d', cmap='Blues', xticklabels=labels, yticklabels=labels)\n",
    "plt.xlabel('Predicted Label')\n",
    "plt.ylabel('Actual Label')\n",
    "plt.title('Confusion Matrix for RNN model in combined dataset')\n",
    "plt.show()"
   ]
  },
  {
   "cell_type": "code",
   "execution_count": 84,
   "id": "1d12ef35",
   "metadata": {
    "scrolled": false
   },
   "outputs": [
    {
     "name": "stdout",
     "output_type": "stream",
     "text": [
      "Epoch 1/50\n",
      "\u001b[1m243/243\u001b[0m \u001b[32m━━━━━━━━━━━━━━━━━━━━\u001b[0m\u001b[37m\u001b[0m \u001b[1m0s\u001b[0m 93ms/step - accuracy: 0.3601 - loss: 1.1455Epoch 1: Validation Balanced Accuracy = 0.3429411568875131\n",
      "\u001b[1m243/243\u001b[0m \u001b[32m━━━━━━━━━━━━━━━━━━━━\u001b[0m\u001b[37m\u001b[0m \u001b[1m31s\u001b[0m 110ms/step - accuracy: 0.3601 - loss: 1.1454 - val_accuracy: 0.3727 - val_loss: 1.1596\n",
      "Epoch 2/50\n",
      "\u001b[1m243/243\u001b[0m \u001b[32m━━━━━━━━━━━━━━━━━━━━\u001b[0m\u001b[37m\u001b[0m \u001b[1m0s\u001b[0m 89ms/step - accuracy: 0.3946 - loss: 1.0971Epoch 2: Validation Balanced Accuracy = 0.3529878381279723\n",
      "\u001b[1m243/243\u001b[0m \u001b[32m━━━━━━━━━━━━━━━━━━━━\u001b[0m\u001b[37m\u001b[0m \u001b[1m24s\u001b[0m 101ms/step - accuracy: 0.3946 - loss: 1.0971 - val_accuracy: 0.3897 - val_loss: 1.1419\n",
      "Epoch 3/50\n",
      "\u001b[1m243/243\u001b[0m \u001b[32m━━━━━━━━━━━━━━━━━━━━\u001b[0m\u001b[37m\u001b[0m \u001b[1m0s\u001b[0m 90ms/step - accuracy: 0.4079 - loss: 1.0883Epoch 3: Validation Balanced Accuracy = 0.35487275254266915\n",
      "\u001b[1m243/243\u001b[0m \u001b[32m━━━━━━━━━━━━━━━━━━━━\u001b[0m\u001b[37m\u001b[0m \u001b[1m26s\u001b[0m 108ms/step - accuracy: 0.4079 - loss: 1.0882 - val_accuracy: 0.3974 - val_loss: 1.1304\n",
      "Epoch 4/50\n",
      "\u001b[1m243/243\u001b[0m \u001b[32m━━━━━━━━━━━━━━━━━━━━\u001b[0m\u001b[37m\u001b[0m \u001b[1m0s\u001b[0m 89ms/step - accuracy: 0.4188 - loss: 1.0732Epoch 4: Validation Balanced Accuracy = 0.3565481872761258\n",
      "\u001b[1m243/243\u001b[0m \u001b[32m━━━━━━━━━━━━━━━━━━━━\u001b[0m\u001b[37m\u001b[0m \u001b[1m26s\u001b[0m 106ms/step - accuracy: 0.4188 - loss: 1.0732 - val_accuracy: 0.3964 - val_loss: 1.1290\n",
      "Epoch 5/50\n",
      "\u001b[1m243/243\u001b[0m \u001b[32m━━━━━━━━━━━━━━━━━━━━\u001b[0m\u001b[37m\u001b[0m \u001b[1m0s\u001b[0m 88ms/step - accuracy: 0.4176 - loss: 1.0728Epoch 5: Validation Balanced Accuracy = 0.3657217482421529\n",
      "\u001b[1m243/243\u001b[0m \u001b[32m━━━━━━━━━━━━━━━━━━━━\u001b[0m\u001b[37m\u001b[0m \u001b[1m26s\u001b[0m 107ms/step - accuracy: 0.4176 - loss: 1.0728 - val_accuracy: 0.4046 - val_loss: 1.1217\n",
      "Epoch 6/50\n",
      "\u001b[1m243/243\u001b[0m \u001b[32m━━━━━━━━━━━━━━━━━━━━\u001b[0m\u001b[37m\u001b[0m \u001b[1m0s\u001b[0m 86ms/step - accuracy: 0.4190 - loss: 1.0699Epoch 6: Validation Balanced Accuracy = 0.3620455561539165\n",
      "\u001b[1m243/243\u001b[0m \u001b[32m━━━━━━━━━━━━━━━━━━━━\u001b[0m\u001b[37m\u001b[0m \u001b[1m25s\u001b[0m 105ms/step - accuracy: 0.4190 - loss: 1.0699 - val_accuracy: 0.4057 - val_loss: 1.1237\n",
      "Epoch 7/50\n",
      "\u001b[1m243/243\u001b[0m \u001b[32m━━━━━━━━━━━━━━━━━━━━\u001b[0m\u001b[37m\u001b[0m \u001b[1m0s\u001b[0m 92ms/step - accuracy: 0.4238 - loss: 1.0694Epoch 7: Validation Balanced Accuracy = 0.3635403157594477\n",
      "\u001b[1m243/243\u001b[0m \u001b[32m━━━━━━━━━━━━━━━━━━━━\u001b[0m\u001b[37m\u001b[0m \u001b[1m25s\u001b[0m 104ms/step - accuracy: 0.4238 - loss: 1.0694 - val_accuracy: 0.4041 - val_loss: 1.1203\n",
      "Epoch 8/50\n",
      "\u001b[1m243/243\u001b[0m \u001b[32m━━━━━━━━━━━━━━━━━━━━\u001b[0m\u001b[37m\u001b[0m \u001b[1m0s\u001b[0m 91ms/step - accuracy: 0.4322 - loss: 1.0673Epoch 8: Validation Balanced Accuracy = 0.3605330563717964\n",
      "\u001b[1m243/243\u001b[0m \u001b[32m━━━━━━━━━━━━━━━━━━━━\u001b[0m\u001b[37m\u001b[0m \u001b[1m41s\u001b[0m 105ms/step - accuracy: 0.4322 - loss: 1.0673 - val_accuracy: 0.4021 - val_loss: 1.1200\n",
      "Epoch 9/50\n",
      "\u001b[1m243/243\u001b[0m \u001b[32m━━━━━━━━━━━━━━━━━━━━\u001b[0m\u001b[37m\u001b[0m \u001b[1m0s\u001b[0m 85ms/step - accuracy: 0.4258 - loss: 1.0661Epoch 9: Validation Balanced Accuracy = 0.3584436859056093\n",
      "\u001b[1m243/243\u001b[0m \u001b[32m━━━━━━━━━━━━━━━━━━━━\u001b[0m\u001b[37m\u001b[0m \u001b[1m24s\u001b[0m 98ms/step - accuracy: 0.4258 - loss: 1.0661 - val_accuracy: 0.3979 - val_loss: 1.1267\n",
      "Epoch 10/50\n",
      "\u001b[1m243/243\u001b[0m \u001b[32m━━━━━━━━━━━━━━━━━━━━\u001b[0m\u001b[37m\u001b[0m \u001b[1m0s\u001b[0m 93ms/step - accuracy: 0.4295 - loss: 1.0614Epoch 10: Validation Balanced Accuracy = 0.35616675282733806\n",
      "\u001b[1m243/243\u001b[0m \u001b[32m━━━━━━━━━━━━━━━━━━━━\u001b[0m\u001b[37m\u001b[0m \u001b[1m26s\u001b[0m 105ms/step - accuracy: 0.4295 - loss: 1.0614 - val_accuracy: 0.3979 - val_loss: 1.1244\n",
      "Epoch 11/50\n",
      "\u001b[1m243/243\u001b[0m \u001b[32m━━━━━━━━━━━━━━━━━━━━\u001b[0m\u001b[37m\u001b[0m \u001b[1m0s\u001b[0m 95ms/step - accuracy: 0.4403 - loss: 1.0549Epoch 11: Validation Balanced Accuracy = 0.3649494877900911\n",
      "\u001b[1m243/243\u001b[0m \u001b[32m━━━━━━━━━━━━━━━━━━━━\u001b[0m\u001b[37m\u001b[0m \u001b[1m42s\u001b[0m 110ms/step - accuracy: 0.4403 - loss: 1.0550 - val_accuracy: 0.4041 - val_loss: 1.1212\n",
      "Epoch 12/50\n",
      "\u001b[1m243/243\u001b[0m \u001b[32m━━━━━━━━━━━━━━━━━━━━\u001b[0m\u001b[37m\u001b[0m \u001b[1m0s\u001b[0m 105ms/step - accuracy: 0.4354 - loss: 1.0574Epoch 12: Validation Balanced Accuracy = 0.3577244239729553\n",
      "\u001b[1m243/243\u001b[0m \u001b[32m━━━━━━━━━━━━━━━━━━━━\u001b[0m\u001b[37m\u001b[0m \u001b[1m29s\u001b[0m 118ms/step - accuracy: 0.4354 - loss: 1.0574 - val_accuracy: 0.3990 - val_loss: 1.1144\n",
      "Epoch 13/50\n",
      "\u001b[1m243/243\u001b[0m \u001b[32m━━━━━━━━━━━━━━━━━━━━\u001b[0m\u001b[37m\u001b[0m \u001b[1m0s\u001b[0m 94ms/step - accuracy: 0.4383 - loss: 1.0533Epoch 13: Validation Balanced Accuracy = 0.36445271121528594\n",
      "\u001b[1m243/243\u001b[0m \u001b[32m━━━━━━━━━━━━━━━━━━━━\u001b[0m\u001b[37m\u001b[0m \u001b[1m26s\u001b[0m 108ms/step - accuracy: 0.4383 - loss: 1.0533 - val_accuracy: 0.4010 - val_loss: 1.1185\n",
      "Epoch 14/50\n",
      "\u001b[1m243/243\u001b[0m \u001b[32m━━━━━━━━━━━━━━━━━━━━\u001b[0m\u001b[37m\u001b[0m \u001b[1m0s\u001b[0m 93ms/step - accuracy: 0.4508 - loss: 1.0540Epoch 14: Validation Balanced Accuracy = 0.35940694754880326\n",
      "\u001b[1m243/243\u001b[0m \u001b[32m━━━━━━━━━━━━━━━━━━━━\u001b[0m\u001b[37m\u001b[0m \u001b[1m26s\u001b[0m 108ms/step - accuracy: 0.4508 - loss: 1.0540 - val_accuracy: 0.3974 - val_loss: 1.1258\n",
      "Epoch 15/50\n",
      "\u001b[1m243/243\u001b[0m \u001b[32m━━━━━━━━━━━━━━━━━━━━\u001b[0m\u001b[37m\u001b[0m \u001b[1m0s\u001b[0m 85ms/step - accuracy: 0.4432 - loss: 1.0512Epoch 15: Validation Balanced Accuracy = 0.3615984169649453\n",
      "\u001b[1m243/243\u001b[0m \u001b[32m━━━━━━━━━━━━━━━━━━━━\u001b[0m\u001b[37m\u001b[0m \u001b[1m39s\u001b[0m 98ms/step - accuracy: 0.4432 - loss: 1.0512 - val_accuracy: 0.4021 - val_loss: 1.1190\n",
      "Epoch 16/50\n",
      "\u001b[1m243/243\u001b[0m \u001b[32m━━━━━━━━━━━━━━━━━━━━\u001b[0m\u001b[37m\u001b[0m \u001b[1m0s\u001b[0m 86ms/step - accuracy: 0.4489 - loss: 1.0500Epoch 16: Validation Balanced Accuracy = 0.36760790178443453\n",
      "\u001b[1m243/243\u001b[0m \u001b[32m━━━━━━━━━━━━━━━━━━━━\u001b[0m\u001b[37m\u001b[0m \u001b[1m25s\u001b[0m 103ms/step - accuracy: 0.4489 - loss: 1.0500 - val_accuracy: 0.4046 - val_loss: 1.1236\n",
      "Epoch 17/50\n",
      "\u001b[1m243/243\u001b[0m \u001b[32m━━━━━━━━━━━━━━━━━━━━\u001b[0m\u001b[37m\u001b[0m \u001b[1m0s\u001b[0m 93ms/step - accuracy: 0.4425 - loss: 1.0529Epoch 17: Validation Balanced Accuracy = 0.3615736653914392\n",
      "\u001b[1m243/243\u001b[0m \u001b[32m━━━━━━━━━━━━━━━━━━━━\u001b[0m\u001b[37m\u001b[0m \u001b[1m26s\u001b[0m 106ms/step - accuracy: 0.4425 - loss: 1.0529 - val_accuracy: 0.3985 - val_loss: 1.1211\n",
      "Epoch 18/50\n",
      "\u001b[1m243/243\u001b[0m \u001b[32m━━━━━━━━━━━━━━━━━━━━\u001b[0m\u001b[37m\u001b[0m \u001b[1m0s\u001b[0m 90ms/step - accuracy: 0.4490 - loss: 1.0486Epoch 18: Validation Balanced Accuracy = 0.36358507408041657\n",
      "\u001b[1m243/243\u001b[0m \u001b[32m━━━━━━━━━━━━━━━━━━━━\u001b[0m\u001b[37m\u001b[0m \u001b[1m26s\u001b[0m 108ms/step - accuracy: 0.4490 - loss: 1.0486 - val_accuracy: 0.4041 - val_loss: 1.1222\n",
      "Epoch 19/50\n",
      "\u001b[1m243/243\u001b[0m \u001b[32m━━━━━━━━━━━━━━━━━━━━\u001b[0m\u001b[37m\u001b[0m \u001b[1m0s\u001b[0m 92ms/step - accuracy: 0.4624 - loss: 1.0393Epoch 19: Validation Balanced Accuracy = 0.3615242293638377\n",
      "\u001b[1m243/243\u001b[0m \u001b[32m━━━━━━━━━━━━━━━━━━━━\u001b[0m\u001b[37m\u001b[0m \u001b[1m26s\u001b[0m 106ms/step - accuracy: 0.4624 - loss: 1.0393 - val_accuracy: 0.4031 - val_loss: 1.1334\n",
      "Epoch 20/50\n",
      "\u001b[1m243/243\u001b[0m \u001b[32m━━━━━━━━━━━━━━━━━━━━\u001b[0m\u001b[37m\u001b[0m \u001b[1m0s\u001b[0m 84ms/step - accuracy: 0.4595 - loss: 1.0445Epoch 20: Validation Balanced Accuracy = 0.36507983368594776\n",
      "\u001b[1m243/243\u001b[0m \u001b[32m━━━━━━━━━━━━━━━━━━━━\u001b[0m\u001b[37m\u001b[0m \u001b[1m40s\u001b[0m 102ms/step - accuracy: 0.4594 - loss: 1.0445 - val_accuracy: 0.4026 - val_loss: 1.1367\n",
      "Epoch 21/50\n",
      "\u001b[1m243/243\u001b[0m \u001b[32m━━━━━━━━━━━━━━━━━━━━\u001b[0m\u001b[37m\u001b[0m \u001b[1m0s\u001b[0m 86ms/step - accuracy: 0.4450 - loss: 1.0474Epoch 21: Validation Balanced Accuracy = 0.3614875873285492\n",
      "\u001b[1m243/243\u001b[0m \u001b[32m━━━━━━━━━━━━━━━━━━━━\u001b[0m\u001b[37m\u001b[0m \u001b[1m24s\u001b[0m 100ms/step - accuracy: 0.4450 - loss: 1.0474 - val_accuracy: 0.4015 - val_loss: 1.1307\n",
      "Epoch 22/50\n",
      "\u001b[1m243/243\u001b[0m \u001b[32m━━━━━━━━━━━━━━━━━━━━\u001b[0m\u001b[37m\u001b[0m \u001b[1m0s\u001b[0m 77ms/step - accuracy: 0.4582 - loss: 1.0376Epoch 22: Validation Balanced Accuracy = 0.3657603986967352\n",
      "\u001b[1m243/243\u001b[0m \u001b[32m━━━━━━━━━━━━━━━━━━━━\u001b[0m\u001b[37m\u001b[0m \u001b[1m22s\u001b[0m 91ms/step - accuracy: 0.4582 - loss: 1.0377 - val_accuracy: 0.4021 - val_loss: 1.1342\n",
      "Epoch 23/50\n",
      "\u001b[1m243/243\u001b[0m \u001b[32m━━━━━━━━━━━━━━━━━━━━\u001b[0m\u001b[37m\u001b[0m \u001b[1m0s\u001b[0m 86ms/step - accuracy: 0.4561 - loss: 1.0456Epoch 23: Validation Balanced Accuracy = 0.361638141330101\n",
      "\u001b[1m243/243\u001b[0m \u001b[32m━━━━━━━━━━━━━━━━━━━━\u001b[0m\u001b[37m\u001b[0m \u001b[1m24s\u001b[0m 100ms/step - accuracy: 0.4562 - loss: 1.0456 - val_accuracy: 0.4005 - val_loss: 1.1315\n",
      "Epoch 24/50\n",
      "\u001b[1m243/243\u001b[0m \u001b[32m━━━━━━━━━━━━━━━━━━━━\u001b[0m\u001b[37m\u001b[0m \u001b[1m0s\u001b[0m 85ms/step - accuracy: 0.4563 - loss: 1.0415Epoch 24: Validation Balanced Accuracy = 0.36720400298514094\n",
      "\u001b[1m243/243\u001b[0m \u001b[32m━━━━━━━━━━━━━━━━━━━━\u001b[0m\u001b[37m\u001b[0m \u001b[1m25s\u001b[0m 103ms/step - accuracy: 0.4563 - loss: 1.0415 - val_accuracy: 0.4036 - val_loss: 1.1274\n",
      "Epoch 25/50\n",
      "\u001b[1m243/243\u001b[0m \u001b[32m━━━━━━━━━━━━━━━━━━━━\u001b[0m\u001b[37m\u001b[0m \u001b[1m0s\u001b[0m 74ms/step - accuracy: 0.4677 - loss: 1.0393Epoch 25: Validation Balanced Accuracy = 0.3700655874361054\n",
      "\u001b[1m243/243\u001b[0m \u001b[32m━━━━━━━━━━━━━━━━━━━━\u001b[0m\u001b[37m\u001b[0m \u001b[1m21s\u001b[0m 87ms/step - accuracy: 0.4677 - loss: 1.0393 - val_accuracy: 0.4062 - val_loss: 1.1310\n"
     ]
    },
    {
     "name": "stdout",
     "output_type": "stream",
     "text": [
      "Epoch 26/50\n",
      "\u001b[1m243/243\u001b[0m \u001b[32m━━━━━━━━━━━━━━━━━━━━\u001b[0m\u001b[37m\u001b[0m \u001b[1m0s\u001b[0m 100ms/step - accuracy: 0.4628 - loss: 1.0367Epoch 26: Validation Balanced Accuracy = 0.3662503755589189\n",
      "\u001b[1m243/243\u001b[0m \u001b[32m━━━━━━━━━━━━━━━━━━━━\u001b[0m\u001b[37m\u001b[0m \u001b[1m27s\u001b[0m 111ms/step - accuracy: 0.4628 - loss: 1.0367 - val_accuracy: 0.4000 - val_loss: 1.1299\n",
      "Epoch 27/50\n",
      "\u001b[1m243/243\u001b[0m \u001b[32m━━━━━━━━━━━━━━━━━━━━\u001b[0m\u001b[37m\u001b[0m \u001b[1m0s\u001b[0m 102ms/step - accuracy: 0.4648 - loss: 1.0414Epoch 27: Validation Balanced Accuracy = 0.3728719635901359\n",
      "\u001b[1m243/243\u001b[0m \u001b[32m━━━━━━━━━━━━━━━━━━━━\u001b[0m\u001b[37m\u001b[0m \u001b[1m42s\u001b[0m 115ms/step - accuracy: 0.4648 - loss: 1.0414 - val_accuracy: 0.4072 - val_loss: 1.1337\n",
      "Epoch 28/50\n",
      "\u001b[1m243/243\u001b[0m \u001b[32m━━━━━━━━━━━━━━━━━━━━\u001b[0m\u001b[37m\u001b[0m \u001b[1m0s\u001b[0m 95ms/step - accuracy: 0.4764 - loss: 1.0340Epoch 28: Validation Balanced Accuracy = 0.3692213956277466\n",
      "\u001b[1m243/243\u001b[0m \u001b[32m━━━━━━━━━━━━━━━━━━━━\u001b[0m\u001b[37m\u001b[0m \u001b[1m26s\u001b[0m 108ms/step - accuracy: 0.4763 - loss: 1.0340 - val_accuracy: 0.4088 - val_loss: 1.1344\n",
      "Epoch 29/50\n",
      "\u001b[1m243/243\u001b[0m \u001b[32m━━━━━━━━━━━━━━━━━━━━\u001b[0m\u001b[37m\u001b[0m \u001b[1m0s\u001b[0m 91ms/step - accuracy: 0.4715 - loss: 1.0363Epoch 29: Validation Balanced Accuracy = 0.37193751682632\n",
      "\u001b[1m243/243\u001b[0m \u001b[32m━━━━━━━━━━━━━━━━━━━━\u001b[0m\u001b[37m\u001b[0m \u001b[1m26s\u001b[0m 109ms/step - accuracy: 0.4715 - loss: 1.0363 - val_accuracy: 0.4052 - val_loss: 1.1454\n",
      "Epoch 30/50\n",
      "\u001b[1m243/243\u001b[0m \u001b[32m━━━━━━━━━━━━━━━━━━━━\u001b[0m\u001b[37m\u001b[0m \u001b[1m0s\u001b[0m 92ms/step - accuracy: 0.4693 - loss: 1.0351Epoch 30: Validation Balanced Accuracy = 0.3709459307917505\n",
      "\u001b[1m243/243\u001b[0m \u001b[32m━━━━━━━━━━━━━━━━━━━━\u001b[0m\u001b[37m\u001b[0m \u001b[1m26s\u001b[0m 107ms/step - accuracy: 0.4693 - loss: 1.0351 - val_accuracy: 0.4067 - val_loss: 1.1396\n",
      "Epoch 31/50\n",
      "\u001b[1m243/243\u001b[0m \u001b[32m━━━━━━━━━━━━━━━━━━━━\u001b[0m\u001b[37m\u001b[0m \u001b[1m0s\u001b[0m 85ms/step - accuracy: 0.4702 - loss: 1.0318Epoch 31: Validation Balanced Accuracy = 0.36635694053121065\n",
      "\u001b[1m243/243\u001b[0m \u001b[32m━━━━━━━━━━━━━━━━━━━━\u001b[0m\u001b[37m\u001b[0m \u001b[1m23s\u001b[0m 96ms/step - accuracy: 0.4702 - loss: 1.0318 - val_accuracy: 0.4026 - val_loss: 1.1516\n",
      "Epoch 32/50\n",
      "\u001b[1m243/243\u001b[0m \u001b[32m━━━━━━━━━━━━━━━━━━━━\u001b[0m\u001b[37m\u001b[0m \u001b[1m0s\u001b[0m 83ms/step - accuracy: 0.4753 - loss: 1.0272Epoch 32: Validation Balanced Accuracy = 0.370939533795594\n",
      "\u001b[1m243/243\u001b[0m \u001b[32m━━━━━━━━━━━━━━━━━━━━\u001b[0m\u001b[37m\u001b[0m \u001b[1m24s\u001b[0m 101ms/step - accuracy: 0.4752 - loss: 1.0272 - val_accuracy: 0.4098 - val_loss: 1.1526\n",
      "Epoch 33/50\n",
      "\u001b[1m243/243\u001b[0m \u001b[32m━━━━━━━━━━━━━━━━━━━━\u001b[0m\u001b[37m\u001b[0m \u001b[1m0s\u001b[0m 90ms/step - accuracy: 0.4635 - loss: 1.0352Epoch 33: Validation Balanced Accuracy = 0.3653992497991168\n",
      "\u001b[1m243/243\u001b[0m \u001b[32m━━━━━━━━━━━━━━━━━━━━\u001b[0m\u001b[37m\u001b[0m \u001b[1m26s\u001b[0m 108ms/step - accuracy: 0.4635 - loss: 1.0352 - val_accuracy: 0.4052 - val_loss: 1.1500\n",
      "Epoch 34/50\n",
      "\u001b[1m243/243\u001b[0m \u001b[32m━━━━━━━━━━━━━━━━━━━━\u001b[0m\u001b[37m\u001b[0m \u001b[1m0s\u001b[0m 82ms/step - accuracy: 0.4637 - loss: 1.0359Epoch 34: Validation Balanced Accuracy = 0.37121756304743103\n",
      "\u001b[1m243/243\u001b[0m \u001b[32m━━━━━━━━━━━━━━━━━━━━\u001b[0m\u001b[37m\u001b[0m \u001b[1m23s\u001b[0m 93ms/step - accuracy: 0.4637 - loss: 1.0359 - val_accuracy: 0.4036 - val_loss: 1.1559\n",
      "Epoch 35/50\n",
      "\u001b[1m243/243\u001b[0m \u001b[32m━━━━━━━━━━━━━━━━━━━━\u001b[0m\u001b[37m\u001b[0m \u001b[1m0s\u001b[0m 92ms/step - accuracy: 0.4578 - loss: 1.0332Epoch 35: Validation Balanced Accuracy = 0.3697664568741057\n",
      "\u001b[1m243/243\u001b[0m \u001b[32m━━━━━━━━━━━━━━━━━━━━\u001b[0m\u001b[37m\u001b[0m \u001b[1m26s\u001b[0m 107ms/step - accuracy: 0.4578 - loss: 1.0332 - val_accuracy: 0.4052 - val_loss: 1.1467\n",
      "Epoch 36/50\n",
      "\u001b[1m243/243\u001b[0m \u001b[32m━━━━━━━━━━━━━━━━━━━━\u001b[0m\u001b[37m\u001b[0m \u001b[1m0s\u001b[0m 99ms/step - accuracy: 0.4718 - loss: 1.0255Epoch 36: Validation Balanced Accuracy = 0.3727541225568225\n",
      "\u001b[1m243/243\u001b[0m \u001b[32m━━━━━━━━━━━━━━━━━━━━\u001b[0m\u001b[37m\u001b[0m \u001b[1m44s\u001b[0m 118ms/step - accuracy: 0.4718 - loss: 1.0255 - val_accuracy: 0.4082 - val_loss: 1.1543\n",
      "Epoch 37/50\n",
      "\u001b[1m243/243\u001b[0m \u001b[32m━━━━━━━━━━━━━━━━━━━━\u001b[0m\u001b[37m\u001b[0m \u001b[1m0s\u001b[0m 92ms/step - accuracy: 0.4736 - loss: 1.0292Epoch 37: Validation Balanced Accuracy = 0.36425670704653035\n",
      "\u001b[1m243/243\u001b[0m \u001b[32m━━━━━━━━━━━━━━━━━━━━\u001b[0m\u001b[37m\u001b[0m \u001b[1m27s\u001b[0m 110ms/step - accuracy: 0.4736 - loss: 1.0292 - val_accuracy: 0.3995 - val_loss: 1.1548\n",
      "Epoch 38/50\n",
      "\u001b[1m243/243\u001b[0m \u001b[32m━━━━━━━━━━━━━━━━━━━━\u001b[0m\u001b[37m\u001b[0m \u001b[1m0s\u001b[0m 96ms/step - accuracy: 0.4752 - loss: 1.0249Epoch 38: Validation Balanced Accuracy = 0.3695021251451121\n",
      "\u001b[1m243/243\u001b[0m \u001b[32m━━━━━━━━━━━━━━━━━━━━\u001b[0m\u001b[37m\u001b[0m \u001b[1m27s\u001b[0m 109ms/step - accuracy: 0.4752 - loss: 1.0249 - val_accuracy: 0.4010 - val_loss: 1.1559\n",
      "Epoch 39/50\n",
      "\u001b[1m243/243\u001b[0m \u001b[32m━━━━━━━━━━━━━━━━━━━━\u001b[0m\u001b[37m\u001b[0m \u001b[1m0s\u001b[0m 91ms/step - accuracy: 0.4830 - loss: 1.0202Epoch 39: Validation Balanced Accuracy = 0.37136311407135936\n",
      "\u001b[1m243/243\u001b[0m \u001b[32m━━━━━━━━━━━━━━━━━━━━\u001b[0m\u001b[37m\u001b[0m \u001b[1m39s\u001b[0m 102ms/step - accuracy: 0.4829 - loss: 1.0202 - val_accuracy: 0.4000 - val_loss: 1.1564\n",
      "Epoch 40/50\n",
      "\u001b[1m243/243\u001b[0m \u001b[32m━━━━━━━━━━━━━━━━━━━━\u001b[0m\u001b[37m\u001b[0m \u001b[1m0s\u001b[0m 100ms/step - accuracy: 0.4674 - loss: 1.0322Epoch 40: Validation Balanced Accuracy = 0.3723866644345848\n",
      "\u001b[1m243/243\u001b[0m \u001b[32m━━━━━━━━━━━━━━━━━━━━\u001b[0m\u001b[37m\u001b[0m \u001b[1m28s\u001b[0m 115ms/step - accuracy: 0.4674 - loss: 1.0322 - val_accuracy: 0.4046 - val_loss: 1.1696\n",
      "Epoch 41/50\n",
      "\u001b[1m243/243\u001b[0m \u001b[32m━━━━━━━━━━━━━━━━━━━━\u001b[0m\u001b[37m\u001b[0m \u001b[1m0s\u001b[0m 104ms/step - accuracy: 0.4729 - loss: 1.0219Epoch 41: Validation Balanced Accuracy = 0.37191235221028557\n",
      "\u001b[1m243/243\u001b[0m \u001b[32m━━━━━━━━━━━━━━━━━━━━\u001b[0m\u001b[37m\u001b[0m \u001b[1m41s\u001b[0m 116ms/step - accuracy: 0.4729 - loss: 1.0219 - val_accuracy: 0.4041 - val_loss: 1.1606\n",
      "Epoch 42/50\n",
      "\u001b[1m243/243\u001b[0m \u001b[32m━━━━━━━━━━━━━━━━━━━━\u001b[0m\u001b[37m\u001b[0m \u001b[1m0s\u001b[0m 91ms/step - accuracy: 0.4738 - loss: 1.0239Epoch 42: Validation Balanced Accuracy = 0.36764470903673446\n",
      "\u001b[1m243/243\u001b[0m \u001b[32m━━━━━━━━━━━━━━━━━━━━\u001b[0m\u001b[37m\u001b[0m \u001b[1m25s\u001b[0m 105ms/step - accuracy: 0.4738 - loss: 1.0238 - val_accuracy: 0.3974 - val_loss: 1.1618\n",
      "Epoch 43/50\n",
      "\u001b[1m243/243\u001b[0m \u001b[32m━━━━━━━━━━━━━━━━━━━━\u001b[0m\u001b[37m\u001b[0m \u001b[1m0s\u001b[0m 88ms/step - accuracy: 0.4821 - loss: 1.0211Epoch 43: Validation Balanced Accuracy = 0.3618890285247996\n",
      "\u001b[1m243/243\u001b[0m \u001b[32m━━━━━━━━━━━━━━━━━━━━\u001b[0m\u001b[37m\u001b[0m \u001b[1m24s\u001b[0m 99ms/step - accuracy: 0.4821 - loss: 1.0211 - val_accuracy: 0.3964 - val_loss: 1.1650\n",
      "Epoch 44/50\n",
      "\u001b[1m243/243\u001b[0m \u001b[32m━━━━━━━━━━━━━━━━━━━━\u001b[0m\u001b[37m\u001b[0m \u001b[1m0s\u001b[0m 85ms/step - accuracy: 0.4863 - loss: 1.0190Epoch 44: Validation Balanced Accuracy = 0.36384502755861053\n",
      "\u001b[1m243/243\u001b[0m \u001b[32m━━━━━━━━━━━━━━━━━━━━\u001b[0m\u001b[37m\u001b[0m \u001b[1m24s\u001b[0m 97ms/step - accuracy: 0.4862 - loss: 1.0190 - val_accuracy: 0.3964 - val_loss: 1.1776\n",
      "Epoch 45/50\n",
      "\u001b[1m243/243\u001b[0m \u001b[32m━━━━━━━━━━━━━━━━━━━━\u001b[0m\u001b[37m\u001b[0m \u001b[1m0s\u001b[0m 86ms/step - accuracy: 0.4824 - loss: 1.0154Epoch 45: Validation Balanced Accuracy = 0.3618253786711943\n",
      "\u001b[1m243/243\u001b[0m \u001b[32m━━━━━━━━━━━━━━━━━━━━\u001b[0m\u001b[37m\u001b[0m \u001b[1m24s\u001b[0m 98ms/step - accuracy: 0.4824 - loss: 1.0154 - val_accuracy: 0.3892 - val_loss: 1.1700\n",
      "Epoch 46/50\n",
      "\u001b[1m243/243\u001b[0m \u001b[32m━━━━━━━━━━━━━━━━━━━━\u001b[0m\u001b[37m\u001b[0m \u001b[1m0s\u001b[0m 85ms/step - accuracy: 0.4840 - loss: 1.0174Epoch 46: Validation Balanced Accuracy = 0.3719213720264965\n",
      "\u001b[1m243/243\u001b[0m \u001b[32m━━━━━━━━━━━━━━━━━━━━\u001b[0m\u001b[37m\u001b[0m \u001b[1m24s\u001b[0m 98ms/step - accuracy: 0.4840 - loss: 1.0174 - val_accuracy: 0.3985 - val_loss: 1.1834\n",
      "Epoch 47/50\n",
      "\u001b[1m243/243\u001b[0m \u001b[32m━━━━━━━━━━━━━━━━━━━━\u001b[0m\u001b[37m\u001b[0m \u001b[1m0s\u001b[0m 92ms/step - accuracy: 0.4789 - loss: 1.0234Epoch 47: Validation Balanced Accuracy = 0.368593256039859\n",
      "\u001b[1m243/243\u001b[0m \u001b[32m━━━━━━━━━━━━━━━━━━━━\u001b[0m\u001b[37m\u001b[0m \u001b[1m25s\u001b[0m 105ms/step - accuracy: 0.4789 - loss: 1.0234 - val_accuracy: 0.3974 - val_loss: 1.1813\n",
      "Epoch 48/50\n",
      "\u001b[1m243/243\u001b[0m \u001b[32m━━━━━━━━━━━━━━━━━━━━\u001b[0m\u001b[37m\u001b[0m \u001b[1m0s\u001b[0m 94ms/step - accuracy: 0.4784 - loss: 1.0227Epoch 48: Validation Balanced Accuracy = 0.36066852399500354\n",
      "\u001b[1m243/243\u001b[0m \u001b[32m━━━━━━━━━━━━━━━━━━━━\u001b[0m\u001b[37m\u001b[0m \u001b[1m42s\u001b[0m 108ms/step - accuracy: 0.4784 - loss: 1.0227 - val_accuracy: 0.3923 - val_loss: 1.1697\n",
      "Epoch 49/50\n",
      "\u001b[1m243/243\u001b[0m \u001b[32m━━━━━━━━━━━━━━━━━━━━\u001b[0m\u001b[37m\u001b[0m \u001b[1m0s\u001b[0m 84ms/step - accuracy: 0.4746 - loss: 1.0228Epoch 49: Validation Balanced Accuracy = 0.3629963232606304\n",
      "\u001b[1m243/243\u001b[0m \u001b[32m━━━━━━━━━━━━━━━━━━━━\u001b[0m\u001b[37m\u001b[0m \u001b[1m23s\u001b[0m 95ms/step - accuracy: 0.4746 - loss: 1.0228 - val_accuracy: 0.3948 - val_loss: 1.1688\n",
      "Epoch 50/50\n",
      "\u001b[1m243/243\u001b[0m \u001b[32m━━━━━━━━━━━━━━━━━━━━\u001b[0m\u001b[37m\u001b[0m \u001b[1m0s\u001b[0m 86ms/step - accuracy: 0.4843 - loss: 1.0140Epoch 50: Validation Balanced Accuracy = 0.3687999218688754\n",
      "\u001b[1m243/243\u001b[0m \u001b[32m━━━━━━━━━━━━━━━━━━━━\u001b[0m\u001b[37m\u001b[0m \u001b[1m23s\u001b[0m 96ms/step - accuracy: 0.4842 - loss: 1.0140 - val_accuracy: 0.3938 - val_loss: 1.1752\n"
     ]
    },
    {
     "name": "stdout",
     "output_type": "stream",
     "text": [
      "\u001b[1m61/61\u001b[0m \u001b[32m━━━━━━━━━━━━━━━━━━━━\u001b[0m\u001b[37m\u001b[0m \u001b[1m2s\u001b[0m 25ms/step\n"
     ]
    },
    {
     "data": {
      "image/png": "[encoded data removed]",
      "text/plain": [
       "<Figure size 1000x700 with 2 Axes>"
      ]
     },
     "metadata": {},
     "output_type": "display_data"
    }
   ],
   "source": [
    "#alive and dead GRU\n",
    "from tensorflow.keras.callbacks import ModelCheckpoint\n",
    "from sklearn.metrics import confusion_matrix\n",
    "import numpy as np\n",
    "import matplotlib.pyplot as plt\n",
    "import seaborn as sns\n",
    "\n",
    "checkpoint_callback = ModelCheckpoint(\n",
    "    'best_model.keras',  \n",
    "    monitor='val_loss',  \n",
    "    save_best_only=True,\n",
    "    mode='min'  \n",
    ")\n",
    "labels = ['1 to 2 days ', '2 to 4 days', '4+ days'] \n",
    "train_data = ([dynamic_data, static_data], train_labels)\n",
    "val_data = ([dy_val_data, st_val_data], val_labels)\n",
    "metrics_callback = MetricsCallback(train_data=train_data , validation_data=val_data)\n",
    "\n",
    "model.fit(\n",
    "    [dynamic_data, static_data],  # Training data\n",
    "    train_labels,  # Training labels\n",
    "    validation_data=([dy_val_data, st_val_data], val_labels),  # Validation data\n",
    "    epochs=50,  # Number of epochs to train\n",
    "    batch_size=32,  # Size of the batches of data\n",
    "    callbacks=[metrics_callback, checkpoint_callback]  # List of callbacks including the ModelCheckpoint\n",
    ")\n",
    "\n",
    "\n",
    "from tensorflow.keras.models import load_model\n",
    "best_model = load_model('best_model.keras')\n",
    "\n",
    "\n",
    "predictions = best_model.predict([dy_val_data, st_val_data])\n",
    "predicted_labels = np.argmax(predictions, axis=1)\n",
    "\n",
    "# Check if val_labels are one-hot encoded and convert if necessary\n",
    "if val_labels.ndim > 1:  # This checks if val_labels are one-hot encoded\n",
    "    val_labels = np.argmax(val_labels, axis=1)\n",
    "\n",
    "# Compute the confusion matrix\n",
    "conf_matrix = confusion_matrix(val_labels, predicted_labels)\n",
    "plt.figure(figsize=(10,7))\n",
    "sns.heatmap(conf_matrix, annot=True, fmt='d', cmap='Blues', xticklabels=labels, yticklabels=labels)\n",
    "plt.xlabel('Predicted Label')\n",
    "plt.ylabel('Actual Label')\n",
    "plt.title('Confusion Matrix for GRU model in combined dataset')\n",
    "plt.show()"
   ]
  },
  {
   "cell_type": "code",
   "execution_count": null,
   "id": "8d14f5c5",
   "metadata": {},
   "outputs": [],
   "source": []
  }
 ],
 "metadata": {
  "kernelspec": {
   "display_name": "Python 3 (ipykernel)",
   "language": "python",
   "name": "python3"
  },
  "language_info": {
   "codemirror_mode": {
    "name": "ipython",
    "version": 3
   },
   "file_extension": ".py",
   "mimetype": "text/x-python",
   "name": "python",
   "nbconvert_exporter": "python",
   "pygments_lexer": "ipython3",
   "version": "3.11.3"
  }
 },
 "nbformat": 4,
 "nbformat_minor": 5
}
